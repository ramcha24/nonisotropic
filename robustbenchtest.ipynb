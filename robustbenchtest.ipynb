{
 "cells": [
  {
   "cell_type": "code",
   "execution_count": 1,
   "metadata": {},
   "outputs": [],
   "source": [
    "from models.utils import load_model\n",
    "# from robustbench.utils import clean_accuracy\n",
    "# from robustbench.data import load_cifar10\n",
    "# from robustbench.data import load_cifar10c\n",
    "# from robustbench.data import load_cifar100c"
   ]
  },
  {
   "cell_type": "code",
   "execution_count": 2,
   "metadata": {},
   "outputs": [],
   "source": [
    "# !pip install -q git+https://github.com/fra31/auto-attack\n",
    "from autoattack import AutoAttack\n",
    "\n",
    "# !pip install -q foolbox  # produces 2 incompatibility messages, but they can be just ignored\n",
    "import foolbox as fb"
   ]
  },
  {
   "cell_type": "code",
   "execution_count": 2,
   "metadata": {},
   "outputs": [
    {
     "name": "stdout",
     "output_type": "stream",
     "text": [
      "Downloading models/pretrained/cifar10/robustbenchmark/Linf/Carmon2019Unlabeled.pt (gdrive_id=15tUx-gkZMYx7BfEOw1GY5OKC-jECIsPQ).\n"
     ]
    },
    {
     "name": "stderr",
     "output_type": "stream",
     "text": [
      "Downloading...\n",
      "From: https://drive.google.com/uc?id=15tUx-gkZMYx7BfEOw1GY5OKC-jECIsPQ\n",
      "To: /cis/home/rmuthuk1/nonisotropic/models/pretrained/cifar10/robustbenchmark/Linf/Carmon2019Unlabeled.pt\n",
      "100%|██████████| 153M/153M [00:02<00:00, 54.3MB/s] \n"
     ]
    }
   ],
   "source": [
    "model = load_model(model_name='Carmon2019Unlabeled', dataset=\"cifar10\", threat_model='Linf')\n",
    "#model = load_model(model_name=\"Kang2021Stable\", threat_model=\"Linf\")"
   ]
  },
  {
   "cell_type": "code",
   "execution_count": 4,
   "metadata": {},
   "outputs": [
    {
     "data": {
      "text/plain": [
       "WideResNet(\n",
       "  (conv1): Conv2d(3, 16, kernel_size=(3, 3), stride=(1, 1), padding=(1, 1), bias=False)\n",
       "  (block1): NetworkBlock(\n",
       "    (layer): Sequential(\n",
       "      (0): BasicBlock(\n",
       "        (bn1): BatchNorm2d(16, eps=1e-05, momentum=0.1, affine=True, track_running_stats=True)\n",
       "        (relu1): ReLU(inplace=True)\n",
       "        (conv1): Conv2d(16, 160, kernel_size=(3, 3), stride=(1, 1), padding=(1, 1), bias=False)\n",
       "        (bn2): BatchNorm2d(160, eps=1e-05, momentum=0.1, affine=True, track_running_stats=True)\n",
       "        (relu2): ReLU(inplace=True)\n",
       "        (conv2): Conv2d(160, 160, kernel_size=(3, 3), stride=(1, 1), padding=(1, 1), bias=False)\n",
       "        (convShortcut): Conv2d(16, 160, kernel_size=(1, 1), stride=(1, 1), bias=False)\n",
       "      )\n",
       "      (1): BasicBlock(\n",
       "        (bn1): BatchNorm2d(160, eps=1e-05, momentum=0.1, affine=True, track_running_stats=True)\n",
       "        (relu1): ReLU(inplace=True)\n",
       "        (conv1): Conv2d(160, 160, kernel_size=(3, 3), stride=(1, 1), padding=(1, 1), bias=False)\n",
       "        (bn2): BatchNorm2d(160, eps=1e-05, momentum=0.1, affine=True, track_running_stats=True)\n",
       "        (relu2): ReLU(inplace=True)\n",
       "        (conv2): Conv2d(160, 160, kernel_size=(3, 3), stride=(1, 1), padding=(1, 1), bias=False)\n",
       "      )\n",
       "      (2): BasicBlock(\n",
       "        (bn1): BatchNorm2d(160, eps=1e-05, momentum=0.1, affine=True, track_running_stats=True)\n",
       "        (relu1): ReLU(inplace=True)\n",
       "        (conv1): Conv2d(160, 160, kernel_size=(3, 3), stride=(1, 1), padding=(1, 1), bias=False)\n",
       "        (bn2): BatchNorm2d(160, eps=1e-05, momentum=0.1, affine=True, track_running_stats=True)\n",
       "        (relu2): ReLU(inplace=True)\n",
       "        (conv2): Conv2d(160, 160, kernel_size=(3, 3), stride=(1, 1), padding=(1, 1), bias=False)\n",
       "      )\n",
       "      (3): BasicBlock(\n",
       "        (bn1): BatchNorm2d(160, eps=1e-05, momentum=0.1, affine=True, track_running_stats=True)\n",
       "        (relu1): ReLU(inplace=True)\n",
       "        (conv1): Conv2d(160, 160, kernel_size=(3, 3), stride=(1, 1), padding=(1, 1), bias=False)\n",
       "        (bn2): BatchNorm2d(160, eps=1e-05, momentum=0.1, affine=True, track_running_stats=True)\n",
       "        (relu2): ReLU(inplace=True)\n",
       "        (conv2): Conv2d(160, 160, kernel_size=(3, 3), stride=(1, 1), padding=(1, 1), bias=False)\n",
       "      )\n",
       "    )\n",
       "  )\n",
       "  (sub_block1): NetworkBlock(\n",
       "    (layer): Sequential(\n",
       "      (0): BasicBlock(\n",
       "        (bn1): BatchNorm2d(16, eps=1e-05, momentum=0.1, affine=True, track_running_stats=True)\n",
       "        (relu1): ReLU(inplace=True)\n",
       "        (conv1): Conv2d(16, 160, kernel_size=(3, 3), stride=(1, 1), padding=(1, 1), bias=False)\n",
       "        (bn2): BatchNorm2d(160, eps=1e-05, momentum=0.1, affine=True, track_running_stats=True)\n",
       "        (relu2): ReLU(inplace=True)\n",
       "        (conv2): Conv2d(160, 160, kernel_size=(3, 3), stride=(1, 1), padding=(1, 1), bias=False)\n",
       "        (convShortcut): Conv2d(16, 160, kernel_size=(1, 1), stride=(1, 1), bias=False)\n",
       "      )\n",
       "      (1): BasicBlock(\n",
       "        (bn1): BatchNorm2d(160, eps=1e-05, momentum=0.1, affine=True, track_running_stats=True)\n",
       "        (relu1): ReLU(inplace=True)\n",
       "        (conv1): Conv2d(160, 160, kernel_size=(3, 3), stride=(1, 1), padding=(1, 1), bias=False)\n",
       "        (bn2): BatchNorm2d(160, eps=1e-05, momentum=0.1, affine=True, track_running_stats=True)\n",
       "        (relu2): ReLU(inplace=True)\n",
       "        (conv2): Conv2d(160, 160, kernel_size=(3, 3), stride=(1, 1), padding=(1, 1), bias=False)\n",
       "      )\n",
       "      (2): BasicBlock(\n",
       "        (bn1): BatchNorm2d(160, eps=1e-05, momentum=0.1, affine=True, track_running_stats=True)\n",
       "        (relu1): ReLU(inplace=True)\n",
       "        (conv1): Conv2d(160, 160, kernel_size=(3, 3), stride=(1, 1), padding=(1, 1), bias=False)\n",
       "        (bn2): BatchNorm2d(160, eps=1e-05, momentum=0.1, affine=True, track_running_stats=True)\n",
       "        (relu2): ReLU(inplace=True)\n",
       "        (conv2): Conv2d(160, 160, kernel_size=(3, 3), stride=(1, 1), padding=(1, 1), bias=False)\n",
       "      )\n",
       "      (3): BasicBlock(\n",
       "        (bn1): BatchNorm2d(160, eps=1e-05, momentum=0.1, affine=True, track_running_stats=True)\n",
       "        (relu1): ReLU(inplace=True)\n",
       "        (conv1): Conv2d(160, 160, kernel_size=(3, 3), stride=(1, 1), padding=(1, 1), bias=False)\n",
       "        (bn2): BatchNorm2d(160, eps=1e-05, momentum=0.1, affine=True, track_running_stats=True)\n",
       "        (relu2): ReLU(inplace=True)\n",
       "        (conv2): Conv2d(160, 160, kernel_size=(3, 3), stride=(1, 1), padding=(1, 1), bias=False)\n",
       "      )\n",
       "    )\n",
       "  )\n",
       "  (block2): NetworkBlock(\n",
       "    (layer): Sequential(\n",
       "      (0): BasicBlock(\n",
       "        (bn1): BatchNorm2d(160, eps=1e-05, momentum=0.1, affine=True, track_running_stats=True)\n",
       "        (relu1): ReLU(inplace=True)\n",
       "        (conv1): Conv2d(160, 320, kernel_size=(3, 3), stride=(2, 2), padding=(1, 1), bias=False)\n",
       "        (bn2): BatchNorm2d(320, eps=1e-05, momentum=0.1, affine=True, track_running_stats=True)\n",
       "        (relu2): ReLU(inplace=True)\n",
       "        (conv2): Conv2d(320, 320, kernel_size=(3, 3), stride=(1, 1), padding=(1, 1), bias=False)\n",
       "        (convShortcut): Conv2d(160, 320, kernel_size=(1, 1), stride=(2, 2), bias=False)\n",
       "      )\n",
       "      (1): BasicBlock(\n",
       "        (bn1): BatchNorm2d(320, eps=1e-05, momentum=0.1, affine=True, track_running_stats=True)\n",
       "        (relu1): ReLU(inplace=True)\n",
       "        (conv1): Conv2d(320, 320, kernel_size=(3, 3), stride=(1, 1), padding=(1, 1), bias=False)\n",
       "        (bn2): BatchNorm2d(320, eps=1e-05, momentum=0.1, affine=True, track_running_stats=True)\n",
       "        (relu2): ReLU(inplace=True)\n",
       "        (conv2): Conv2d(320, 320, kernel_size=(3, 3), stride=(1, 1), padding=(1, 1), bias=False)\n",
       "      )\n",
       "      (2): BasicBlock(\n",
       "        (bn1): BatchNorm2d(320, eps=1e-05, momentum=0.1, affine=True, track_running_stats=True)\n",
       "        (relu1): ReLU(inplace=True)\n",
       "        (conv1): Conv2d(320, 320, kernel_size=(3, 3), stride=(1, 1), padding=(1, 1), bias=False)\n",
       "        (bn2): BatchNorm2d(320, eps=1e-05, momentum=0.1, affine=True, track_running_stats=True)\n",
       "        (relu2): ReLU(inplace=True)\n",
       "        (conv2): Conv2d(320, 320, kernel_size=(3, 3), stride=(1, 1), padding=(1, 1), bias=False)\n",
       "      )\n",
       "      (3): BasicBlock(\n",
       "        (bn1): BatchNorm2d(320, eps=1e-05, momentum=0.1, affine=True, track_running_stats=True)\n",
       "        (relu1): ReLU(inplace=True)\n",
       "        (conv1): Conv2d(320, 320, kernel_size=(3, 3), stride=(1, 1), padding=(1, 1), bias=False)\n",
       "        (bn2): BatchNorm2d(320, eps=1e-05, momentum=0.1, affine=True, track_running_stats=True)\n",
       "        (relu2): ReLU(inplace=True)\n",
       "        (conv2): Conv2d(320, 320, kernel_size=(3, 3), stride=(1, 1), padding=(1, 1), bias=False)\n",
       "      )\n",
       "    )\n",
       "  )\n",
       "  (block3): NetworkBlock(\n",
       "    (layer): Sequential(\n",
       "      (0): BasicBlock(\n",
       "        (bn1): BatchNorm2d(320, eps=1e-05, momentum=0.1, affine=True, track_running_stats=True)\n",
       "        (relu1): ReLU(inplace=True)\n",
       "        (conv1): Conv2d(320, 640, kernel_size=(3, 3), stride=(2, 2), padding=(1, 1), bias=False)\n",
       "        (bn2): BatchNorm2d(640, eps=1e-05, momentum=0.1, affine=True, track_running_stats=True)\n",
       "        (relu2): ReLU(inplace=True)\n",
       "        (conv2): Conv2d(640, 640, kernel_size=(3, 3), stride=(1, 1), padding=(1, 1), bias=False)\n",
       "        (convShortcut): Conv2d(320, 640, kernel_size=(1, 1), stride=(2, 2), bias=False)\n",
       "      )\n",
       "      (1): BasicBlock(\n",
       "        (bn1): BatchNorm2d(640, eps=1e-05, momentum=0.1, affine=True, track_running_stats=True)\n",
       "        (relu1): ReLU(inplace=True)\n",
       "        (conv1): Conv2d(640, 640, kernel_size=(3, 3), stride=(1, 1), padding=(1, 1), bias=False)\n",
       "        (bn2): BatchNorm2d(640, eps=1e-05, momentum=0.1, affine=True, track_running_stats=True)\n",
       "        (relu2): ReLU(inplace=True)\n",
       "        (conv2): Conv2d(640, 640, kernel_size=(3, 3), stride=(1, 1), padding=(1, 1), bias=False)\n",
       "      )\n",
       "      (2): BasicBlock(\n",
       "        (bn1): BatchNorm2d(640, eps=1e-05, momentum=0.1, affine=True, track_running_stats=True)\n",
       "        (relu1): ReLU(inplace=True)\n",
       "        (conv1): Conv2d(640, 640, kernel_size=(3, 3), stride=(1, 1), padding=(1, 1), bias=False)\n",
       "        (bn2): BatchNorm2d(640, eps=1e-05, momentum=0.1, affine=True, track_running_stats=True)\n",
       "        (relu2): ReLU(inplace=True)\n",
       "        (conv2): Conv2d(640, 640, kernel_size=(3, 3), stride=(1, 1), padding=(1, 1), bias=False)\n",
       "      )\n",
       "      (3): BasicBlock(\n",
       "        (bn1): BatchNorm2d(640, eps=1e-05, momentum=0.1, affine=True, track_running_stats=True)\n",
       "        (relu1): ReLU(inplace=True)\n",
       "        (conv1): Conv2d(640, 640, kernel_size=(3, 3), stride=(1, 1), padding=(1, 1), bias=False)\n",
       "        (bn2): BatchNorm2d(640, eps=1e-05, momentum=0.1, affine=True, track_running_stats=True)\n",
       "        (relu2): ReLU(inplace=True)\n",
       "        (conv2): Conv2d(640, 640, kernel_size=(3, 3), stride=(1, 1), padding=(1, 1), bias=False)\n",
       "      )\n",
       "    )\n",
       "  )\n",
       "  (bn1): BatchNorm2d(640, eps=1e-05, momentum=0.1, affine=True, track_running_stats=True)\n",
       "  (relu): ReLU(inplace=True)\n",
       "  (fc): Linear(in_features=640, out_features=10, bias=True)\n",
       ")"
      ]
     },
     "execution_count": 4,
     "metadata": {},
     "output_type": "execute_result"
    }
   ],
   "source": [
    "model"
   ]
  },
  {
   "cell_type": "code",
   "execution_count": 5,
   "metadata": {},
   "outputs": [
    {
     "name": "stdout",
     "output_type": "stream",
     "text": [
      "Files already downloaded and verified\n"
     ]
    }
   ],
   "source": [
    "x_test, y_test = load_cifar10(n_examples=100)"
   ]
  },
  {
   "cell_type": "code",
   "execution_count": 6,
   "metadata": {},
   "outputs": [
    {
     "data": {
      "text/plain": [
       "(torch.Size([100, 3, 32, 32]), torch.Size([100]))"
      ]
     },
     "execution_count": 6,
     "metadata": {},
     "output_type": "execute_result"
    }
   ],
   "source": [
    "x_test.shape, y_test.shape"
   ]
  },
  {
   "cell_type": "code",
   "execution_count": 7,
   "metadata": {},
   "outputs": [
    {
     "name": "stdout",
     "output_type": "stream",
     "text": [
      "Starting download from https://zenodo.org/api/records/2535967/files/CIFAR-10-C.tar/content\n"
     ]
    },
    {
     "name": "stderr",
     "output_type": "stream",
     "text": [
      "44533it [01:29, 499.75it/s]                           \n"
     ]
    },
    {
     "name": "stdout",
     "output_type": "stream",
     "text": [
      "Download finished, extracting...\n",
      "Downloaded and extracted.\n"
     ]
    }
   ],
   "source": [
    "x_testc, y_testc = load_cifar10c(n_examples=100)"
   ]
  },
  {
   "cell_type": "code",
   "execution_count": 55,
   "metadata": {},
   "outputs": [
    {
     "name": "stdout",
     "output_type": "stream",
     "text": [
      "Starting download from https://zenodo.org/api/records/3555552/files/CIFAR-100-C.tar/content\n"
     ]
    },
    {
     "name": "stderr",
     "output_type": "stream",
     "text": [
      "44533it [01:34, 470.61it/s]                           \n"
     ]
    },
    {
     "name": "stdout",
     "output_type": "stream",
     "text": [
      "Download finished, extracting...\n",
      "Downloaded and extracted.\n"
     ]
    }
   ],
   "source": [
    "x_testc, y_testc = load_cifar100c(n_examples=100)"
   ]
  },
  {
   "cell_type": "code",
   "execution_count": 56,
   "metadata": {},
   "outputs": [
    {
     "data": {
      "text/plain": [
       "torch.Size([100, 3, 32, 32])"
      ]
     },
     "execution_count": 56,
     "metadata": {},
     "output_type": "execute_result"
    }
   ],
   "source": [
    "x_testc.shape"
   ]
  },
  {
   "cell_type": "code",
   "execution_count": 8,
   "metadata": {},
   "outputs": [
    {
     "name": "stderr",
     "output_type": "stream",
     "text": [
      "/cis/home/rmuthuk1/anaconda3/envs/advrob/lib/python3.9/site-packages/torch/nn/modules/conv.py:456: UserWarning: Applied workaround for CuDNN issue, install nvrtc.so (Triggered internally at /opt/conda/conda-bld/pytorch_1712608885084/work/aten/src/ATen/native/cudnn/Conv_v8.cpp:84.)\n",
      "  return F.conv2d(input, weight, bias, self.stride,\n"
     ]
    },
    {
     "name": "stdout",
     "output_type": "stream",
     "text": [
      "Robust accuracy: 61.0%\n"
     ]
    }
   ],
   "source": [
    "model_fb = fb.PyTorchModel(model, bounds=(0, 1))\n",
    "_, advs, success = fb.attacks.LinfPGD(rel_stepsize=0.1, steps=20)(model_fb, x_test.to('cuda:0'), y_test.to('cuda:0'), epsilons=[8/255])\n",
    "print('Robust accuracy: {:.1%}'.format(1 - success.float().mean()))"
   ]
  },
  {
   "cell_type": "code",
   "execution_count": 9,
   "metadata": {},
   "outputs": [
    {
     "data": {
      "text/plain": [
       "WideResNet(\n",
       "  (conv1): Conv2d(3, 16, kernel_size=(3, 3), stride=(1, 1), padding=(1, 1), bias=False)\n",
       "  (block1): NetworkBlock(\n",
       "    (layer): Sequential(\n",
       "      (0): BasicBlock(\n",
       "        (bn1): BatchNorm2d(16, eps=1e-05, momentum=0.1, affine=True, track_running_stats=True)\n",
       "        (relu1): ReLU(inplace=True)\n",
       "        (conv1): Conv2d(16, 160, kernel_size=(3, 3), stride=(1, 1), padding=(1, 1), bias=False)\n",
       "        (bn2): BatchNorm2d(160, eps=1e-05, momentum=0.1, affine=True, track_running_stats=True)\n",
       "        (relu2): ReLU(inplace=True)\n",
       "        (conv2): Conv2d(160, 160, kernel_size=(3, 3), stride=(1, 1), padding=(1, 1), bias=False)\n",
       "        (convShortcut): Conv2d(16, 160, kernel_size=(1, 1), stride=(1, 1), bias=False)\n",
       "      )\n",
       "      (1): BasicBlock(\n",
       "        (bn1): BatchNorm2d(160, eps=1e-05, momentum=0.1, affine=True, track_running_stats=True)\n",
       "        (relu1): ReLU(inplace=True)\n",
       "        (conv1): Conv2d(160, 160, kernel_size=(3, 3), stride=(1, 1), padding=(1, 1), bias=False)\n",
       "        (bn2): BatchNorm2d(160, eps=1e-05, momentum=0.1, affine=True, track_running_stats=True)\n",
       "        (relu2): ReLU(inplace=True)\n",
       "        (conv2): Conv2d(160, 160, kernel_size=(3, 3), stride=(1, 1), padding=(1, 1), bias=False)\n",
       "      )\n",
       "      (2): BasicBlock(\n",
       "        (bn1): BatchNorm2d(160, eps=1e-05, momentum=0.1, affine=True, track_running_stats=True)\n",
       "        (relu1): ReLU(inplace=True)\n",
       "        (conv1): Conv2d(160, 160, kernel_size=(3, 3), stride=(1, 1), padding=(1, 1), bias=False)\n",
       "        (bn2): BatchNorm2d(160, eps=1e-05, momentum=0.1, affine=True, track_running_stats=True)\n",
       "        (relu2): ReLU(inplace=True)\n",
       "        (conv2): Conv2d(160, 160, kernel_size=(3, 3), stride=(1, 1), padding=(1, 1), bias=False)\n",
       "      )\n",
       "      (3): BasicBlock(\n",
       "        (bn1): BatchNorm2d(160, eps=1e-05, momentum=0.1, affine=True, track_running_stats=True)\n",
       "        (relu1): ReLU(inplace=True)\n",
       "        (conv1): Conv2d(160, 160, kernel_size=(3, 3), stride=(1, 1), padding=(1, 1), bias=False)\n",
       "        (bn2): BatchNorm2d(160, eps=1e-05, momentum=0.1, affine=True, track_running_stats=True)\n",
       "        (relu2): ReLU(inplace=True)\n",
       "        (conv2): Conv2d(160, 160, kernel_size=(3, 3), stride=(1, 1), padding=(1, 1), bias=False)\n",
       "      )\n",
       "    )\n",
       "  )\n",
       "  (sub_block1): NetworkBlock(\n",
       "    (layer): Sequential(\n",
       "      (0): BasicBlock(\n",
       "        (bn1): BatchNorm2d(16, eps=1e-05, momentum=0.1, affine=True, track_running_stats=True)\n",
       "        (relu1): ReLU(inplace=True)\n",
       "        (conv1): Conv2d(16, 160, kernel_size=(3, 3), stride=(1, 1), padding=(1, 1), bias=False)\n",
       "        (bn2): BatchNorm2d(160, eps=1e-05, momentum=0.1, affine=True, track_running_stats=True)\n",
       "        (relu2): ReLU(inplace=True)\n",
       "        (conv2): Conv2d(160, 160, kernel_size=(3, 3), stride=(1, 1), padding=(1, 1), bias=False)\n",
       "        (convShortcut): Conv2d(16, 160, kernel_size=(1, 1), stride=(1, 1), bias=False)\n",
       "      )\n",
       "      (1): BasicBlock(\n",
       "        (bn1): BatchNorm2d(160, eps=1e-05, momentum=0.1, affine=True, track_running_stats=True)\n",
       "        (relu1): ReLU(inplace=True)\n",
       "        (conv1): Conv2d(160, 160, kernel_size=(3, 3), stride=(1, 1), padding=(1, 1), bias=False)\n",
       "        (bn2): BatchNorm2d(160, eps=1e-05, momentum=0.1, affine=True, track_running_stats=True)\n",
       "        (relu2): ReLU(inplace=True)\n",
       "        (conv2): Conv2d(160, 160, kernel_size=(3, 3), stride=(1, 1), padding=(1, 1), bias=False)\n",
       "      )\n",
       "      (2): BasicBlock(\n",
       "        (bn1): BatchNorm2d(160, eps=1e-05, momentum=0.1, affine=True, track_running_stats=True)\n",
       "        (relu1): ReLU(inplace=True)\n",
       "        (conv1): Conv2d(160, 160, kernel_size=(3, 3), stride=(1, 1), padding=(1, 1), bias=False)\n",
       "        (bn2): BatchNorm2d(160, eps=1e-05, momentum=0.1, affine=True, track_running_stats=True)\n",
       "        (relu2): ReLU(inplace=True)\n",
       "        (conv2): Conv2d(160, 160, kernel_size=(3, 3), stride=(1, 1), padding=(1, 1), bias=False)\n",
       "      )\n",
       "      (3): BasicBlock(\n",
       "        (bn1): BatchNorm2d(160, eps=1e-05, momentum=0.1, affine=True, track_running_stats=True)\n",
       "        (relu1): ReLU(inplace=True)\n",
       "        (conv1): Conv2d(160, 160, kernel_size=(3, 3), stride=(1, 1), padding=(1, 1), bias=False)\n",
       "        (bn2): BatchNorm2d(160, eps=1e-05, momentum=0.1, affine=True, track_running_stats=True)\n",
       "        (relu2): ReLU(inplace=True)\n",
       "        (conv2): Conv2d(160, 160, kernel_size=(3, 3), stride=(1, 1), padding=(1, 1), bias=False)\n",
       "      )\n",
       "    )\n",
       "  )\n",
       "  (block2): NetworkBlock(\n",
       "    (layer): Sequential(\n",
       "      (0): BasicBlock(\n",
       "        (bn1): BatchNorm2d(160, eps=1e-05, momentum=0.1, affine=True, track_running_stats=True)\n",
       "        (relu1): ReLU(inplace=True)\n",
       "        (conv1): Conv2d(160, 320, kernel_size=(3, 3), stride=(2, 2), padding=(1, 1), bias=False)\n",
       "        (bn2): BatchNorm2d(320, eps=1e-05, momentum=0.1, affine=True, track_running_stats=True)\n",
       "        (relu2): ReLU(inplace=True)\n",
       "        (conv2): Conv2d(320, 320, kernel_size=(3, 3), stride=(1, 1), padding=(1, 1), bias=False)\n",
       "        (convShortcut): Conv2d(160, 320, kernel_size=(1, 1), stride=(2, 2), bias=False)\n",
       "      )\n",
       "      (1): BasicBlock(\n",
       "        (bn1): BatchNorm2d(320, eps=1e-05, momentum=0.1, affine=True, track_running_stats=True)\n",
       "        (relu1): ReLU(inplace=True)\n",
       "        (conv1): Conv2d(320, 320, kernel_size=(3, 3), stride=(1, 1), padding=(1, 1), bias=False)\n",
       "        (bn2): BatchNorm2d(320, eps=1e-05, momentum=0.1, affine=True, track_running_stats=True)\n",
       "        (relu2): ReLU(inplace=True)\n",
       "        (conv2): Conv2d(320, 320, kernel_size=(3, 3), stride=(1, 1), padding=(1, 1), bias=False)\n",
       "      )\n",
       "      (2): BasicBlock(\n",
       "        (bn1): BatchNorm2d(320, eps=1e-05, momentum=0.1, affine=True, track_running_stats=True)\n",
       "        (relu1): ReLU(inplace=True)\n",
       "        (conv1): Conv2d(320, 320, kernel_size=(3, 3), stride=(1, 1), padding=(1, 1), bias=False)\n",
       "        (bn2): BatchNorm2d(320, eps=1e-05, momentum=0.1, affine=True, track_running_stats=True)\n",
       "        (relu2): ReLU(inplace=True)\n",
       "        (conv2): Conv2d(320, 320, kernel_size=(3, 3), stride=(1, 1), padding=(1, 1), bias=False)\n",
       "      )\n",
       "      (3): BasicBlock(\n",
       "        (bn1): BatchNorm2d(320, eps=1e-05, momentum=0.1, affine=True, track_running_stats=True)\n",
       "        (relu1): ReLU(inplace=True)\n",
       "        (conv1): Conv2d(320, 320, kernel_size=(3, 3), stride=(1, 1), padding=(1, 1), bias=False)\n",
       "        (bn2): BatchNorm2d(320, eps=1e-05, momentum=0.1, affine=True, track_running_stats=True)\n",
       "        (relu2): ReLU(inplace=True)\n",
       "        (conv2): Conv2d(320, 320, kernel_size=(3, 3), stride=(1, 1), padding=(1, 1), bias=False)\n",
       "      )\n",
       "    )\n",
       "  )\n",
       "  (block3): NetworkBlock(\n",
       "    (layer): Sequential(\n",
       "      (0): BasicBlock(\n",
       "        (bn1): BatchNorm2d(320, eps=1e-05, momentum=0.1, affine=True, track_running_stats=True)\n",
       "        (relu1): ReLU(inplace=True)\n",
       "        (conv1): Conv2d(320, 640, kernel_size=(3, 3), stride=(2, 2), padding=(1, 1), bias=False)\n",
       "        (bn2): BatchNorm2d(640, eps=1e-05, momentum=0.1, affine=True, track_running_stats=True)\n",
       "        (relu2): ReLU(inplace=True)\n",
       "        (conv2): Conv2d(640, 640, kernel_size=(3, 3), stride=(1, 1), padding=(1, 1), bias=False)\n",
       "        (convShortcut): Conv2d(320, 640, kernel_size=(1, 1), stride=(2, 2), bias=False)\n",
       "      )\n",
       "      (1): BasicBlock(\n",
       "        (bn1): BatchNorm2d(640, eps=1e-05, momentum=0.1, affine=True, track_running_stats=True)\n",
       "        (relu1): ReLU(inplace=True)\n",
       "        (conv1): Conv2d(640, 640, kernel_size=(3, 3), stride=(1, 1), padding=(1, 1), bias=False)\n",
       "        (bn2): BatchNorm2d(640, eps=1e-05, momentum=0.1, affine=True, track_running_stats=True)\n",
       "        (relu2): ReLU(inplace=True)\n",
       "        (conv2): Conv2d(640, 640, kernel_size=(3, 3), stride=(1, 1), padding=(1, 1), bias=False)\n",
       "      )\n",
       "      (2): BasicBlock(\n",
       "        (bn1): BatchNorm2d(640, eps=1e-05, momentum=0.1, affine=True, track_running_stats=True)\n",
       "        (relu1): ReLU(inplace=True)\n",
       "        (conv1): Conv2d(640, 640, kernel_size=(3, 3), stride=(1, 1), padding=(1, 1), bias=False)\n",
       "        (bn2): BatchNorm2d(640, eps=1e-05, momentum=0.1, affine=True, track_running_stats=True)\n",
       "        (relu2): ReLU(inplace=True)\n",
       "        (conv2): Conv2d(640, 640, kernel_size=(3, 3), stride=(1, 1), padding=(1, 1), bias=False)\n",
       "      )\n",
       "      (3): BasicBlock(\n",
       "        (bn1): BatchNorm2d(640, eps=1e-05, momentum=0.1, affine=True, track_running_stats=True)\n",
       "        (relu1): ReLU(inplace=True)\n",
       "        (conv1): Conv2d(640, 640, kernel_size=(3, 3), stride=(1, 1), padding=(1, 1), bias=False)\n",
       "        (bn2): BatchNorm2d(640, eps=1e-05, momentum=0.1, affine=True, track_running_stats=True)\n",
       "        (relu2): ReLU(inplace=True)\n",
       "        (conv2): Conv2d(640, 640, kernel_size=(3, 3), stride=(1, 1), padding=(1, 1), bias=False)\n",
       "      )\n",
       "    )\n",
       "  )\n",
       "  (bn1): BatchNorm2d(640, eps=1e-05, momentum=0.1, affine=True, track_running_stats=True)\n",
       "  (relu): ReLU(inplace=True)\n",
       "  (fc): Linear(in_features=640, out_features=10, bias=True)\n",
       ")"
      ]
     },
     "execution_count": 9,
     "metadata": {},
     "output_type": "execute_result"
    }
   ],
   "source": [
    "model.cuda()"
   ]
  },
  {
   "cell_type": "code",
   "execution_count": 10,
   "metadata": {},
   "outputs": [
    {
     "name": "stdout",
     "output_type": "stream",
     "text": [
      "using custom version including apgd-ce, apgd-dlr.\n",
      "initial accuracy: 89.00%\n",
      "apgd-ce - 1/1 - 34 out of 89 successfully perturbed\n",
      "robust accuracy after APGD-CE: 55.00% (total time 22.1 s)\n",
      "apgd-dlr - 1/1 - 2 out of 55 successfully perturbed\n",
      "robust accuracy after APGD-DLR: 53.00% (total time 36.9 s)\n",
      "max Linf perturbation: 0.03137, nan in tensor: 0, max: 1.00000, min: 0.00000\n",
      "robust accuracy: 53.00%\n"
     ]
    }
   ],
   "source": [
    "adversary = AutoAttack(\n",
    "    model,\n",
    "    norm=\"Linf\",\n",
    "    eps=8 / 255,\n",
    "    version=\"custom\",\n",
    "    attacks_to_run=[\"apgd-ce\", \"apgd-dlr\"],\n",
    ")\n",
    "adversary.apgd.n_restarts = 1\n",
    "x_adv = adversary.run_standard_evaluation(x_test, y_test)"
   ]
  },
  {
   "cell_type": "code",
   "execution_count": 53,
   "metadata": {},
   "outputs": [
    {
     "data": {
      "text/plain": [
       "torch.Size([100, 3, 32, 32])"
      ]
     },
     "execution_count": 53,
     "metadata": {},
     "output_type": "execute_result"
    }
   ],
   "source": [
    "x_adv"
   ]
  },
  {
   "cell_type": "code",
   "execution_count": 11,
   "metadata": {},
   "outputs": [],
   "source": [
    "from threat_specification.greedy_subset import load_greedy_subset\n",
    "from threat_specification.projected_displacement import (\n",
    "    non_isotropic_projection,\n",
    "    non_isotropic_threat,\n",
    ")"
   ]
  },
  {
   "cell_type": "code",
   "execution_count": 12,
   "metadata": {},
   "outputs": [],
   "source": [
    "from foundations import hparams"
   ]
  },
  {
   "cell_type": "code",
   "execution_count": 17,
   "metadata": {},
   "outputs": [],
   "source": [
    "import platforms.platform as p \n",
    "import platforms.local as L"
   ]
  },
  {
   "cell_type": "code",
   "execution_count": 37,
   "metadata": {},
   "outputs": [],
   "source": [
    "import argparse"
   ]
  },
  {
   "cell_type": "code",
   "execution_count": 39,
   "metadata": {},
   "outputs": [],
   "source": [
    "import platforms.registry"
   ]
  },
  {
   "cell_type": "code",
   "execution_count": 40,
   "metadata": {},
   "outputs": [],
   "source": [
    "runner_name = \"test\""
   ]
  },
  {
   "cell_type": "code",
   "execution_count": 41,
   "metadata": {},
   "outputs": [],
   "source": [
    "from cli import runner_registry"
   ]
  },
  {
   "cell_type": "code",
   "execution_count": 43,
   "metadata": {},
   "outputs": [],
   "source": [
    "# Add the arguments for that command.\n",
    "usage = \"\\n\" + \"\\n\"\n",
    "usage += f\"nonisotropic.py {runner_name} [...] => {runner_registry.get(runner_name).description()}\"\n",
    "usage += \"\\n\" + \"-\" * 82 + \"\\n\"\n"
   ]
  },
  {
   "cell_type": "code",
   "execution_count": 44,
   "metadata": {},
   "outputs": [],
   "source": [
    "platform_name = \"local\""
   ]
  },
  {
   "cell_type": "code",
   "execution_count": 46,
   "metadata": {},
   "outputs": [
    {
     "data": {
      "text/plain": [
       "_StoreTrueAction(option_strings=['--display_output_location'], dest='display_output_location', nargs=0, const=True, default=False, type=None, choices=None, required=False, help='Display the output location for this job.', metavar=None)"
      ]
     },
     "execution_count": 46,
     "metadata": {},
     "output_type": "execute_result"
    }
   ],
   "source": [
    "parser = argparse.ArgumentParser(usage=usage, conflict_handler=\"resolve\")\n",
    "parser.add_argument(\"subcommand\")\n",
    "parser.add_argument(\n",
    "        \"--platform\", default=\"local\", help=\"The platform on which the job will run.\"\n",
    "    )\n",
    "parser.add_argument(\n",
    "        \"--display_output_location\",\n",
    "        action=\"store_true\",\n",
    "        help=\"Display the output location for this job.\",\n",
    "    )\n"
   ]
  },
  {
   "cell_type": "code",
   "execution_count": 47,
   "metadata": {},
   "outputs": [],
   "source": [
    "platforms.registry.get(platform_name).add_args(parser)"
   ]
  },
  {
   "cell_type": "code",
   "execution_count": 48,
   "metadata": {},
   "outputs": [],
   "source": [
    "from platforms.platform import get_platform"
   ]
  },
  {
   "cell_type": "code",
   "execution_count": 52,
   "metadata": {},
   "outputs": [
    {
     "name": "stderr",
     "output_type": "stream",
     "text": [
      "usage: \n",
      "\n",
      "nonisotropic.py test [...] => Test a trained model.\n",
      "----------------------------------------------------------------------------------\n",
      "ipykernel_launcher.py: error: the following arguments are required: subcommand\n"
     ]
    },
    {
     "ename": "SystemExit",
     "evalue": "2",
     "output_type": "error",
     "traceback": [
      "An exception has occurred, use %tb to see the full traceback.\n",
      "\u001b[0;31mSystemExit\u001b[0m\u001b[0;31m:\u001b[0m 2\n"
     ]
    }
   ],
   "source": [
    "args = parser.parse_args()\n",
    "print(args)"
   ]
  },
  {
   "cell_type": "code",
   "execution_count": null,
   "metadata": {},
   "outputs": [
    {
     "ename": "AttributeError",
     "evalue": "'NoneType' object has no attribute 'torch_device'",
     "output_type": "error",
     "traceback": [
      "\u001b[0;31m---------------------------------------------------------------------------\u001b[0m",
      "\u001b[0;31mAttributeError\u001b[0m                            Traceback (most recent call last)",
      "Cell \u001b[0;32mIn[50], line 1\u001b[0m\n\u001b[0;32m----> 1\u001b[0m \u001b[43mget_platform\u001b[49m\u001b[43m(\u001b[49m\u001b[43m)\u001b[49m\u001b[38;5;241;43m.\u001b[39;49m\u001b[43mtorch_device\u001b[49m\n",
      "\u001b[0;31mAttributeError\u001b[0m: 'NoneType' object has no attribute 'torch_device'"
     ]
    }
   ],
   "source": [
    "get_platform().torch_device"
   ]
  },
  {
   "cell_type": "code",
   "execution_count": 35,
   "metadata": {},
   "outputs": [
    {
     "ename": "TypeError",
     "evalue": "create_from_args() missing 1 required positional argument: 'args'",
     "output_type": "error",
     "traceback": [
      "\u001b[0;31m---------------------------------------------------------------------------\u001b[0m",
      "\u001b[0;31mTypeError\u001b[0m                                 Traceback (most recent call last)",
      "Cell \u001b[0;32mIn[35], line 1\u001b[0m\n\u001b[0;32m----> 1\u001b[0m \u001b[38;5;28mprint\u001b[39m(\u001b[43mL\u001b[49m\u001b[38;5;241;43m.\u001b[39;49m\u001b[43mPlatform\u001b[49m\u001b[43m(\u001b[49m\u001b[43m)\u001b[49m\u001b[38;5;241;43m.\u001b[39;49m\u001b[43mcreate_from_args\u001b[49m\u001b[43m(\u001b[49m\u001b[43m)\u001b[49m)\n",
      "\u001b[0;31mTypeError\u001b[0m: create_from_args() missing 1 required positional argument: 'args'"
     ]
    }
   ],
   "source": [
    "print(L.Platform().create_from_args())"
   ]
  },
  {
   "cell_type": "code",
   "execution_count": 13,
   "metadata": {},
   "outputs": [],
   "source": [
    "dataset_hparams = hparams.DatasetHparams(\n",
    "    dataset_name=\"cifar10\",\n",
    "    batch_size=256,\n",
    "    num_labels=10,\n",
    "    num_channels=3,\n",
    "    num_spatial_dims=32,\n",
    ")"
   ]
  },
  {
   "cell_type": "code",
   "execution_count": null,
   "metadata": {},
   "outputs": [],
   "source": [
    "platform = "
   ]
  },
  {
   "cell_type": "code",
   "execution_count": 14,
   "metadata": {},
   "outputs": [
    {
     "ename": "AttributeError",
     "evalue": "'NoneType' object has no attribute 'dataset_root'",
     "output_type": "error",
     "traceback": [
      "\u001b[0;31m---------------------------------------------------------------------------\u001b[0m",
      "\u001b[0;31mAttributeError\u001b[0m                            Traceback (most recent call last)",
      "Cell \u001b[0;32mIn[14], line 1\u001b[0m\n\u001b[0;32m----> 1\u001b[0m greedy_subsets \u001b[38;5;241m=\u001b[39m \u001b[43mload_greedy_subset\u001b[49m\u001b[43m(\u001b[49m\u001b[43mdataset_hparams\u001b[49m\u001b[43m)\u001b[49m\n",
      "File \u001b[0;32m~/nonisotropic/threat_specification/greedy_subset.py:122\u001b[0m, in \u001b[0;36mload_greedy_subset\u001b[0;34m(dataset_hparams)\u001b[0m\n\u001b[1;32m    120\u001b[0m \u001b[38;5;28;01mdef\u001b[39;00m \u001b[38;5;21mload_greedy_subset\u001b[39m(dataset_hparams):\n\u001b[1;32m    121\u001b[0m     dataset_loc \u001b[38;5;241m=\u001b[39m os\u001b[38;5;241m.\u001b[39mpath\u001b[38;5;241m.\u001b[39mjoin(\n\u001b[0;32m--> 122\u001b[0m         \u001b[43mget_platform\u001b[49m\u001b[43m(\u001b[49m\u001b[43m)\u001b[49m\u001b[38;5;241;43m.\u001b[39;49m\u001b[43mdataset_root\u001b[49m, dataset_hparams\u001b[38;5;241m.\u001b[39mdataset_name\n\u001b[1;32m    123\u001b[0m     )\n\u001b[1;32m    124\u001b[0m     input_shape \u001b[38;5;241m=\u001b[39m [dataset_hparams\u001b[38;5;241m.\u001b[39mnum_channels] \u001b[38;5;241m+\u001b[39m [\n\u001b[1;32m    125\u001b[0m         dataset_hparams\u001b[38;5;241m.\u001b[39mnum_spatial_dims\n\u001b[1;32m    126\u001b[0m     ] \u001b[38;5;241m*\u001b[39m \u001b[38;5;241m2\u001b[39m\n\u001b[1;32m    127\u001b[0m     per_label \u001b[38;5;241m=\u001b[39m dataset_hparams\u001b[38;5;241m.\u001b[39mgreedy_per_label\n",
      "\u001b[0;31mAttributeError\u001b[0m: 'NoneType' object has no attribute 'dataset_root'"
     ]
    }
   ],
   "source": [
    "greedy_subsets = load_greedy_subset(dataset_hparams)"
   ]
  },
  {
   "cell_type": "code",
   "execution_count": null,
   "metadata": {},
   "outputs": [],
   "source": []
  },
  {
   "cell_type": "code",
   "execution_count": null,
   "metadata": {},
   "outputs": [],
   "source": []
  },
  {
   "cell_type": "code",
   "execution_count": 13,
   "metadata": {},
   "outputs": [
    {
     "name": "stdout",
     "output_type": "stream",
     "text": [
      "setting parameters for standard version\n",
      "using standard version including apgd-ce, apgd-t, fab-t, square.\n",
      "initial accuracy: 89.00%\n",
      "apgd-ce - 1/1 - 33 out of 89 successfully perturbed\n",
      "robust accuracy after APGD-CE: 56.00% (total time 13.2 s)\n",
      "apgd-t - 1/1 - 3 out of 56 successfully perturbed\n",
      "robust accuracy after APGD-T: 53.00% (total time 94.8 s)\n",
      "fab-t - 1/1 - 0 out of 53 successfully perturbed\n",
      "robust accuracy after FAB-T: 53.00% (total time 251.6 s)\n",
      "square - 1/1 - 0 out of 53 successfully perturbed\n",
      "robust accuracy after SQUARE: 53.00% (total time 469.8 s)\n",
      "max Linf perturbation: 0.03137, nan in tensor: 0, max: 1.00000, min: 0.00000\n",
      "robust accuracy: 53.00%\n"
     ]
    }
   ],
   "source": [
    "adversary = AutoAttack(\n",
    "    model,\n",
    "    norm=\"Linf\",\n",
    "    eps=8 / 255\n",
    "    )\n",
    "x_adv = adversary.run_standard_evaluation(x_test, y_test)"
   ]
  },
  {
   "cell_type": "code",
   "execution_count": 17,
   "metadata": {},
   "outputs": [
    {
     "name": "stdout",
     "output_type": "stream",
     "text": [
      "(torch.Size([100, 3, 32, 32]), torch.Size([100]))\n",
      "Model: Standard, CIFAR-10-C accuracy: 46.0%\n",
      "Downloading models/cifar10/Linf/Engstrom2019Robustness.pt (gdrive_id=1etqmQsksNIWBvBQ4r8ZFk_3FJlLWr8Rr).\n"
     ]
    },
    {
     "name": "stderr",
     "output_type": "stream",
     "text": [
      "Downloading...\n",
      "From: https://drive.google.com/uc?id=1etqmQsksNIWBvBQ4r8ZFk_3FJlLWr8Rr\n",
      "To: /cis/home/rmuthuk1/nonisotropic/models/cifar10/Linf/Engstrom2019Robustness.pt\n",
      "100%|██████████| 94.4M/94.4M [00:01<00:00, 69.4MB/s]\n"
     ]
    },
    {
     "name": "stdout",
     "output_type": "stream",
     "text": [
      "Model: Engstrom2019Robustness, CIFAR-10-C accuracy: 93.0%\n",
      "Downloading models/cifar10/Linf/Rice2020Overfitting.pt (gdrive_id=1vC_Twazji7lBjeMQvAD9uEQxi9Nx2oG-).\n"
     ]
    },
    {
     "name": "stderr",
     "output_type": "stream",
     "text": [
      "Downloading...\n",
      "From: https://drive.google.com/uc?id=1vC_Twazji7lBjeMQvAD9uEQxi9Nx2oG-\n",
      "To: /cis/home/rmuthuk1/nonisotropic/models/cifar10/Linf/Rice2020Overfitting.pt\n",
      "100%|██████████| 738M/738M [00:08<00:00, 87.3MB/s] \n"
     ]
    },
    {
     "name": "stdout",
     "output_type": "stream",
     "text": [
      "Model: Rice2020Overfitting, CIFAR-10-C accuracy: 91.0%\n",
      "Model: Carmon2019Unlabeled, CIFAR-10-C accuracy: 92.0%\n"
     ]
    }
   ],
   "source": [
    "x_testc, y_testc = load_cifar10c(n_examples=100, corruptions=['gaussian_noise', 'shot_noise'], severity=3)\n",
    "print((x_testc.shape, y_testc.shape))\n",
    "\n",
    "for model_name in ['Standard', 'Engstrom2019Robustness', 'Rice2020Overfitting','Carmon2019Unlabeled']:\n",
    "    model = load_model(model_name=model_name, dataset='cifar10', threat_model='Linf')\n",
    "    acc = clean_accuracy(model, x_testc, y_testc)\n",
    "    print(f'Model: {model_name}, CIFAR-10-C accuracy: {acc:.1%}')"
   ]
  },
  {
   "cell_type": "code",
   "execution_count": 3,
   "metadata": {},
   "outputs": [],
   "source": [
    "model_names = [\n",
    "    \"Peng2023Robust\",\n",
    "    \"Wang2023Better_WRN-70-16\",\n",
    "    \"Bai2024MixedNUTS\",\n",
    "    \"Bai2023Improving_edm\",\n",
    "    \"Cui2023Decoupled_WRN-28-10\",\t\n",
    "    \"Wang2023Better_WRN-28-10\", \n",
    "    \"Rebuffi2021Fixing_70_16_cutmix_extra\",\n",
    "    \"Gowal2021Improving_70_16_ddpm_100m\",\n",
    "    \"Gowal2020Uncovering_70_16_extra\",\n",
    "    \"Huang2022Revisiting_WRN-A4\",\n",
    "    \"Rebuffi2021Fixing_106_16_cutmix_ddpm\",\n",
    "    \"Rebuffi2021Fixing_70_16_cutmix_ddpm\",\n",
    "    \"Kang2021Stable\",\n",
    "    \"Xu2023Exploring_WRN-28-10\",\n",
    "    \"Gowal2021Improving_28_10_ddpm_100m\"\n",
    "]"
   ]
  },
  {
   "cell_type": "code",
   "execution_count": 33,
   "metadata": {},
   "outputs": [
    {
     "name": "stdout",
     "output_type": "stream",
     "text": [
      "Downloading models/cifar10/Linf/Peng2023Robust.pt (gdrive_id=1-6M8KHZdPmgqYkBSkdZQ2fLwp86ZQ9VU).\n"
     ]
    },
    {
     "name": "stderr",
     "output_type": "stream",
     "text": [
      "Downloading...\n",
      "From: https://drive.google.com/uc?id=1-6M8KHZdPmgqYkBSkdZQ2fLwp86ZQ9VU\n",
      "To: /cis/home/rmuthuk1/nonisotropic/models/cifar10/Linf/Peng2023Robust.pt\n",
      "100%|██████████| 1.07G/1.07G [00:09<00:00, 117MB/s] \n"
     ]
    },
    {
     "name": "stdout",
     "output_type": "stream",
     "text": [
      "Downloading models/cifar10/Linf/Wang2023Better_WRN-70-16.pt (gdrive_id=1-RF7ZSS-PAh6bfQcuqx4lh9bc9BUGnap).\n"
     ]
    },
    {
     "name": "stderr",
     "output_type": "stream",
     "text": [
      "Downloading...\n",
      "From: https://drive.google.com/uc?id=1-RF7ZSS-PAh6bfQcuqx4lh9bc9BUGnap\n",
      "To: /cis/home/rmuthuk1/nonisotropic/models/cifar10/Linf/Wang2023Better_WRN-70-16.pt\n",
      "100%|██████████| 1.07G/1.07G [00:06<00:00, 156MB/s] \n"
     ]
    },
    {
     "name": "stdout",
     "output_type": "stream",
     "text": [
      "The STD classifier has 232279184 parameters. 232279184 parameters are trainable.\n",
      "The ROB classifier has 267240802 parameters. 267240802 parameters are trainable.\n",
      "Using alpha=0.9987500602493457.\n",
      "Using alpha_diffable=0.9570535356459247.\n",
      "Bypassing robust base model nonlinear transformation for gradient calculations.\n",
      "Disabling autocast.\n",
      "Downloading models/cifar10/Linf/Bai2024MixedNUTS.pt_m0.pt (gdrive_id=1-5EwY_5tQZudo9idwXiUGr3P4OUUGaQN).\n"
     ]
    },
    {
     "name": "stderr",
     "output_type": "stream",
     "text": [
      "Downloading...\n",
      "From: https://drive.google.com/uc?id=1-5EwY_5tQZudo9idwXiUGr3P4OUUGaQN\n",
      "To: /cis/home/rmuthuk1/nonisotropic/models/cifar10/Linf/Bai2024MixedNUTS.pt_m0.pt\n",
      "100%|██████████| 929M/929M [00:06<00:00, 133MB/s]  \n"
     ]
    },
    {
     "name": "stdout",
     "output_type": "stream",
     "text": [
      "Downloading models/cifar10/Linf/Bai2024MixedNUTS.pt_m1.pt (gdrive_id=1-6M8KHZdPmgqYkBSkdZQ2fLwp86ZQ9VU).\n"
     ]
    },
    {
     "name": "stderr",
     "output_type": "stream",
     "text": [
      "Downloading...\n",
      "From: https://drive.google.com/uc?id=1-6M8KHZdPmgqYkBSkdZQ2fLwp86ZQ9VU\n",
      "To: /cis/home/rmuthuk1/nonisotropic/models/cifar10/Linf/Bai2024MixedNUTS.pt_m1.pt\n",
      "100%|██████████| 1.07G/1.07G [00:05<00:00, 181MB/s]\n"
     ]
    },
    {
     "name": "stdout",
     "output_type": "stream",
     "text": [
      "The STD classifier has 232279178 parameters. 0 parameters are trainable.\n",
      "The ROB classifier has 266796506 parameters. 0 parameters are trainable.\n",
      "The mixing network has 67848704 parameters. 67848704 parameters are trainable.\n",
      "\n",
      "gamma has been set to 2.5, but the mixing network is active so the change is not effective.\n",
      "gamma has been set to 3.0, but the mixing network is active so the change is not effective.\n",
      "The mixing network's gamma mean is set to 1.0499999523162842.\n",
      "The mixing network's gamma standard deviation is set to 2.0.\n",
      "The range of alpha during evaluation is set to (0.9599999785423279, 1.0).\n",
      "The logit output scale of the STD network is set to 1.2000000476837158.\n",
      "The logit output scale of the ROB network is set to 0.30000001192092896.\n",
      "\n",
      "Downloading models/cifar10/Linf/Bai2023Improving_edm.pt_m0.pt (gdrive_id=1-5EwY_5tQZudo9idwXiUGr3P4OUUGaQN).\n"
     ]
    },
    {
     "name": "stderr",
     "output_type": "stream",
     "text": [
      "Downloading...\n",
      "From: https://drive.google.com/uc?id=1-5EwY_5tQZudo9idwXiUGr3P4OUUGaQN\n",
      "To: /cis/home/rmuthuk1/nonisotropic/models/cifar10/Linf/Bai2023Improving_edm.pt_m0.pt\n",
      "100%|██████████| 929M/929M [00:05<00:00, 185MB/s]  \n"
     ]
    },
    {
     "name": "stdout",
     "output_type": "stream",
     "text": [
      "Downloading models/cifar10/Linf/Bai2023Improving_edm.pt_m1.pt (gdrive_id=1-RF7ZSS-PAh6bfQcuqx4lh9bc9BUGnap).\n"
     ]
    },
    {
     "name": "stderr",
     "output_type": "stream",
     "text": [
      "Downloading...\n",
      "From: https://drive.google.com/uc?id=1-RF7ZSS-PAh6bfQcuqx4lh9bc9BUGnap\n",
      "To: /cis/home/rmuthuk1/nonisotropic/models/cifar10/Linf/Bai2023Improving_edm.pt_m1.pt\n",
      "100%|██████████| 1.07G/1.07G [00:05<00:00, 205MB/s]\n"
     ]
    },
    {
     "name": "stdout",
     "output_type": "stream",
     "text": [
      "Downloading models/cifar10/Linf/Bai2023Improving_edm.pt_m2.pt (gdrive_id=1-7oV7QDgz8McvhbaCj6Owx3Rz3daiPrT).\n"
     ]
    },
    {
     "name": "stderr",
     "output_type": "stream",
     "text": [
      "Downloading...\n",
      "From: https://drive.google.com/uc?id=1-7oV7QDgz8McvhbaCj6Owx3Rz3daiPrT\n",
      "To: /cis/home/rmuthuk1/nonisotropic/models/cifar10/Linf/Bai2023Improving_edm.pt_m2.pt\n",
      "100%|██████████| 271M/271M [00:03<00:00, 77.5MB/s] \n"
     ]
    },
    {
     "name": "stdout",
     "output_type": "stream",
     "text": [
      "Downloading models/cifar10/Linf/Cui2023Decoupled_WRN-28-10.pt (gdrive_id=1-AaTrYt23WJFR22hXgBd-i6kjpsz6Hf2).\n"
     ]
    },
    {
     "name": "stderr",
     "output_type": "stream",
     "text": [
      "Downloading...\n",
      "From: https://drive.google.com/uc?id=1-AaTrYt23WJFR22hXgBd-i6kjpsz6Hf2\n",
      "To: /cis/home/rmuthuk1/nonisotropic/models/cifar10/Linf/Cui2023Decoupled_WRN-28-10.pt\n",
      "100%|██████████| 146M/146M [00:02<00:00, 56.7MB/s] \n"
     ]
    },
    {
     "name": "stdout",
     "output_type": "stream",
     "text": [
      "Downloading models/cifar10/Linf/Wang2023Better_WRN-28-10.pt (gdrive_id=1-6MYKJdECDVGaWjj6GgqvaT95BGKhUvI).\n"
     ]
    },
    {
     "name": "stderr",
     "output_type": "stream",
     "text": [
      "Downloading...\n",
      "From: https://drive.google.com/uc?id=1-6MYKJdECDVGaWjj6GgqvaT95BGKhUvI\n",
      "To: /cis/home/rmuthuk1/nonisotropic/models/cifar10/Linf/Wang2023Better_WRN-28-10.pt\n",
      "100%|██████████| 146M/146M [00:00<00:00, 170MB/s]  \n"
     ]
    },
    {
     "name": "stdout",
     "output_type": "stream",
     "text": [
      "Downloading models/cifar10/Linf/Rebuffi2021Fixing_70_16_cutmix_extra.pt (gdrive_id=1qKDTp6IJ1BUXZaRtbYuo_t0tuDl_4mLg).\n"
     ]
    },
    {
     "name": "stderr",
     "output_type": "stream",
     "text": [
      "Downloading...\n",
      "From: https://drive.google.com/uc?id=1qKDTp6IJ1BUXZaRtbYuo_t0tuDl_4mLg\n",
      "To: /cis/home/rmuthuk1/nonisotropic/models/cifar10/Linf/Rebuffi2021Fixing_70_16_cutmix_extra.pt\n",
      "100%|██████████| 1.07G/1.07G [00:07<00:00, 136MB/s] \n"
     ]
    },
    {
     "name": "stdout",
     "output_type": "stream",
     "text": [
      "Downloading models/cifar10/Linf/Gowal2021Improving_70_16_ddpm_100m.pt (gdrive_id=10qBoDG_NomJBrRFeTsSwEcJF1GA-sjC4).\n"
     ]
    },
    {
     "name": "stderr",
     "output_type": "stream",
     "text": [
      "Downloading...\n",
      "From: https://drive.google.com/uc?id=10qBoDG_NomJBrRFeTsSwEcJF1GA-sjC4\n",
      "To: /cis/home/rmuthuk1/nonisotropic/models/cifar10/Linf/Gowal2021Improving_70_16_ddpm_100m.pt\n",
      "100%|██████████| 1.07G/1.07G [00:04<00:00, 225MB/s] \n"
     ]
    },
    {
     "name": "stdout",
     "output_type": "stream",
     "text": [
      "Downloading models/cifar10/Linf/Gowal2020Uncovering_70_16_extra.pt (gdrive_id=1GxryYj_Or-VCDca0wgiFLz4ssXSZXQoJ).\n"
     ]
    },
    {
     "name": "stderr",
     "output_type": "stream",
     "text": [
      "Downloading...\n",
      "From: https://drive.google.com/uc?id=1GxryYj_Or-VCDca0wgiFLz4ssXSZXQoJ\n",
      "To: /cis/home/rmuthuk1/nonisotropic/models/cifar10/Linf/Gowal2020Uncovering_70_16_extra.pt\n",
      "100%|██████████| 1.07G/1.07G [00:11<00:00, 95.2MB/s]\n"
     ]
    },
    {
     "name": "stdout",
     "output_type": "stream",
     "text": [
      "Downloading models/cifar10/Linf/Huang2022Revisiting_WRN-A4.pt (gdrive_id=1okHk4XPgunmqHG3alXfVF84qRwlu6Oqe).\n"
     ]
    },
    {
     "name": "stderr",
     "output_type": "stream",
     "text": [
      "Downloading...\n",
      "From: https://drive.google.com/uc?id=1okHk4XPgunmqHG3alXfVF84qRwlu6Oqe\n",
      "To: /cis/home/rmuthuk1/nonisotropic/models/cifar10/Linf/Huang2022Revisiting_WRN-A4.pt\n",
      "100%|██████████| 590M/590M [00:05<00:00, 107MB/s]  \n"
     ]
    },
    {
     "name": "stdout",
     "output_type": "stream",
     "text": [
      "Downloading models/cifar10/Linf/Rebuffi2021Fixing_106_16_cutmix_ddpm.pt (gdrive_id=1-4qnkveIkeWoGdF72kpEFHETiY3y4_tF).\n"
     ]
    },
    {
     "name": "stderr",
     "output_type": "stream",
     "text": [
      "Downloading...\n",
      "From: https://drive.google.com/uc?id=1-4qnkveIkeWoGdF72kpEFHETiY3y4_tF\n",
      "To: /cis/home/rmuthuk1/nonisotropic/models/cifar10/Linf/Rebuffi2021Fixing_106_16_cutmix_ddpm.pt\n",
      "100%|██████████| 1.66G/1.66G [00:07<00:00, 214MB/s] \n"
     ]
    },
    {
     "name": "stdout",
     "output_type": "stream",
     "text": [
      "Downloading models/cifar10/Linf/Rebuffi2021Fixing_70_16_cutmix_ddpm.pt (gdrive_id=1-8CWRT-OFWyrz4T4s0I2mbFjPg8K_MUi).\n"
     ]
    },
    {
     "name": "stderr",
     "output_type": "stream",
     "text": [
      "Downloading...\n",
      "From: https://drive.google.com/uc?id=1-8CWRT-OFWyrz4T4s0I2mbFjPg8K_MUi\n",
      "To: /cis/home/rmuthuk1/nonisotropic/models/cifar10/Linf/Rebuffi2021Fixing_70_16_cutmix_ddpm.pt\n",
      "100%|██████████| 1.07G/1.07G [00:21<00:00, 49.6MB/s]\n"
     ]
    },
    {
     "name": "stdout",
     "output_type": "stream",
     "text": [
      "Downloading models/cifar10/Linf/Kang2021Stable.pt (gdrive_id=1-HjG9f7wJDnNRdMQSiz8dlCI3sq5mfqj).\n"
     ]
    },
    {
     "name": "stderr",
     "output_type": "stream",
     "text": [
      "Downloading...\n",
      "From: https://drive.google.com/uc?id=1-HjG9f7wJDnNRdMQSiz8dlCI3sq5mfqj\n",
      "To: /cis/home/rmuthuk1/nonisotropic/models/cifar10/Linf/Kang2021Stable.pt\n",
      "100%|██████████| 1.07G/1.07G [00:25<00:00, 42.6MB/s]\n"
     ]
    },
    {
     "name": "stdout",
     "output_type": "stream",
     "text": [
      "Downloading models/cifar10/Linf/Xu2023Exploring_WRN-28-10.pt (gdrive_id=1k1uJI13ft0h0dfzuEihVpBvjBXwFRH2o).\n"
     ]
    },
    {
     "name": "stderr",
     "output_type": "stream",
     "text": [
      "Downloading...\n",
      "From: https://drive.google.com/uc?id=1k1uJI13ft0h0dfzuEihVpBvjBXwFRH2o\n",
      "To: /cis/home/rmuthuk1/nonisotropic/models/cifar10/Linf/Xu2023Exploring_WRN-28-10.pt\n",
      "100%|██████████| 146M/146M [00:02<00:00, 54.0MB/s] \n"
     ]
    },
    {
     "name": "stdout",
     "output_type": "stream",
     "text": [
      "Downloading models/cifar10/Linf/Gowal2021Improving_28_10_ddpm_100m.pt (gdrive_id=12L8YE6VBgUDKyW6GMSNefSYj2gg4LEKx).\n"
     ]
    },
    {
     "name": "stderr",
     "output_type": "stream",
     "text": [
      "Downloading...\n",
      "From: https://drive.google.com/uc?id=12L8YE6VBgUDKyW6GMSNefSYj2gg4LEKx\n",
      "To: /cis/home/rmuthuk1/nonisotropic/models/cifar10/Linf/Gowal2021Improving_28_10_ddpm_100m.pt\n",
      "100%|██████████| 146M/146M [00:02<00:00, 54.1MB/s] \n"
     ]
    }
   ],
   "source": [
    "for model_name in model_names:\n",
    "    model = load_model(model_name=model_name, dataset=\"cifar10\", threat_model=\"Linf\")"
   ]
  },
  {
   "cell_type": "code",
   "execution_count": 26,
   "metadata": {},
   "outputs": [
    {
     "name": "stdout",
     "output_type": "stream",
     "text": [
      "Files already downloaded and verified\n",
      "Evaluating pretrained models on CIFAR10\n",
      "\n",
      " Evaluating Model: Cui2023Decoupled_WRN-28-10\n",
      "Clean accuracy: 93.2%\n",
      "Robust accuracy: 14.4%\n"
     ]
    }
   ],
   "source": [
    "x_test, y_test = load_cifar10(n_examples=500)\n",
    "x_test, y_test = x_test.to(\"cuda:9\"), y_test.to(\"cuda:9\")\n",
    "\n",
    "x_adv = None\n",
    "\n",
    "print(\"Evaluating pretrained models on CIFAR10\")\n",
    "for model_name in model_names[4:]:\n",
    "    print(f\"\\n Evaluating Model: {model_name}\")\n",
    "    model = load_model(model_name=model_name, dataset=\"cifar10\", threat_model=\"Linf\")\n",
    "    model = model.to(\"cuda:9\")\n",
    "    acc = clean_accuracy(model, x_test, y_test)\n",
    "    print(f\"Clean accuracy: {acc:.1%}\")\n",
    "    adversary = AutoAttack(\n",
    "        model,\n",
    "        norm=\"Linf\",\n",
    "        eps=20 / 255,\n",
    "        version=\"custom\",\n",
    "        attacks_to_run=[\"apgd-ce\"],  # \"apgd-dlr\"\n",
    "        verbose=False,\n",
    "        device=\"cuda:9\",\n",
    "    )\n",
    "    adversary.apgd.n_restarts = 1\n",
    "    x_adv = adversary.run_standard_evaluation(x_test, y_test)\n",
    "    x_adv = x_adv.to(\"cuda:9\")\n",
    "    robust_acc = clean_accuracy(model, x_adv, y_test)\n",
    "    print(f\"Robust accuracy: {robust_acc:.1%}\")\n",
    "    break "
   ]
  },
  {
   "cell_type": "code",
   "execution_count": 29,
   "metadata": {},
   "outputs": [],
   "source": [
    "def plot_images(images, labels, num_images=4, random_start=False):\n",
    "    assert len(images) == len(labels)\n",
    "    num_data = len(images)\n",
    "    start = 10\n",
    "    if random_start:\n",
    "        start = torch.randint(0, num_data - num_images - 1, (1,)).item()\n",
    "\n",
    "    label_str = \"\"\n",
    "    classes = (\n",
    "        \"plane\",\n",
    "        \"car\",\n",
    "        \"bird\",\n",
    "        \"cat\",\n",
    "        \"deer\",\n",
    "        \"dog\",\n",
    "        \"frog\",\n",
    "        \"horse\",\n",
    "        \"ship\",\n",
    "        \"truck\",\n",
    "    )\n",
    "    for i in range(num_images):\n",
    "        label_str += classes[labels[start + i].item()] + \"\\n\"\n",
    "        # label_str += label_dict[labels[start + i].item()] + \"\\n\"\n",
    "    print(label_str)\n",
    "\n",
    "    img_select = images[start : start + num_images]\n",
    "    for i in range(num_images):\n",
    "        img_min = img_select[i].min()\n",
    "        img_max = img_select[i].max()\n",
    "        img_select[i].clamp_(min=img_min, max=img_max)\n",
    "        img_select[i].add_(-img_min).div_(img_max - img_min + 1e-5)\n",
    "    img = torchvision.utils.make_grid(img_select, nrow=num_images)\n",
    "\n",
    "    if img.is_cuda:\n",
    "        img = img.cpu()\n",
    "\n",
    "    plt.figure(figsize=(12, 12))\n",
    "    plt.imshow(img.permute(1, 2, 0))"
   ]
  },
  {
   "cell_type": "code",
   "execution_count": 16,
   "metadata": {},
   "outputs": [],
   "source": [
    "import torch\n",
    "\n",
    "import torchvision\n",
    "import torchvision.transforms as transforms\n",
    "from torchvision.io import read_image, ImageReadMode\n",
    "\n",
    "import numpy as np\n",
    "import matplotlib.pyplot as plt"
   ]
  },
  {
   "cell_type": "code",
   "execution_count": 30,
   "metadata": {},
   "outputs": [
    {
     "name": "stdout",
     "output_type": "stream",
     "text": [
      "plane\n",
      "truck\n",
      "dog\n",
      "horse\n",
      "\n"
     ]
    },
    {
     "data": {
      "image/png": "[encoded data removed]",
      "text/plain": [
       "<Figure size 1200x1200 with 1 Axes>"
      ]
     },
     "metadata": {},
     "output_type": "display_data"
    }
   ],
   "source": [
    "plot_images(x_test, y_test)"
   ]
  },
  {
   "cell_type": "code",
   "execution_count": 31,
   "metadata": {},
   "outputs": [
    {
     "name": "stdout",
     "output_type": "stream",
     "text": [
      "plane\n",
      "truck\n",
      "dog\n",
      "horse\n",
      "\n"
     ]
    },
    {
     "data": {
      "image/png": "[encoded data removed]",
      "text/plain": [
       "<Figure size 1200x1200 with 1 Axes>"
      ]
     },
     "metadata": {},
     "output_type": "display_data"
    }
   ],
   "source": [
    "plot_images(x_adv, y_test)"
   ]
  },
  {
   "cell_type": "code",
   "execution_count": 28,
   "metadata": {},
   "outputs": [],
   "source": [
    "cifar100_model_names = [\n",
    "    \"Wang2023Better_WRN-70-16\",\n",
    "    \"Bai2024MixedNUTS\",\n",
    "    \"Cui2023Decoupled_WRN-28-10\",\n",
    "    \"Wang2023Better_WRN-28-10\",\n",
    "    \"Bai2023Improving_edm\",\n",
    "    \"Gowal2020Uncovering_extra\",\n",
    "    \"Bai2023Improving_trades\",\n",
    "    \"Debenedetti2022Light_XCiT-L12\",\n",
    "    \"Rebuffi2021Fixing_70_16_cutmix_ddpm\",\n",
    "    \"Debenedetti2022Light_XCiT-M12\",\n",
    "    \"Pang2022Robustness_WRN70_16\",\n",
    "    \"Cui2023Decoupled_WRN-34-10_autoaug\",\n",
    "    \"Debenedetti2022Light_XCiT-S12\",\n",
    "    \"Rebuffi2021Fixing_28_10_cutmix_ddpm\",\n",
    "    \"Jia2022LAS-AT_34_20\",\n",
    "]"
   ]
  },
  {
   "cell_type": "code",
   "execution_count": 29,
   "metadata": {},
   "outputs": [
    {
     "name": "stdout",
     "output_type": "stream",
     "text": [
      "Downloading models/cifar100/Linf/Wang2023Better_WRN-70-16.pt (gdrive_id=1-yYcT73GP13c0y9HrgtpyB3NAfkGKgjY).\n"
     ]
    },
    {
     "name": "stderr",
     "output_type": "stream",
     "text": [
      "Downloading...\n",
      "From: https://drive.google.com/uc?id=1-yYcT73GP13c0y9HrgtpyB3NAfkGKgjY\n",
      "To: /cis/home/rmuthuk1/nonisotropic/models/cifar100/Linf/Wang2023Better_WRN-70-16.pt\n",
      "100%|██████████| 1.07G/1.07G [00:07<00:00, 138MB/s] \n"
     ]
    },
    {
     "name": "stdout",
     "output_type": "stream",
     "text": [
      "The STD classifier has 232647914 parameters. 232647914 parameters are trainable.\n",
      "The ROB classifier has 266888756 parameters. 266888756 parameters are trainable.\n",
      "Using alpha=0.9860300534207915.\n",
      "Using alpha_diffable=0.9706995384302841.\n",
      "Bypassing robust base model nonlinear transformation for gradient calculations.\n",
      "Disabling autocast.\n",
      "Downloading models/cifar100/Linf/Bai2024MixedNUTS.pt_m0.pt (gdrive_id=1V7utaY3SyU65o6ivjidG1-wO5wAVF517).\n"
     ]
    },
    {
     "name": "stderr",
     "output_type": "stream",
     "text": [
      "Downloading...\n",
      "From: https://drive.google.com/uc?id=1V7utaY3SyU65o6ivjidG1-wO5wAVF517\n",
      "To: /cis/home/rmuthuk1/nonisotropic/models/cifar100/Linf/Bai2024MixedNUTS.pt_m0.pt\n",
      "100%|██████████| 931M/931M [00:05<00:00, 177MB/s]  \n"
     ]
    },
    {
     "name": "stdout",
     "output_type": "stream",
     "text": [
      "Downloading models/cifar100/Linf/Bai2024MixedNUTS.pt_m1.pt (gdrive_id=1-yYcT73GP13c0y9HrgtpyB3NAfkGKgjY).\n"
     ]
    },
    {
     "name": "stderr",
     "output_type": "stream",
     "text": [
      "Downloading...\n",
      "From: https://drive.google.com/uc?id=1-yYcT73GP13c0y9HrgtpyB3NAfkGKgjY\n",
      "To: /cis/home/rmuthuk1/nonisotropic/models/cifar100/Linf/Bai2024MixedNUTS.pt_m1.pt\n",
      "100%|██████████| 1.07G/1.07G [00:07<00:00, 137MB/s] \n"
     ]
    },
    {
     "name": "stdout",
     "output_type": "stream",
     "text": [
      "Downloading models/cifar100/Linf/Cui2023Decoupled_WRN-28-10.pt (gdrive_id=15BwWdWbNfoarTEWWugicOVkTjh3nXH36).\n"
     ]
    },
    {
     "name": "stderr",
     "output_type": "stream",
     "text": [
      "Downloading...\n",
      "From: https://drive.google.com/uc?id=15BwWdWbNfoarTEWWugicOVkTjh3nXH36\n",
      "To: /cis/home/rmuthuk1/nonisotropic/models/cifar100/Linf/Cui2023Decoupled_WRN-28-10.pt\n",
      "100%|██████████| 146M/146M [00:02<00:00, 71.3MB/s] \n"
     ]
    },
    {
     "name": "stdout",
     "output_type": "stream",
     "text": [
      "Downloading models/cifar100/Linf/Wang2023Better_WRN-28-10.pt (gdrive_id=1-jOu3wKWyw0XnBCXDGR32xn8Bw9GTJgh).\n"
     ]
    },
    {
     "name": "stderr",
     "output_type": "stream",
     "text": [
      "Downloading...\n",
      "From: https://drive.google.com/uc?id=1-jOu3wKWyw0XnBCXDGR32xn8Bw9GTJgh\n",
      "To: /cis/home/rmuthuk1/nonisotropic/models/cifar100/Linf/Wang2023Better_WRN-28-10.pt\n",
      "100%|██████████| 146M/146M [00:01<00:00, 118MB/s]  \n"
     ]
    },
    {
     "name": "stdout",
     "output_type": "stream",
     "text": [
      "The STD classifier has 232647908 parameters. 0 parameters are trainable.\n",
      "The ROB classifier has 266888756 parameters. 0 parameters are trainable.\n",
      "The mixing network has 67848704 parameters. 67848704 parameters are trainable.\n",
      "\n",
      "gamma has been set to 2.5, but the mixing network is active so the change is not effective.\n",
      "The mixing network's gamma mean is set to 1.2999999523162842.\n",
      "The mixing network's gamma standard deviation is set to 2.0.\n",
      "The range of alpha during evaluation is set to (0.8399999737739563, 0.9900000095367432).\n",
      "The logit output scale of the STD network is set to 2.0.\n",
      "The logit output scale of the ROB network is set to 1.0.\n",
      "\n",
      "Downloading models/cifar100/Linf/Bai2023Improving_edm.pt_m0.pt (gdrive_id=12Z63xr4bQwdIvR2w8xvpUnXG1fnUpy5B).\n"
     ]
    },
    {
     "name": "stderr",
     "output_type": "stream",
     "text": [
      "Downloading...\n",
      "From: https://drive.google.com/uc?id=12Z63xr4bQwdIvR2w8xvpUnXG1fnUpy5B\n",
      "To: /cis/home/rmuthuk1/nonisotropic/models/cifar100/Linf/Bai2023Improving_edm.pt_m0.pt\n",
      "100%|██████████| 931M/931M [00:05<00:00, 159MB/s]  \n"
     ]
    },
    {
     "name": "stdout",
     "output_type": "stream",
     "text": [
      "Downloading models/cifar100/Linf/Bai2023Improving_edm.pt_m1.pt (gdrive_id=1-yYcT73GP13c0y9HrgtpyB3NAfkGKgjY).\n"
     ]
    },
    {
     "name": "stderr",
     "output_type": "stream",
     "text": [
      "Downloading...\n",
      "From: https://drive.google.com/uc?id=1-yYcT73GP13c0y9HrgtpyB3NAfkGKgjY\n",
      "To: /cis/home/rmuthuk1/nonisotropic/models/cifar100/Linf/Bai2023Improving_edm.pt_m1.pt\n",
      "100%|██████████| 1.07G/1.07G [00:08<00:00, 126MB/s] \n"
     ]
    },
    {
     "name": "stdout",
     "output_type": "stream",
     "text": [
      "Downloading models/cifar100/Linf/Bai2023Improving_edm.pt_m2.pt (gdrive_id=1--8Jd82Q9ZLlVS_6c1iPrBxqy9sbdAkx).\n"
     ]
    },
    {
     "name": "stderr",
     "output_type": "stream",
     "text": [
      "Downloading...\n",
      "From: https://drive.google.com/uc?id=1--8Jd82Q9ZLlVS_6c1iPrBxqy9sbdAkx\n",
      "To: /cis/home/rmuthuk1/nonisotropic/models/cifar100/Linf/Bai2023Improving_edm.pt_m2.pt\n",
      "100%|██████████| 814M/814M [00:06<00:00, 120MB/s]  \n"
     ]
    },
    {
     "name": "stdout",
     "output_type": "stream",
     "text": [
      "Downloading models/cifar100/Linf/Gowal2020Uncovering_extra.pt (gdrive_id=1LQBdwO2b391mg7VKcP6I0HIOpC6O83gn).\n"
     ]
    },
    {
     "name": "stderr",
     "output_type": "stream",
     "text": [
      "Downloading...\n",
      "From: https://drive.google.com/uc?id=1LQBdwO2b391mg7VKcP6I0HIOpC6O83gn\n",
      "To: /cis/home/rmuthuk1/nonisotropic/models/cifar100/Linf/Gowal2020Uncovering_extra.pt\n",
      "100%|██████████| 1.07G/1.07G [00:11<00:00, 92.8MB/s]\n"
     ]
    },
    {
     "name": "stdout",
     "output_type": "stream",
     "text": [
      "The STD classifier has 232647908 parameters. 0 parameters are trainable.\n",
      "The ROB classifier has 266888756 parameters. 0 parameters are trainable.\n",
      "The mixing network has 67848704 parameters. 67848704 parameters are trainable.\n",
      "\n",
      "gamma has been set to 1.75, but the mixing network is active so the change is not effective.\n",
      "The mixing network's gamma mean is set to 1.0.\n",
      "The mixing network's gamma standard deviation is set to 2.0.\n",
      "The range of alpha during evaluation is set to (0.8149999976158142, 0.9150000214576721).\n",
      "The logit output scale of the STD network is set to 2.0.\n",
      "The logit output scale of the ROB network is set to 1.0.\n",
      "\n",
      "Downloading models/cifar100/Linf/Bai2023Improving_trades.pt_m0.pt (gdrive_id=12Z63xr4bQwdIvR2w8xvpUnXG1fnUpy5B).\n"
     ]
    },
    {
     "name": "stderr",
     "output_type": "stream",
     "text": [
      "Downloading...\n",
      "From: https://drive.google.com/uc?id=12Z63xr4bQwdIvR2w8xvpUnXG1fnUpy5B\n",
      "To: /cis/home/rmuthuk1/nonisotropic/models/cifar100/Linf/Bai2023Improving_trades.pt_m0.pt\n",
      "100%|██████████| 931M/931M [00:05<00:00, 163MB/s]  \n"
     ]
    },
    {
     "name": "stdout",
     "output_type": "stream",
     "text": [
      "Downloading models/cifar100/Linf/Bai2023Improving_trades.pt_m1.pt (gdrive_id=1LQBdwO2b391mg7VKcP6I0HIOpC6O83gn).\n"
     ]
    },
    {
     "name": "stderr",
     "output_type": "stream",
     "text": [
      "Downloading...\n",
      "From: https://drive.google.com/uc?id=1LQBdwO2b391mg7VKcP6I0HIOpC6O83gn\n",
      "To: /cis/home/rmuthuk1/nonisotropic/models/cifar100/Linf/Bai2023Improving_trades.pt_m1.pt\n",
      "100%|██████████| 1.07G/1.07G [00:05<00:00, 193MB/s] \n"
     ]
    },
    {
     "name": "stdout",
     "output_type": "stream",
     "text": [
      "Downloading models/cifar100/Linf/Bai2023Improving_trades.pt_m2.pt (gdrive_id=1-0Sffx4gCIydJc16n1H0k6FYE4kHRnGm).\n"
     ]
    },
    {
     "name": "stderr",
     "output_type": "stream",
     "text": [
      "Downloading...\n",
      "From: https://drive.google.com/uc?id=1-0Sffx4gCIydJc16n1H0k6FYE4kHRnGm\n",
      "To: /cis/home/rmuthuk1/nonisotropic/models/cifar100/Linf/Bai2023Improving_trades.pt_m2.pt\n",
      "100%|██████████| 814M/814M [00:06<00:00, 119MB/s]  \n",
      "Downloading: \"https://github.com/RobustBench/robustbench/releases/download/v1.1/debenedetti2022light-xcit-l-cifar100-linf.pth.tar\" to /cis/home/rmuthuk1/.cache/torch/hub/checkpoints/debenedetti2022light-xcit-l-cifar100-linf.pth.tar\n"
     ]
    },
    {
     "name": "stdout",
     "output_type": "stream",
     "text": [
      "Downloading models/cifar100/Linf/Rebuffi2021Fixing_70_16_cutmix_ddpm.pt (gdrive_id=1-GkVLo9QaRjCJl-by67xda1ySVhYxsLV).\n"
     ]
    },
    {
     "name": "stderr",
     "output_type": "stream",
     "text": [
      "Downloading...\n",
      "From: https://drive.google.com/uc?id=1-GkVLo9QaRjCJl-by67xda1ySVhYxsLV\n",
      "To: /cis/home/rmuthuk1/nonisotropic/models/cifar100/Linf/Rebuffi2021Fixing_70_16_cutmix_ddpm.pt\n",
      "100%|██████████| 1.07G/1.07G [00:15<00:00, 69.9MB/s]\n",
      "Downloading: \"https://github.com/RobustBench/robustbench/releases/download/v1.1/debenedetti2022light-xcit-m-cifar100-linf.pth.tar\" to /cis/home/rmuthuk1/.cache/torch/hub/checkpoints/debenedetti2022light-xcit-m-cifar100-linf.pth.tar\n"
     ]
    },
    {
     "name": "stdout",
     "output_type": "stream",
     "text": [
      "Downloading models/cifar100/Linf/Pang2022Robustness_WRN70_16.pt (gdrive_id=1F3kn8KIdBVls8QuTWc3BbB83htkQeVQD).\n"
     ]
    },
    {
     "name": "stderr",
     "output_type": "stream",
     "text": [
      "Downloading...\n",
      "From: https://drive.google.com/uc?id=1F3kn8KIdBVls8QuTWc3BbB83htkQeVQD\n",
      "To: /cis/home/rmuthuk1/nonisotropic/models/cifar100/Linf/Pang2022Robustness_WRN70_16.pt\n",
      "100%|██████████| 1.07G/1.07G [00:11<00:00, 90.4MB/s]\n"
     ]
    },
    {
     "name": "stdout",
     "output_type": "stream",
     "text": [
      "Downloading models/cifar100/Linf/Cui2023Decoupled_WRN-34-10_autoaug.pt (gdrive_id=18hjcLa1V3JTNUOshafLvw1ncxL2gu50M).\n"
     ]
    },
    {
     "name": "stderr",
     "output_type": "stream",
     "text": [
      "Downloading...\n",
      "From: https://drive.google.com/uc?id=18hjcLa1V3JTNUOshafLvw1ncxL2gu50M\n",
      "To: /cis/home/rmuthuk1/nonisotropic/models/cifar100/Linf/Cui2023Decoupled_WRN-34-10_autoaug.pt\n",
      "100%|██████████| 185M/185M [00:01<00:00, 110MB/s]  \n",
      "Downloading: \"https://github.com/RobustBench/robustbench/releases/download/v1.1/debenedetti2022light-xcit-s-cifar100-linf.pth.tar\" to /cis/home/rmuthuk1/.cache/torch/hub/checkpoints/debenedetti2022light-xcit-s-cifar100-linf.pth.tar\n"
     ]
    },
    {
     "name": "stdout",
     "output_type": "stream",
     "text": [
      "Downloading models/cifar100/Linf/Rebuffi2021Fixing_28_10_cutmix_ddpm.pt (gdrive_id=1-P7cs82Tj6UVx7Coin3tVurVKYwXWA9p).\n"
     ]
    },
    {
     "name": "stderr",
     "output_type": "stream",
     "text": [
      "Downloading...\n",
      "From: https://drive.google.com/uc?id=1-P7cs82Tj6UVx7Coin3tVurVKYwXWA9p\n",
      "To: /cis/home/rmuthuk1/nonisotropic/models/cifar100/Linf/Rebuffi2021Fixing_28_10_cutmix_ddpm.pt\n",
      "100%|██████████| 146M/146M [00:02<00:00, 62.1MB/s] \n"
     ]
    },
    {
     "name": "stdout",
     "output_type": "stream",
     "text": [
      "Downloading models/cifar100/Linf/Jia2022LAS-AT_34_20.pt (gdrive_id=1WhRq01Yl1v8O3skkrGUBuySlptidc5a6).\n"
     ]
    },
    {
     "name": "stderr",
     "output_type": "stream",
     "text": [
      "Downloading...\n",
      "From: https://drive.google.com/uc?id=1WhRq01Yl1v8O3skkrGUBuySlptidc5a6\n",
      "To: /cis/home/rmuthuk1/nonisotropic/models/cifar100/Linf/Jia2022LAS-AT_34_20.pt\n",
      "100%|██████████| 739M/739M [00:08<00:00, 90.8MB/s] \n"
     ]
    }
   ],
   "source": [
    "for model_name in cifar100_model_names:\n",
    "    model = load_model(model_name=model_name, dataset=\"cifar100\", threat_model=\"Linf\")"
   ]
  },
  {
   "cell_type": "code",
   "execution_count": 30,
   "metadata": {},
   "outputs": [],
   "source": [
    "imagenet_model_names = [\n",
    "    \"Liu2023Comprehensive_Swin-L\",\n",
    "    \"Bai2024MixedNUTS\",\n",
    "    \"Liu2023Comprehensive_ConvNeXt-L\",\n",
    "    \"Singh2023Revisiting_ConvNeXt-L-ConvStem\",\n",
    "    \"Liu2023Comprehensive_Swin-B\",\n",
    "    \"Singh2023Revisiting_ConvNeXt-B-ConvStem\",\n",
    "    \"Liu2023Comprehensive_ConvNeXt-B\",\n",
    "    \"Singh2023Revisiting_ViT-B-ConvStem\",\n",
    "    \"Singh2023Revisiting_ConvNeXt-S-ConvStem\",\n",
    "    \"Singh2023Revisiting_ConvNeXt-T-ConvStem\",\n",
    "    \"Peng2023Robust\",\n",
    "    \"Singh2023Revisiting_ViT-S-ConvStem\",\n",
    "    \"Debenedetti2022Light_XCiT-L12\",\n",
    "    \"Debenedetti2022Light_XCiT-M12\",\n",
    "    \"Debenedetti2022Light_XCiT-S12\",\n",
    "]"
   ]
  },
  {
   "cell_type": "code",
   "execution_count": 31,
   "metadata": {},
   "outputs": [
    {
     "name": "stdout",
     "output_type": "stream",
     "text": [
      "Downloading models/imagenet/Linf/Liu2023Comprehensive_Swin-L.pt (gdrive_id=1-57sQfcrsDsslfDR18nRD7FnpQmsSBk7).\n"
     ]
    },
    {
     "name": "stderr",
     "output_type": "stream",
     "text": [
      "Downloading...\n",
      "From: https://drive.google.com/uc?id=1-57sQfcrsDsslfDR18nRD7FnpQmsSBk7\n",
      "To: /cis/home/rmuthuk1/nonisotropic/models/imagenet/Linf/Liu2023Comprehensive_Swin-L.pt\n",
      "100%|██████████| 788M/788M [00:12<00:00, 62.5MB/s] \n"
     ]
    },
    {
     "name": "stdout",
     "output_type": "stream",
     "text": [
      "The STD classifier has 197956846 parameters. 197956846 parameters are trainable.\n",
      "The ROB classifier has 196532476 parameters. 196532476 parameters are trainable.\n",
      "Using alpha=0.9971266414518896.\n",
      "Using alpha_diffable=0.90683792395046.\n",
      "Bypassing robust base model nonlinear transformation for gradient calculations.\n",
      "Disabling autocast.\n",
      "Downloading models/imagenet/Linf/Bai2024MixedNUTS.pt_m0.pt (gdrive_id=1-2CwsRuMZXr99PeU2Z7-iFjl_86uIR-Y).\n"
     ]
    },
    {
     "name": "stderr",
     "output_type": "stream",
     "text": [
      "Downloading...\n",
      "From: https://drive.google.com/uc?id=1-2CwsRuMZXr99PeU2Z7-iFjl_86uIR-Y\n",
      "To: /cis/home/rmuthuk1/nonisotropic/models/imagenet/Linf/Bai2024MixedNUTS.pt_m0.pt\n",
      "100%|██████████| 792M/792M [00:09<00:00, 80.0MB/s] \n"
     ]
    },
    {
     "name": "stdout",
     "output_type": "stream",
     "text": [
      "Downloading models/imagenet/Linf/Bai2024MixedNUTS.pt_m1.pt (gdrive_id=1-57sQfcrsDsslfDR18nRD7FnpQmsSBk7).\n"
     ]
    },
    {
     "name": "stderr",
     "output_type": "stream",
     "text": [
      "Downloading...\n",
      "From: https://drive.google.com/uc?id=1-57sQfcrsDsslfDR18nRD7FnpQmsSBk7\n",
      "To: /cis/home/rmuthuk1/nonisotropic/models/imagenet/Linf/Bai2024MixedNUTS.pt_m1.pt\n",
      "100%|██████████| 788M/788M [00:08<00:00, 92.5MB/s] \n"
     ]
    },
    {
     "name": "stdout",
     "output_type": "stream",
     "text": [
      "Downloading models/imagenet/Linf/Liu2023Comprehensive_ConvNeXt-L.pt (gdrive_id=1dIPLNfdQtAnqZrKPyuy3_zDI-FVgJ2FH).\n"
     ]
    },
    {
     "name": "stderr",
     "output_type": "stream",
     "text": [
      "Downloading...\n",
      "From: https://drive.google.com/uc?id=1dIPLNfdQtAnqZrKPyuy3_zDI-FVgJ2FH\n",
      "To: /cis/home/rmuthuk1/nonisotropic/models/imagenet/Linf/Liu2023Comprehensive_ConvNeXt-L.pt\n",
      "100%|██████████| 791M/791M [00:07<00:00, 101MB/s]  \n"
     ]
    },
    {
     "name": "stdout",
     "output_type": "stream",
     "text": [
      "Downloading models/imagenet/Linf/Singh2023Revisiting_ConvNeXt-L-ConvStem.pt (gdrive_id=10-YOVdM2EQjHemSi9x2H44qKRSOXVQmh).\n"
     ]
    },
    {
     "name": "stderr",
     "output_type": "stream",
     "text": [
      "Downloading...\n",
      "From: https://drive.google.com/uc?id=10-YOVdM2EQjHemSi9x2H44qKRSOXVQmh\n",
      "To: /cis/home/rmuthuk1/nonisotropic/models/imagenet/Linf/Singh2023Revisiting_ConvNeXt-L-ConvStem.pt\n",
      "100%|██████████| 793M/793M [00:06<00:00, 129MB/s]  \n"
     ]
    },
    {
     "name": "stdout",
     "output_type": "stream",
     "text": [
      "Downloading models/imagenet/Linf/Liu2023Comprehensive_Swin-B.pt (gdrive_id=1-4mtxQCkThJUVdS3wvQ6NnmMZuySqR3c).\n"
     ]
    },
    {
     "name": "stderr",
     "output_type": "stream",
     "text": [
      "Downloading...\n",
      "From: https://drive.google.com/uc?id=1-4mtxQCkThJUVdS3wvQ6NnmMZuySqR3c\n",
      "To: /cis/home/rmuthuk1/nonisotropic/models/imagenet/Linf/Liu2023Comprehensive_Swin-B.pt\n",
      "100%|██████████| 353M/353M [00:05<00:00, 62.1MB/s] \n"
     ]
    },
    {
     "name": "stdout",
     "output_type": "stream",
     "text": [
      "Downloading models/imagenet/Linf/Singh2023Revisiting_ConvNeXt-B-ConvStem.pt (gdrive_id=1-lE-waaVvfL7lgBrydmZIM9UJimmHnVe).\n"
     ]
    },
    {
     "name": "stderr",
     "output_type": "stream",
     "text": [
      "Downloading...\n",
      "From: https://drive.google.com/uc?id=1-lE-waaVvfL7lgBrydmZIM9UJimmHnVe\n",
      "To: /cis/home/rmuthuk1/nonisotropic/models/imagenet/Linf/Singh2023Revisiting_ConvNeXt-B-ConvStem.pt\n",
      "100%|██████████| 355M/355M [00:02<00:00, 151MB/s]  \n"
     ]
    },
    {
     "name": "stdout",
     "output_type": "stream",
     "text": [
      "Downloading models/imagenet/Linf/Liu2023Comprehensive_ConvNeXt-B.pt (gdrive_id=10-nSm-qUftvfKXHeOAakBQl8rxm-jCbk).\n"
     ]
    },
    {
     "name": "stderr",
     "output_type": "stream",
     "text": [
      "Downloading...\n",
      "From: https://drive.google.com/uc?id=10-nSm-qUftvfKXHeOAakBQl8rxm-jCbk\n",
      "To: /cis/home/rmuthuk1/nonisotropic/models/imagenet/Linf/Liu2023Comprehensive_ConvNeXt-B.pt\n",
      "100%|██████████| 354M/354M [00:03<00:00, 101MB/s]  \n"
     ]
    },
    {
     "name": "stdout",
     "output_type": "stream",
     "text": [
      "Downloading models/imagenet/Linf/Singh2023Revisiting_ViT-B-ConvStem.pt (gdrive_id=1-JBbfi_eH3tKMXObvPPHprrZae0RiQGT).\n"
     ]
    },
    {
     "name": "stderr",
     "output_type": "stream",
     "text": [
      "Downloading...\n",
      "From: https://drive.google.com/uc?id=1-JBbfi_eH3tKMXObvPPHprrZae0RiQGT\n",
      "To: /cis/home/rmuthuk1/nonisotropic/models/imagenet/Linf/Singh2023Revisiting_ViT-B-ConvStem.pt\n",
      "100%|██████████| 349M/349M [00:05<00:00, 61.1MB/s] \n"
     ]
    },
    {
     "name": "stdout",
     "output_type": "stream",
     "text": [
      "Downloading models/imagenet/Linf/Singh2023Revisiting_ConvNeXt-S-ConvStem.pt (gdrive_id=1-ZrMYajCCnrtV4oT0wa3qJJoQy1nUSnL).\n"
     ]
    },
    {
     "name": "stderr",
     "output_type": "stream",
     "text": [
      "Downloading...\n",
      "From: https://drive.google.com/uc?id=1-ZrMYajCCnrtV4oT0wa3qJJoQy1nUSnL\n",
      "To: /cis/home/rmuthuk1/nonisotropic/models/imagenet/Linf/Singh2023Revisiting_ConvNeXt-S-ConvStem.pt\n",
      "100%|██████████| 201M/201M [00:01<00:00, 125MB/s]  \n"
     ]
    },
    {
     "name": "stdout",
     "output_type": "stream",
     "text": [
      "Downloading models/imagenet/Linf/Singh2023Revisiting_ConvNeXt-T-ConvStem.pt (gdrive_id=1-FjtOF6LJ3-bf4VezsmWwncCxYSx-USP).\n"
     ]
    },
    {
     "name": "stderr",
     "output_type": "stream",
     "text": [
      "Downloading...\n",
      "From: https://drive.google.com/uc?id=1-FjtOF6LJ3-bf4VezsmWwncCxYSx-USP\n",
      "To: /cis/home/rmuthuk1/nonisotropic/models/imagenet/Linf/Singh2023Revisiting_ConvNeXt-T-ConvStem.pt\n",
      "100%|██████████| 115M/115M [00:01<00:00, 70.6MB/s] \n"
     ]
    },
    {
     "name": "stdout",
     "output_type": "stream",
     "text": [
      "Downloading models/imagenet/Linf/Peng2023Robust.pt (gdrive_id=1-GpZ9Du83mBTN61Ytx9z_ZQSyIc1kYop).\n"
     ]
    },
    {
     "name": "stderr",
     "output_type": "stream",
     "text": [
      "Downloading...\n",
      "From: https://drive.google.com/uc?id=1-GpZ9Du83mBTN61Ytx9z_ZQSyIc1kYop\n",
      "To: /cis/home/rmuthuk1/nonisotropic/models/imagenet/Linf/Peng2023Robust.pt\n",
      "100%|██████████| 417M/417M [00:02<00:00, 162MB/s]  \n"
     ]
    },
    {
     "name": "stdout",
     "output_type": "stream",
     "text": [
      "Downloading models/imagenet/Linf/Singh2023Revisiting_ViT-S-ConvStem.pt (gdrive_id=1-1sUYXnj6bDXacIKI3KKqn4rlkmL-ZI2).\n"
     ]
    },
    {
     "name": "stderr",
     "output_type": "stream",
     "text": [
      "Downloading...\n",
      "From: https://drive.google.com/uc?id=1-1sUYXnj6bDXacIKI3KKqn4rlkmL-ZI2\n",
      "To: /cis/home/rmuthuk1/nonisotropic/models/imagenet/Linf/Singh2023Revisiting_ViT-S-ConvStem.pt\n",
      "100%|██████████| 91.2M/91.2M [00:01<00:00, 85.9MB/s]\n",
      "Downloading: \"https://github.com/RobustBench/robustbench/releases/download/v1.1/debenedetti2022light-xcit-l-imagenet-linf.pth.tar\" to /cis/home/rmuthuk1/.cache/torch/hub/checkpoints/debenedetti2022light-xcit-l-imagenet-linf.pth.tar\n",
      "Downloading: \"https://github.com/RobustBench/robustbench/releases/download/v1.1/debenedetti2022light-xcit-m-imagenet-linf.pth.tar\" to /cis/home/rmuthuk1/.cache/torch/hub/checkpoints/debenedetti2022light-xcit-m-imagenet-linf.pth.tar\n",
      "Downloading: \"https://github.com/RobustBench/robustbench/releases/download/v1.1/debenedetti2022light-xcit-s-imagenet-linf.pth.tar\" to /cis/home/rmuthuk1/.cache/torch/hub/checkpoints/debenedetti2022light-xcit-s-imagenet-linf.pth.tar\n"
     ]
    }
   ],
   "source": [
    "for model_name in imagenet_model_names:\n",
    "    model = load_model(model_name=model_name, dataset=\"imagenet\", threat_model=\"Linf\")"
   ]
  },
  {
   "cell_type": "code",
   "execution_count": null,
   "metadata": {},
   "outputs": [],
   "source": []
  }
 ],
 "metadata": {
  "kernelspec": {
   "display_name": "advrob",
   "language": "python",
   "name": "python3"
  },
  "language_info": {
   "codemirror_mode": {
    "name": "ipython",
    "version": 3
   },
   "file_extension": ".py",
   "mimetype": "text/x-python",
   "name": "python",
   "nbconvert_exporter": "python",
   "pygments_lexer": "ipython3",
   "version": "3.9.19"
  }
 },
 "nbformat": 4,
 "nbformat_minor": 2
}
