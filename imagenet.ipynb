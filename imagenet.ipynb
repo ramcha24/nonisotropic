{
 "cells": [
  {
   "cell_type": "code",
   "execution_count": 1,
   "metadata": {},
   "outputs": [],
   "source": [
    "from IPython.display import clear_output\n",
    "\n",
    "import os, glob\n",
    "from pathlib import Path\n",
    "import gc\n",
    "import abc\n",
    "import concurrent\n",
    "\n",
    "import numpy as np\n",
    "import matplotlib.pyplot as plt\n",
    "from PIL import Image\n",
    "from skimage.io import imread_collection\n",
    "\n",
    "import torch\n",
    "from torch.utils.data import DataLoader\n",
    "from torch.utils.data import Dataset\n",
    "import torch.nn.functional as F\n",
    "\n",
    "import torchvision\n",
    "import torchvision.transforms as T\n",
    "from torchvision.io import read_image, ImageReadMode\n",
    "\n",
    "from torchmetrics.functional import pairwise_cosine_similarity\n",
    "\n",
    "assert torch.cuda.is_available()\n",
    "\n",
    "gc.collect()\n",
    "torch.cuda.empty_cache()\n",
    "\n",
    "cuda = torch.device(\"cuda:7\")"
   ]
  },
  {
   "cell_type": "code",
   "execution_count": 2,
   "metadata": {},
   "outputs": [
    {
     "data": {
      "text/plain": [
       "['n01440764', 'n01443537']"
      ]
     },
     "execution_count": 2,
     "metadata": {},
     "output_type": "execute_result"
    }
   ],
   "source": [
    "# dataset_parameters\n",
    "num_labels = 1000\n",
    "input_shape = [3, 224, 224]\n",
    "num_train_data = 1281167\n",
    "num_test_data = 50000\n",
    "batch_size = 50\n",
    "dataset_loc = \"./datasets/imagenet\"\n",
    "dataset_name = \"imagenet\"\n",
    "per_label_array = [10, 20, 30, 40, 50]\n",
    "train_loc = os.path.join(dataset_loc, \"train\")\n",
    "val_loc = os.path.join(dataset_loc, \"val\")\n",
    "classes = os.listdir(train_loc)\n",
    "assert num_labels == len(classes)\n",
    "classes[:2]"
   ]
  },
  {
   "cell_type": "code",
   "execution_count": 3,
   "metadata": {},
   "outputs": [],
   "source": [
    "transforms = T.Compose(\n",
    "        [T.ToTensor()]\n",
    "        + [T.Resize(256), T.CenterCrop(224)]\n",
    "        + [T.Normalize([0.485, 0.456, 0.406], [0.229, 0.224, 0.225])]\n",
    ")"
   ]
  },
  {
   "cell_type": "code",
   "execution_count": 4,
   "metadata": {},
   "outputs": [],
   "source": [
    "def roundup(x, base_index=1):\n",
    "    return math.ceil(x / pow(10, base_index)) * pow(10, base_index)\n",
    "\n",
    "\n",
    "def human_format(num):\n",
    "    num = float(\"{:.3g}\".format(num))\n",
    "    magnitude = 0\n",
    "    while abs(num) >= 1000:\n",
    "        magnitude += 1\n",
    "        num /= 1000.0\n",
    "    return \"{}{}\".format(\n",
    "        \"{:f}\".format(num).rstrip(\"0\").rstrip(\".\"), [\"\", \"K\", \"M\", \"B\", \"T\"][magnitude]\n",
    "    )\n",
    "\n",
    "\n",
    "def move_to_device(tensors, device):\n",
    "    if type(tensors) is tuple:\n",
    "        return tuple(tensor.to(device) for tensor in tensors)\n",
    "    return tensors.to(device)"
   ]
  },
  {
   "cell_type": "code",
   "execution_count": 5,
   "metadata": {},
   "outputs": [],
   "source": [
    "def _get_samples(root, y_name):\n",
    "    y_dir = os.path.join(root, y_name)\n",
    "    if not Path(y_dir).is_dir():\n",
    "        return []\n",
    "    output = [\n",
    "        os.path.join(y_dir, f)\n",
    "        for f in os.listdir(y_dir)\n",
    "        if f.lower().endswith(\"jpeg\")\n",
    "    ]\n",
    "    return output\n",
    "\n",
    "def get_paths(loc_str):\n",
    "    sample_paths = dict()\n",
    "    for y_num, y_name in enumerate(classes):\n",
    "        sample_paths[y_num] = _get_samples(loc_str, y_name)\n",
    "    return sample_paths\n",
    "        "
   ]
  },
  {
   "cell_type": "code",
   "execution_count": 6,
   "metadata": {},
   "outputs": [],
   "source": [
    "def path_to_image(image_path):\n",
    "    with open(image_path, \"rb\") as fp:\n",
    "        return Image.open(fp).convert(\"RGB\")\n",
    "\n",
    "def path_to_tensor(p):\n",
    "    transforms = T.Compose(\n",
    "        [T.ToTensor()] +\n",
    "        [\n",
    "        T.Resize(256),\n",
    "        T.CenterCrop(224)\n",
    "        ]\n",
    "        +\n",
    "        [T.Normalize(\n",
    "                    [0.485, 0.456, 0.406], [0.229, 0.224, 0.225]\n",
    "                )]\n",
    "        )\n",
    "    \n",
    "    return transforms(img=np.array(path_to_image(p)))\n",
    "\n",
    "def path_to_batch(image_paths):\n",
    "    batch = torch.zeros(1, 3, 224, 224)\n",
    "    \n",
    "    executor = concurrent.futures.ThreadPoolExecutor(\n",
    "                max_workers=4\n",
    "            )\n",
    "    futures = [\n",
    "                executor.submit(path_to_tensor, p)\n",
    "                for p in image_paths\n",
    "            ]\n",
    "    \n",
    "    for d in concurrent.futures.wait(futures)[0]:\n",
    "        batch = torch.cat((batch, d.result().unsqueeze(0)), dim=0) \n",
    "\n",
    "    # for index, p in enumerate(image_paths):\n",
    "    #     batch[index]= transforms(img=np.array(path_to_image(p)))\n",
    "\n",
    "    return batch[1:,:,:,:]\n",
    "\n",
    "def imcollection_to_listT(images):\n",
    "    transforms = T.Compose(\n",
    "        [T.ToTensor()] +\n",
    "        [\n",
    "        T.Resize(256),\n",
    "        T.CenterCrop(224)\n",
    "        ]\n",
    "        +\n",
    "        [T.Normalize(\n",
    "                    [0.485, 0.456, 0.406], [0.229, 0.224, 0.225]\n",
    "                )]\n",
    "        )\n",
    "    \n",
    "    return [transforms(img=np.array(image)) for image in images if len(np.shape(image))==3]"
   ]
  },
  {
   "cell_type": "code",
   "execution_count": null,
   "metadata": {},
   "outputs": [],
   "source": [
    "train_sample_paths = get_paths(train_loc)"
   ]
  },
  {
   "cell_type": "code",
   "execution_count": 8,
   "metadata": {},
   "outputs": [
    {
     "name": "stdout",
     "output_type": "stream",
     "text": [
      "(375, 500, 3)\n"
     ]
    },
    {
     "data": {
      "image/jpeg": "[encoded data removed]",
      "image/png": "[encoded data removed]",
      "text/plain": [
       "<PIL.Image.Image image mode=RGB size=500x375>"
      ]
     },
     "execution_count": 8,
     "metadata": {},
     "output_type": "execute_result"
    }
   ],
   "source": [
    "label = 0\n",
    "img_index = 100\n",
    "img = path_to_image(train_sample_paths[label][img_index])\n",
    "img_np = np.array(img)\n",
    "print(np.shape(img_np))\n",
    "img"
   ]
  },
  {
   "cell_type": "code",
   "execution_count": 9,
   "metadata": {},
   "outputs": [],
   "source": [
    "def get_greedy_subset_partition(domain, num_points):\n",
    "    domain = domain.to(device=cuda)\n",
    "    domain_flat = torch.flatten(domain, start_dim=1)\n",
    "\n",
    "    # flat_shape = domain_flat.shape[1:]\n",
    "    # subset_shape = [num_points, flat_shape]\n",
    "    subset_shape = [num_points] + input_shape\n",
    "\n",
    "    subset_domain = torch.zeros(subset_shape, device=cuda)\n",
    "    # random initialization\n",
    "    rand_index = torch.randint(0, len(domain), (1,)).item()\n",
    "    subset_domain[0] = domain[rand_index]\n",
    "\n",
    "    for index in range(1, num_points):\n",
    "        sim = pairwise_cosine_similarity(\n",
    "            domain_flat, torch.flatten(subset_domain[:index], start_dim=1)\n",
    "        )\n",
    "        max_sim = torch.max(sim, dim=1).values\n",
    "        selected_index = torch.argmin(max_sim).item()\n",
    "        subset_domain[index] = domain[selected_index]\n",
    "    return subset_domain"
   ]
  },
  {
   "cell_type": "code",
   "execution_count": 20,
   "metadata": {},
   "outputs": [
    {
     "name": "stdout",
     "output_type": "stream",
     "text": [
      "(189, 213, 4)\n"
     ]
    }
   ],
   "source": [
    "y_num = 230\n",
    "index = 196\n",
    "train_folder_path = os.path.join(train_loc, classes[230])\n",
    "train_selection_string = train_folder_path + \"/*.JPEG\"\n",
    "train_images = imread_collection(train_selection_string)\n",
    "print(np.shape(train_images[index]))\n",
    "        "
   ]
  },
  {
   "cell_type": "code",
   "execution_count": 25,
   "metadata": {},
   "outputs": [
    {
     "name": "stdout",
     "output_type": "stream",
     "text": [
      "torch.Size([4, 189, 213])\n",
      "torch.Size([4, 256, 288])\n",
      "torch.Size([4, 224, 224])\n"
     ]
    },
    {
     "ename": "RuntimeError",
     "evalue": "The size of tensor a (4) must match the size of tensor b (3) at non-singleton dimension 0",
     "output_type": "error",
     "traceback": [
      "\u001b[0;31m---------------------------------------------------------------------------\u001b[0m",
      "\u001b[0;31mRuntimeError\u001b[0m                              Traceback (most recent call last)",
      "Cell \u001b[0;32mIn[25], line 13\u001b[0m\n\u001b[1;32m     11\u001b[0m img3 \u001b[38;5;241m=\u001b[39m T\u001b[38;5;241m.\u001b[39mCenterCrop(\u001b[38;5;241m224\u001b[39m)(img2)\n\u001b[1;32m     12\u001b[0m \u001b[38;5;28mprint\u001b[39m(img3\u001b[38;5;241m.\u001b[39mshape)\n\u001b[0;32m---> 13\u001b[0m img4 \u001b[38;5;241m=\u001b[39m \u001b[43mT\u001b[49m\u001b[38;5;241;43m.\u001b[39;49m\u001b[43mNormalize\u001b[49m\u001b[43m(\u001b[49m\u001b[43m[\u001b[49m\u001b[38;5;241;43m0.485\u001b[39;49m\u001b[43m,\u001b[49m\u001b[43m \u001b[49m\u001b[38;5;241;43m0.456\u001b[39;49m\u001b[43m,\u001b[49m\u001b[43m \u001b[49m\u001b[38;5;241;43m0.406\u001b[39;49m\u001b[43m]\u001b[49m\u001b[43m,\u001b[49m\u001b[43m \u001b[49m\u001b[43m[\u001b[49m\u001b[38;5;241;43m0.229\u001b[39;49m\u001b[43m,\u001b[49m\u001b[43m \u001b[49m\u001b[38;5;241;43m0.224\u001b[39;49m\u001b[43m,\u001b[49m\u001b[43m \u001b[49m\u001b[38;5;241;43m0.225\u001b[39;49m\u001b[43m]\u001b[49m\u001b[43m)\u001b[49m\u001b[43m(\u001b[49m\u001b[43mimg3\u001b[49m\u001b[43m)\u001b[49m\n\u001b[1;32m     14\u001b[0m \u001b[38;5;28mprint\u001b[39m(img4\u001b[38;5;241m.\u001b[39mshape)\n",
      "File \u001b[0;32m~/anaconda3/envs/advrob/lib/python3.9/site-packages/torch/nn/modules/module.py:1532\u001b[0m, in \u001b[0;36mModule._wrapped_call_impl\u001b[0;34m(self, *args, **kwargs)\u001b[0m\n\u001b[1;32m   1530\u001b[0m     \u001b[38;5;28;01mreturn\u001b[39;00m \u001b[38;5;28mself\u001b[39m\u001b[38;5;241m.\u001b[39m_compiled_call_impl(\u001b[38;5;241m*\u001b[39margs, \u001b[38;5;241m*\u001b[39m\u001b[38;5;241m*\u001b[39mkwargs)  \u001b[38;5;66;03m# type: ignore[misc]\u001b[39;00m\n\u001b[1;32m   1531\u001b[0m \u001b[38;5;28;01melse\u001b[39;00m:\n\u001b[0;32m-> 1532\u001b[0m     \u001b[38;5;28;01mreturn\u001b[39;00m \u001b[38;5;28;43mself\u001b[39;49m\u001b[38;5;241;43m.\u001b[39;49m\u001b[43m_call_impl\u001b[49m\u001b[43m(\u001b[49m\u001b[38;5;241;43m*\u001b[39;49m\u001b[43margs\u001b[49m\u001b[43m,\u001b[49m\u001b[43m \u001b[49m\u001b[38;5;241;43m*\u001b[39;49m\u001b[38;5;241;43m*\u001b[39;49m\u001b[43mkwargs\u001b[49m\u001b[43m)\u001b[49m\n",
      "File \u001b[0;32m~/anaconda3/envs/advrob/lib/python3.9/site-packages/torch/nn/modules/module.py:1541\u001b[0m, in \u001b[0;36mModule._call_impl\u001b[0;34m(self, *args, **kwargs)\u001b[0m\n\u001b[1;32m   1536\u001b[0m \u001b[38;5;66;03m# If we don't have any hooks, we want to skip the rest of the logic in\u001b[39;00m\n\u001b[1;32m   1537\u001b[0m \u001b[38;5;66;03m# this function, and just call forward.\u001b[39;00m\n\u001b[1;32m   1538\u001b[0m \u001b[38;5;28;01mif\u001b[39;00m \u001b[38;5;129;01mnot\u001b[39;00m (\u001b[38;5;28mself\u001b[39m\u001b[38;5;241m.\u001b[39m_backward_hooks \u001b[38;5;129;01mor\u001b[39;00m \u001b[38;5;28mself\u001b[39m\u001b[38;5;241m.\u001b[39m_backward_pre_hooks \u001b[38;5;129;01mor\u001b[39;00m \u001b[38;5;28mself\u001b[39m\u001b[38;5;241m.\u001b[39m_forward_hooks \u001b[38;5;129;01mor\u001b[39;00m \u001b[38;5;28mself\u001b[39m\u001b[38;5;241m.\u001b[39m_forward_pre_hooks\n\u001b[1;32m   1539\u001b[0m         \u001b[38;5;129;01mor\u001b[39;00m _global_backward_pre_hooks \u001b[38;5;129;01mor\u001b[39;00m _global_backward_hooks\n\u001b[1;32m   1540\u001b[0m         \u001b[38;5;129;01mor\u001b[39;00m _global_forward_hooks \u001b[38;5;129;01mor\u001b[39;00m _global_forward_pre_hooks):\n\u001b[0;32m-> 1541\u001b[0m     \u001b[38;5;28;01mreturn\u001b[39;00m \u001b[43mforward_call\u001b[49m\u001b[43m(\u001b[49m\u001b[38;5;241;43m*\u001b[39;49m\u001b[43margs\u001b[49m\u001b[43m,\u001b[49m\u001b[43m \u001b[49m\u001b[38;5;241;43m*\u001b[39;49m\u001b[38;5;241;43m*\u001b[39;49m\u001b[43mkwargs\u001b[49m\u001b[43m)\u001b[49m\n\u001b[1;32m   1543\u001b[0m \u001b[38;5;28;01mtry\u001b[39;00m:\n\u001b[1;32m   1544\u001b[0m     result \u001b[38;5;241m=\u001b[39m \u001b[38;5;28;01mNone\u001b[39;00m\n",
      "File \u001b[0;32m~/anaconda3/envs/advrob/lib/python3.9/site-packages/torchvision/transforms/transforms.py:277\u001b[0m, in \u001b[0;36mNormalize.forward\u001b[0;34m(self, tensor)\u001b[0m\n\u001b[1;32m    269\u001b[0m \u001b[38;5;28;01mdef\u001b[39;00m \u001b[38;5;21mforward\u001b[39m(\u001b[38;5;28mself\u001b[39m, tensor: Tensor) \u001b[38;5;241m-\u001b[39m\u001b[38;5;241m>\u001b[39m Tensor:\n\u001b[1;32m    270\u001b[0m \u001b[38;5;250m    \u001b[39m\u001b[38;5;124;03m\"\"\"\u001b[39;00m\n\u001b[1;32m    271\u001b[0m \u001b[38;5;124;03m    Args:\u001b[39;00m\n\u001b[1;32m    272\u001b[0m \u001b[38;5;124;03m        tensor (Tensor): Tensor image to be normalized.\u001b[39;00m\n\u001b[0;32m   (...)\u001b[0m\n\u001b[1;32m    275\u001b[0m \u001b[38;5;124;03m        Tensor: Normalized Tensor image.\u001b[39;00m\n\u001b[1;32m    276\u001b[0m \u001b[38;5;124;03m    \"\"\"\u001b[39;00m\n\u001b[0;32m--> 277\u001b[0m     \u001b[38;5;28;01mreturn\u001b[39;00m \u001b[43mF\u001b[49m\u001b[38;5;241;43m.\u001b[39;49m\u001b[43mnormalize\u001b[49m\u001b[43m(\u001b[49m\u001b[43mtensor\u001b[49m\u001b[43m,\u001b[49m\u001b[43m \u001b[49m\u001b[38;5;28;43mself\u001b[39;49m\u001b[38;5;241;43m.\u001b[39;49m\u001b[43mmean\u001b[49m\u001b[43m,\u001b[49m\u001b[43m \u001b[49m\u001b[38;5;28;43mself\u001b[39;49m\u001b[38;5;241;43m.\u001b[39;49m\u001b[43mstd\u001b[49m\u001b[43m,\u001b[49m\u001b[43m \u001b[49m\u001b[38;5;28;43mself\u001b[39;49m\u001b[38;5;241;43m.\u001b[39;49m\u001b[43minplace\u001b[49m\u001b[43m)\u001b[49m\n",
      "File \u001b[0;32m~/anaconda3/envs/advrob/lib/python3.9/site-packages/torchvision/transforms/functional.py:350\u001b[0m, in \u001b[0;36mnormalize\u001b[0;34m(tensor, mean, std, inplace)\u001b[0m\n\u001b[1;32m    347\u001b[0m \u001b[38;5;28;01mif\u001b[39;00m \u001b[38;5;129;01mnot\u001b[39;00m \u001b[38;5;28misinstance\u001b[39m(tensor, torch\u001b[38;5;241m.\u001b[39mTensor):\n\u001b[1;32m    348\u001b[0m     \u001b[38;5;28;01mraise\u001b[39;00m \u001b[38;5;167;01mTypeError\u001b[39;00m(\u001b[38;5;124mf\u001b[39m\u001b[38;5;124m\"\u001b[39m\u001b[38;5;124mimg should be Tensor Image. Got \u001b[39m\u001b[38;5;132;01m{\u001b[39;00m\u001b[38;5;28mtype\u001b[39m(tensor)\u001b[38;5;132;01m}\u001b[39;00m\u001b[38;5;124m\"\u001b[39m)\n\u001b[0;32m--> 350\u001b[0m \u001b[38;5;28;01mreturn\u001b[39;00m \u001b[43mF_t\u001b[49m\u001b[38;5;241;43m.\u001b[39;49m\u001b[43mnormalize\u001b[49m\u001b[43m(\u001b[49m\u001b[43mtensor\u001b[49m\u001b[43m,\u001b[49m\u001b[43m \u001b[49m\u001b[43mmean\u001b[49m\u001b[38;5;241;43m=\u001b[39;49m\u001b[43mmean\u001b[49m\u001b[43m,\u001b[49m\u001b[43m \u001b[49m\u001b[43mstd\u001b[49m\u001b[38;5;241;43m=\u001b[39;49m\u001b[43mstd\u001b[49m\u001b[43m,\u001b[49m\u001b[43m \u001b[49m\u001b[43minplace\u001b[49m\u001b[38;5;241;43m=\u001b[39;49m\u001b[43minplace\u001b[49m\u001b[43m)\u001b[49m\n",
      "File \u001b[0;32m~/anaconda3/envs/advrob/lib/python3.9/site-packages/torchvision/transforms/_functional_tensor.py:926\u001b[0m, in \u001b[0;36mnormalize\u001b[0;34m(tensor, mean, std, inplace)\u001b[0m\n\u001b[1;32m    924\u001b[0m \u001b[38;5;28;01mif\u001b[39;00m std\u001b[38;5;241m.\u001b[39mndim \u001b[38;5;241m==\u001b[39m \u001b[38;5;241m1\u001b[39m:\n\u001b[1;32m    925\u001b[0m     std \u001b[38;5;241m=\u001b[39m std\u001b[38;5;241m.\u001b[39mview(\u001b[38;5;241m-\u001b[39m\u001b[38;5;241m1\u001b[39m, \u001b[38;5;241m1\u001b[39m, \u001b[38;5;241m1\u001b[39m)\n\u001b[0;32m--> 926\u001b[0m \u001b[38;5;28;01mreturn\u001b[39;00m \u001b[43mtensor\u001b[49m\u001b[38;5;241;43m.\u001b[39;49m\u001b[43msub_\u001b[49m\u001b[43m(\u001b[49m\u001b[43mmean\u001b[49m\u001b[43m)\u001b[49m\u001b[38;5;241m.\u001b[39mdiv_(std)\n",
      "\u001b[0;31mRuntimeError\u001b[0m: The size of tensor a (4) must match the size of tensor b (3) at non-singleton dimension 0"
     ]
    }
   ],
   "source": [
    "# transforms = T.Compose(\n",
    "#     [T.ToTensor()]\n",
    "#     + [T.Resize(256), T.CenterCrop(224)]\n",
    "#     + [T.Normalize([0.485, 0.456, 0.406], [0.229, 0.224, 0.225])]\n",
    "# )\n",
    "img0 = np.array(train_images[index])\n",
    "img1 = T.ToTensor()(img0)\n",
    "print(img1.shape)\n",
    "img2 = T.Resize(256)(img1)\n",
    "print(img2.shape)\n",
    "img3 = T.CenterCrop(224)(img2)\n",
    "print(img3.shape)\n",
    "img4 = T.Normalize([0.485, 0.456, 0.406], [0.229, 0.224, 0.225])(img3)\n",
    "print(img4.shape)\n"
   ]
  },
  {
   "cell_type": "code",
   "execution_count": 27,
   "metadata": {},
   "outputs": [],
   "source": [
    "from skimage import color\n",
    "from skimage import data\n",
    "\n",
    "img_rgba = data.logo()\n",
    "img_rgb = color.rgba2rgb(img_rgba)"
   ]
  },
  {
   "cell_type": "code",
   "execution_count": 32,
   "metadata": {},
   "outputs": [
    {
     "name": "stdout",
     "output_type": "stream",
     "text": [
      "Processing greedy subsets for class 229\n",
      "Processing greedy subsets for class 230\n",
      "Processing greedy subsets for class 231\n",
      "Processing greedy subsets for class 232\n",
      "Processing greedy subsets for class 233\n",
      "Processing greedy subsets for class 234\n",
      "Processing greedy subsets for class 235\n"
     ]
    },
    {
     "name": "stderr",
     "output_type": "stream",
     "text": [
      "/cis/home/rmuthuk1/anaconda3/envs/advrob/lib/python3.9/site-packages/PIL/TiffImagePlugin.py:652: UserWarning: Metadata Warning, tag 33723 had too many entries: 11, expected 1\n",
      "  warnings.warn(\n"
     ]
    },
    {
     "name": "stdout",
     "output_type": "stream",
     "text": [
      "Processing greedy subsets for class 236\n",
      "Processing greedy subsets for class 237\n",
      "Processing greedy subsets for class 238\n",
      "Processing greedy subsets for class 239\n",
      "Processing greedy subsets for class 240\n",
      "Processing greedy subsets for class 241\n",
      "Processing greedy subsets for class 242\n",
      "Processing greedy subsets for class 243\n",
      "Processing greedy subsets for class 244\n",
      "Processing greedy subsets for class 245\n",
      "Processing greedy subsets for class 246\n",
      "Processing greedy subsets for class 247\n",
      "Processing greedy subsets for class 248\n",
      "Processing greedy subsets for class 249\n",
      "Processing greedy subsets for class 250\n",
      "Processing greedy subsets for class 251\n",
      "Processing greedy subsets for class 252\n",
      "Processing greedy subsets for class 253\n",
      "Processing greedy subsets for class 254\n",
      "Processing greedy subsets for class 255\n",
      "Processing greedy subsets for class 256\n",
      "Processing greedy subsets for class 257\n",
      "Processing greedy subsets for class 258\n",
      "Processing greedy subsets for class 259\n",
      "Processing greedy subsets for class 260\n",
      "Processing greedy subsets for class 261\n"
     ]
    },
    {
     "name": "stderr",
     "output_type": "stream",
     "text": [
      "/cis/home/rmuthuk1/anaconda3/envs/advrob/lib/python3.9/site-packages/PIL/TiffImagePlugin.py:870: UserWarning: Truncated File Read\n",
      "  warnings.warn(str(msg))\n"
     ]
    },
    {
     "name": "stdout",
     "output_type": "stream",
     "text": [
      "Processing greedy subsets for class 262\n",
      "Processing greedy subsets for class 263\n",
      "Processing greedy subsets for class 264\n",
      "Processing greedy subsets for class 265\n",
      "Processing greedy subsets for class 266\n",
      "Processing greedy subsets for class 267\n",
      "Processing greedy subsets for class 268\n",
      "Processing greedy subsets for class 269\n",
      "Processing greedy subsets for class 270\n",
      "Processing greedy subsets for class 271\n",
      "Processing greedy subsets for class 272\n",
      "Processing greedy subsets for class 273\n",
      "Processing greedy subsets for class 274\n",
      "Processing greedy subsets for class 275\n",
      "Processing greedy subsets for class 276\n",
      "Processing greedy subsets for class 277\n",
      "Processing greedy subsets for class 278\n",
      "Processing greedy subsets for class 279\n",
      "Processing greedy subsets for class 280\n",
      "Processing greedy subsets for class 281\n",
      "Processing greedy subsets for class 282\n",
      "Processing greedy subsets for class 283\n",
      "Processing greedy subsets for class 284\n",
      "Processing greedy subsets for class 285\n",
      "Processing greedy subsets for class 286\n",
      "Processing greedy subsets for class 287\n",
      "Processing greedy subsets for class 288\n",
      "Processing greedy subsets for class 289\n",
      "Processing greedy subsets for class 290\n",
      "Processing greedy subsets for class 291\n",
      "Processing greedy subsets for class 292\n",
      "Processing greedy subsets for class 293\n",
      "Processing greedy subsets for class 294\n",
      "Processing greedy subsets for class 295\n",
      "Processing greedy subsets for class 296\n",
      "Processing greedy subsets for class 297\n",
      "Processing greedy subsets for class 298\n"
     ]
    },
    {
     "name": "stderr",
     "output_type": "stream",
     "text": [
      "/cis/home/rmuthuk1/anaconda3/envs/advrob/lib/python3.9/site-packages/PIL/TiffImagePlugin.py:870: UserWarning: Corrupt EXIF data.  Expecting to read 12 bytes but only got 3. \n",
      "  warnings.warn(str(msg))\n"
     ]
    },
    {
     "name": "stdout",
     "output_type": "stream",
     "text": [
      "Processing greedy subsets for class 299\n",
      "Processing greedy subsets for class 300\n",
      "Processing greedy subsets for class 301\n",
      "Processing greedy subsets for class 302\n",
      "Processing greedy subsets for class 303\n",
      "Processing greedy subsets for class 304\n",
      "Processing greedy subsets for class 305\n",
      "Processing greedy subsets for class 306\n",
      "Processing greedy subsets for class 307\n",
      "Processing greedy subsets for class 308\n",
      "Processing greedy subsets for class 309\n",
      "Processing greedy subsets for class 310\n",
      "Processing greedy subsets for class 311\n",
      "Processing greedy subsets for class 312\n",
      "Processing greedy subsets for class 313\n",
      "Processing greedy subsets for class 314\n",
      "Processing greedy subsets for class 315\n",
      "Processing greedy subsets for class 316\n",
      "Processing greedy subsets for class 317\n",
      "Processing greedy subsets for class 318\n",
      "Processing greedy subsets for class 319\n"
     ]
    },
    {
     "name": "stderr",
     "output_type": "stream",
     "text": [
      "/cis/home/rmuthuk1/anaconda3/envs/advrob/lib/python3.9/site-packages/PIL/TiffImagePlugin.py:870: UserWarning: Corrupt EXIF data.  Expecting to read 4 bytes but only got 0. \n",
      "  warnings.warn(str(msg))\n",
      "/cis/home/rmuthuk1/anaconda3/envs/advrob/lib/python3.9/site-packages/PIL/TiffImagePlugin.py:652: UserWarning: Metadata Warning, tag 256 had too many entries: 32, expected 1\n",
      "  warnings.warn(\n",
      "/cis/home/rmuthuk1/anaconda3/envs/advrob/lib/python3.9/site-packages/PIL/TiffImagePlugin.py:652: UserWarning: Metadata Warning, tag 257 had too many entries: 32, expected 1\n",
      "  warnings.warn(\n"
     ]
    },
    {
     "name": "stdout",
     "output_type": "stream",
     "text": [
      "Processing greedy subsets for class 320\n",
      "Processing greedy subsets for class 321\n",
      "Processing greedy subsets for class 322\n",
      "Processing greedy subsets for class 323\n",
      "Processing greedy subsets for class 324\n",
      "Processing greedy subsets for class 325\n",
      "Processing greedy subsets for class 326\n",
      "Processing greedy subsets for class 327\n",
      "Processing greedy subsets for class 328\n",
      "Processing greedy subsets for class 329\n",
      "Processing greedy subsets for class 330\n",
      "Processing greedy subsets for class 331\n",
      "Processing greedy subsets for class 332\n",
      "Processing greedy subsets for class 333\n",
      "Processing greedy subsets for class 334\n",
      "Processing greedy subsets for class 335\n",
      "Processing greedy subsets for class 336\n",
      "Processing greedy subsets for class 337\n",
      "Processing greedy subsets for class 338\n",
      "Processing greedy subsets for class 339\n",
      "Processing greedy subsets for class 340\n"
     ]
    },
    {
     "name": "stderr",
     "output_type": "stream",
     "text": [
      "/cis/home/rmuthuk1/anaconda3/envs/advrob/lib/python3.9/site-packages/PIL/TiffImagePlugin.py:652: UserWarning: Metadata Warning, tag 256 had too many entries: 4, expected 1\n",
      "  warnings.warn(\n",
      "/cis/home/rmuthuk1/anaconda3/envs/advrob/lib/python3.9/site-packages/PIL/TiffImagePlugin.py:652: UserWarning: Metadata Warning, tag 257 had too many entries: 4, expected 1\n",
      "  warnings.warn(\n",
      "/cis/home/rmuthuk1/anaconda3/envs/advrob/lib/python3.9/site-packages/PIL/TiffImagePlugin.py:652: UserWarning: Metadata Warning, tag 296 had too many entries: 4, expected 1\n",
      "  warnings.warn(\n",
      "/cis/home/rmuthuk1/anaconda3/envs/advrob/lib/python3.9/site-packages/PIL/TiffImagePlugin.py:652: UserWarning: Metadata Warning, tag 34665 had too many entries: 4, expected 1\n",
      "  warnings.warn(\n",
      "/cis/home/rmuthuk1/anaconda3/envs/advrob/lib/python3.9/site-packages/PIL/TiffImagePlugin.py:652: UserWarning: Metadata Warning, tag 274 had too many entries: 4, expected 1\n",
      "  warnings.warn(\n",
      "/cis/home/rmuthuk1/anaconda3/envs/advrob/lib/python3.9/site-packages/PIL/TiffImagePlugin.py:870: UserWarning: Corrupt EXIF data.  Expecting to read 2 bytes but only got 0. \n",
      "  warnings.warn(str(msg))\n"
     ]
    },
    {
     "name": "stdout",
     "output_type": "stream",
     "text": [
      "Processing greedy subsets for class 341\n",
      "Processing greedy subsets for class 342\n",
      "Processing greedy subsets for class 343\n",
      "Processing greedy subsets for class 344\n",
      "Processing greedy subsets for class 345\n",
      "Processing greedy subsets for class 346\n",
      "Processing greedy subsets for class 347\n",
      "Processing greedy subsets for class 348\n",
      "Processing greedy subsets for class 349\n",
      "Processing greedy subsets for class 350\n",
      "Processing greedy subsets for class 351\n",
      "Processing greedy subsets for class 352\n",
      "Processing greedy subsets for class 353\n",
      "Processing greedy subsets for class 354\n",
      "Processing greedy subsets for class 355\n",
      "Processing greedy subsets for class 356\n"
     ]
    },
    {
     "name": "stderr",
     "output_type": "stream",
     "text": [
      "/cis/home/rmuthuk1/anaconda3/envs/advrob/lib/python3.9/site-packages/PIL/TiffImagePlugin.py:652: UserWarning: Metadata Warning, tag 33723 had too many entries: 10, expected 1\n",
      "  warnings.warn(\n"
     ]
    },
    {
     "name": "stdout",
     "output_type": "stream",
     "text": [
      "Processing greedy subsets for class 357\n",
      "Processing greedy subsets for class 358\n",
      "Processing greedy subsets for class 359\n",
      "Processing greedy subsets for class 360\n",
      "Processing greedy subsets for class 361\n",
      "Processing greedy subsets for class 362\n",
      "Processing greedy subsets for class 363\n",
      "Processing greedy subsets for class 364\n",
      "Processing greedy subsets for class 365\n",
      "Processing greedy subsets for class 366\n",
      "Processing greedy subsets for class 367\n",
      "Processing greedy subsets for class 368\n",
      "Processing greedy subsets for class 369\n",
      "Processing greedy subsets for class 370\n",
      "Processing greedy subsets for class 371\n",
      "Processing greedy subsets for class 372\n",
      "Processing greedy subsets for class 373\n",
      "Processing greedy subsets for class 374\n",
      "Processing greedy subsets for class 375\n",
      "Processing greedy subsets for class 376\n",
      "Processing greedy subsets for class 377\n",
      "Processing greedy subsets for class 378\n",
      "Processing greedy subsets for class 379\n",
      "Processing greedy subsets for class 380\n",
      "Processing greedy subsets for class 381\n",
      "Processing greedy subsets for class 382\n",
      "Processing greedy subsets for class 383\n",
      "Processing greedy subsets for class 384\n",
      "Processing greedy subsets for class 385\n",
      "Processing greedy subsets for class 386\n",
      "Processing greedy subsets for class 387\n",
      "Processing greedy subsets for class 388\n",
      "Processing greedy subsets for class 389\n",
      "Processing greedy subsets for class 390\n",
      "Processing greedy subsets for class 391\n",
      "Processing greedy subsets for class 392\n",
      "Processing greedy subsets for class 393\n",
      "Processing greedy subsets for class 394\n"
     ]
    },
    {
     "name": "stderr",
     "output_type": "stream",
     "text": [
      "/cis/home/rmuthuk1/anaconda3/envs/advrob/lib/python3.9/site-packages/PIL/TiffImagePlugin.py:652: UserWarning: Metadata Warning, tag 33723 had too many entries: 2, expected 1\n",
      "  warnings.warn(\n"
     ]
    },
    {
     "name": "stdout",
     "output_type": "stream",
     "text": [
      "Processing greedy subsets for class 395\n",
      "Processing greedy subsets for class 396\n",
      "Processing greedy subsets for class 397\n",
      "Processing greedy subsets for class 398\n",
      "Processing greedy subsets for class 399\n",
      "Processing greedy subsets for class 400\n",
      "Processing greedy subsets for class 401\n",
      "Processing greedy subsets for class 402\n",
      "Processing greedy subsets for class 403\n",
      "Processing greedy subsets for class 404\n",
      "Processing greedy subsets for class 405\n",
      "Processing greedy subsets for class 406\n",
      "Processing greedy subsets for class 407\n",
      "Processing greedy subsets for class 408\n",
      "Processing greedy subsets for class 409\n",
      "Processing greedy subsets for class 410\n",
      "Processing greedy subsets for class 411\n",
      "Processing greedy subsets for class 412\n"
     ]
    },
    {
     "name": "stderr",
     "output_type": "stream",
     "text": [
      "/cis/home/rmuthuk1/anaconda3/envs/advrob/lib/python3.9/site-packages/PIL/TiffImagePlugin.py:652: UserWarning: Metadata Warning, tag 33723 had too many entries: 1024, expected 1\n",
      "  warnings.warn(\n"
     ]
    },
    {
     "name": "stdout",
     "output_type": "stream",
     "text": [
      "Processing greedy subsets for class 413\n",
      "Processing greedy subsets for class 414\n",
      "Processing greedy subsets for class 415\n",
      "Processing greedy subsets for class 416\n",
      "Processing greedy subsets for class 417\n",
      "Processing greedy subsets for class 418\n",
      "Processing greedy subsets for class 419\n",
      "Processing greedy subsets for class 420\n",
      "Processing greedy subsets for class 421\n",
      "Processing greedy subsets for class 422\n",
      "Processing greedy subsets for class 423\n",
      "Processing greedy subsets for class 424\n",
      "Processing greedy subsets for class 425\n",
      "Processing greedy subsets for class 426\n",
      "Processing greedy subsets for class 427\n",
      "Processing greedy subsets for class 428\n",
      "Processing greedy subsets for class 429\n",
      "Processing greedy subsets for class 430\n",
      "Processing greedy subsets for class 431\n",
      "Processing greedy subsets for class 432\n",
      "Processing greedy subsets for class 433\n",
      "Processing greedy subsets for class 434\n",
      "Processing greedy subsets for class 435\n",
      "Processing greedy subsets for class 436\n",
      "Processing greedy subsets for class 437\n",
      "Processing greedy subsets for class 438\n",
      "Processing greedy subsets for class 439\n",
      "Processing greedy subsets for class 440\n",
      "Processing greedy subsets for class 441\n",
      "Processing greedy subsets for class 442\n",
      "Processing greedy subsets for class 443\n",
      "Processing greedy subsets for class 444\n",
      "Processing greedy subsets for class 445\n",
      "Processing greedy subsets for class 446\n",
      "Processing greedy subsets for class 447\n",
      "Processing greedy subsets for class 448\n",
      "Processing greedy subsets for class 449\n",
      "Processing greedy subsets for class 450\n",
      "Processing greedy subsets for class 451\n",
      "Processing greedy subsets for class 452\n",
      "Processing greedy subsets for class 453\n",
      "Processing greedy subsets for class 454\n",
      "Processing greedy subsets for class 455\n"
     ]
    },
    {
     "name": "stderr",
     "output_type": "stream",
     "text": [
      "/cis/home/rmuthuk1/anaconda3/envs/advrob/lib/python3.9/site-packages/PIL/TiffImagePlugin.py:870: UserWarning: Corrupt EXIF data.  Expecting to read 12 bytes but only got 4. \n",
      "  warnings.warn(str(msg))\n"
     ]
    },
    {
     "name": "stdout",
     "output_type": "stream",
     "text": [
      "Processing greedy subsets for class 456\n",
      "Processing greedy subsets for class 457\n",
      "Processing greedy subsets for class 458\n",
      "Processing greedy subsets for class 459\n",
      "Processing greedy subsets for class 460\n",
      "Processing greedy subsets for class 461\n",
      "Processing greedy subsets for class 462\n",
      "Processing greedy subsets for class 463\n",
      "Processing greedy subsets for class 464\n",
      "Processing greedy subsets for class 465\n",
      "Processing greedy subsets for class 466\n",
      "Processing greedy subsets for class 467\n",
      "Processing greedy subsets for class 468\n",
      "Processing greedy subsets for class 469\n",
      "Processing greedy subsets for class 470\n",
      "Processing greedy subsets for class 471\n",
      "Processing greedy subsets for class 472\n",
      "Processing greedy subsets for class 473\n",
      "Processing greedy subsets for class 474\n",
      "Processing greedy subsets for class 475\n",
      "Processing greedy subsets for class 476\n",
      "Processing greedy subsets for class 477\n",
      "Processing greedy subsets for class 478\n",
      "Processing greedy subsets for class 479\n",
      "Processing greedy subsets for class 480\n",
      "Processing greedy subsets for class 481\n",
      "Processing greedy subsets for class 482\n",
      "Processing greedy subsets for class 483\n",
      "Processing greedy subsets for class 484\n",
      "Processing greedy subsets for class 485\n",
      "Processing greedy subsets for class 486\n",
      "Processing greedy subsets for class 487\n",
      "Processing greedy subsets for class 488\n",
      "Processing greedy subsets for class 489\n",
      "Processing greedy subsets for class 490\n",
      "Processing greedy subsets for class 491\n",
      "Processing greedy subsets for class 492\n",
      "Processing greedy subsets for class 493\n",
      "Processing greedy subsets for class 494\n",
      "Processing greedy subsets for class 495\n",
      "Processing greedy subsets for class 496\n",
      "Processing greedy subsets for class 497\n",
      "Processing greedy subsets for class 498\n",
      "Processing greedy subsets for class 499\n",
      "Processing greedy subsets for class 500\n",
      "Processing greedy subsets for class 501\n",
      "Processing greedy subsets for class 502\n",
      "Processing greedy subsets for class 503\n",
      "Processing greedy subsets for class 504\n",
      "Processing greedy subsets for class 505\n",
      "Processing greedy subsets for class 506\n",
      "Processing greedy subsets for class 507\n",
      "Processing greedy subsets for class 508\n",
      "Processing greedy subsets for class 509\n",
      "Processing greedy subsets for class 510\n",
      "Processing greedy subsets for class 511\n",
      "Processing greedy subsets for class 512\n",
      "Processing greedy subsets for class 513\n",
      "Processing greedy subsets for class 514\n",
      "Processing greedy subsets for class 515\n",
      "Processing greedy subsets for class 516\n",
      "Processing greedy subsets for class 517\n",
      "Processing greedy subsets for class 518\n",
      "Processing greedy subsets for class 519\n",
      "Processing greedy subsets for class 520\n"
     ]
    },
    {
     "name": "stderr",
     "output_type": "stream",
     "text": [
      "/cis/home/rmuthuk1/anaconda3/envs/advrob/lib/python3.9/site-packages/PIL/TiffImagePlugin.py:652: UserWarning: Metadata Warning, tag 33723 had too many entries: 6, expected 1\n",
      "  warnings.warn(\n"
     ]
    },
    {
     "name": "stdout",
     "output_type": "stream",
     "text": [
      "Processing greedy subsets for class 521\n",
      "Processing greedy subsets for class 522\n",
      "Processing greedy subsets for class 523\n",
      "Processing greedy subsets for class 524\n",
      "Processing greedy subsets for class 525\n",
      "Processing greedy subsets for class 526\n",
      "Processing greedy subsets for class 527\n",
      "Processing greedy subsets for class 528\n",
      "Processing greedy subsets for class 529\n",
      "Processing greedy subsets for class 530\n",
      "Processing greedy subsets for class 531\n",
      "Processing greedy subsets for class 532\n",
      "Processing greedy subsets for class 533\n",
      "Processing greedy subsets for class 534\n",
      "Processing greedy subsets for class 535\n",
      "Processing greedy subsets for class 536\n",
      "Processing greedy subsets for class 537\n",
      "Processing greedy subsets for class 538\n",
      "Processing greedy subsets for class 539\n",
      "Processing greedy subsets for class 540\n",
      "Processing greedy subsets for class 541\n",
      "Processing greedy subsets for class 542\n"
     ]
    },
    {
     "name": "stderr",
     "output_type": "stream",
     "text": [
      "/cis/home/rmuthuk1/anaconda3/envs/advrob/lib/python3.9/site-packages/PIL/TiffImagePlugin.py:652: UserWarning: Metadata Warning, tag 33723 had too many entries: 4, expected 1\n",
      "  warnings.warn(\n"
     ]
    },
    {
     "name": "stdout",
     "output_type": "stream",
     "text": [
      "Processing greedy subsets for class 543\n",
      "Processing greedy subsets for class 544\n",
      "Processing greedy subsets for class 545\n",
      "Processing greedy subsets for class 546\n",
      "Processing greedy subsets for class 547\n",
      "Processing greedy subsets for class 548\n",
      "Processing greedy subsets for class 549\n",
      "Processing greedy subsets for class 550\n",
      "Processing greedy subsets for class 551\n",
      "Processing greedy subsets for class 552\n",
      "Processing greedy subsets for class 553\n",
      "Processing greedy subsets for class 554\n",
      "Processing greedy subsets for class 555\n",
      "Processing greedy subsets for class 556\n",
      "Processing greedy subsets for class 557\n",
      "Processing greedy subsets for class 558\n",
      "Processing greedy subsets for class 559\n",
      "Processing greedy subsets for class 560\n",
      "Processing greedy subsets for class 561\n",
      "Processing greedy subsets for class 562\n",
      "Processing greedy subsets for class 563\n",
      "Processing greedy subsets for class 564\n",
      "Processing greedy subsets for class 565\n",
      "Processing greedy subsets for class 566\n",
      "Processing greedy subsets for class 567\n",
      "Processing greedy subsets for class 568\n",
      "Processing greedy subsets for class 569\n",
      "Processing greedy subsets for class 570\n",
      "Processing greedy subsets for class 571\n",
      "Processing greedy subsets for class 572\n",
      "Processing greedy subsets for class 573\n",
      "Processing greedy subsets for class 574\n",
      "Processing greedy subsets for class 575\n",
      "Processing greedy subsets for class 576\n",
      "Processing greedy subsets for class 577\n",
      "Processing greedy subsets for class 578\n",
      "Processing greedy subsets for class 579\n",
      "Processing greedy subsets for class 580\n",
      "Processing greedy subsets for class 581\n"
     ]
    },
    {
     "name": "stderr",
     "output_type": "stream",
     "text": [
      "/cis/home/rmuthuk1/anaconda3/envs/advrob/lib/python3.9/site-packages/PIL/TiffImagePlugin.py:870: UserWarning: Corrupt EXIF data.  Expecting to read 12 bytes but only got 7. \n",
      "  warnings.warn(str(msg))\n"
     ]
    },
    {
     "name": "stdout",
     "output_type": "stream",
     "text": [
      "Processing greedy subsets for class 582\n",
      "Processing greedy subsets for class 583\n",
      "Processing greedy subsets for class 584\n",
      "Processing greedy subsets for class 585\n",
      "Processing greedy subsets for class 586\n",
      "Processing greedy subsets for class 587\n",
      "Processing greedy subsets for class 588\n",
      "Processing greedy subsets for class 589\n"
     ]
    },
    {
     "name": "stderr",
     "output_type": "stream",
     "text": [
      "/cis/home/rmuthuk1/anaconda3/envs/advrob/lib/python3.9/site-packages/PIL/TiffImagePlugin.py:652: UserWarning: Metadata Warning, tag 33723 had too many entries: 22, expected 1\n",
      "  warnings.warn(\n"
     ]
    },
    {
     "name": "stdout",
     "output_type": "stream",
     "text": [
      "Processing greedy subsets for class 590\n",
      "Processing greedy subsets for class 591\n",
      "Processing greedy subsets for class 592\n",
      "Processing greedy subsets for class 593\n",
      "Processing greedy subsets for class 594\n",
      "Processing greedy subsets for class 595\n",
      "Processing greedy subsets for class 596\n",
      "Processing greedy subsets for class 597\n",
      "Processing greedy subsets for class 598\n",
      "Processing greedy subsets for class 599\n",
      "Processing greedy subsets for class 600\n"
     ]
    },
    {
     "name": "stderr",
     "output_type": "stream",
     "text": [
      "/cis/home/rmuthuk1/anaconda3/envs/advrob/lib/python3.9/site-packages/PIL/TiffImagePlugin.py:652: UserWarning: Metadata Warning, tag 33723 had too many entries: 5, expected 1\n",
      "  warnings.warn(\n"
     ]
    },
    {
     "name": "stdout",
     "output_type": "stream",
     "text": [
      "Processing greedy subsets for class 601\n",
      "Processing greedy subsets for class 602\n",
      "Processing greedy subsets for class 603\n",
      "Processing greedy subsets for class 604\n",
      "Processing greedy subsets for class 605\n",
      "Processing greedy subsets for class 606\n",
      "Processing greedy subsets for class 607\n",
      "Processing greedy subsets for class 608\n",
      "Processing greedy subsets for class 609\n",
      "Processing greedy subsets for class 610\n",
      "Processing greedy subsets for class 611\n"
     ]
    },
    {
     "name": "stderr",
     "output_type": "stream",
     "text": [
      "/cis/home/rmuthuk1/anaconda3/envs/advrob/lib/python3.9/site-packages/PIL/TiffImagePlugin.py:652: UserWarning: Metadata Warning, tag 256 had too many entries: 9, expected 1\n",
      "  warnings.warn(\n",
      "/cis/home/rmuthuk1/anaconda3/envs/advrob/lib/python3.9/site-packages/PIL/TiffImagePlugin.py:652: UserWarning: Metadata Warning, tag 257 had too many entries: 9, expected 1\n",
      "  warnings.warn(\n"
     ]
    },
    {
     "name": "stdout",
     "output_type": "stream",
     "text": [
      "Processing greedy subsets for class 612\n",
      "Processing greedy subsets for class 613\n",
      "Processing greedy subsets for class 614\n",
      "Processing greedy subsets for class 615\n",
      "Processing greedy subsets for class 616\n",
      "Processing greedy subsets for class 617\n",
      "Processing greedy subsets for class 618\n",
      "Processing greedy subsets for class 619\n",
      "Processing greedy subsets for class 620\n",
      "Processing greedy subsets for class 621\n",
      "Processing greedy subsets for class 622\n",
      "Processing greedy subsets for class 623\n",
      "Processing greedy subsets for class 624\n",
      "Processing greedy subsets for class 625\n",
      "Processing greedy subsets for class 626\n",
      "Processing greedy subsets for class 627\n",
      "Processing greedy subsets for class 628\n",
      "Processing greedy subsets for class 629\n",
      "Processing greedy subsets for class 630\n",
      "Processing greedy subsets for class 631\n",
      "Processing greedy subsets for class 632\n",
      "Processing greedy subsets for class 633\n",
      "Processing greedy subsets for class 634\n",
      "Processing greedy subsets for class 635\n",
      "Processing greedy subsets for class 636\n",
      "Processing greedy subsets for class 637\n",
      "Processing greedy subsets for class 638\n",
      "Processing greedy subsets for class 639\n",
      "Processing greedy subsets for class 640\n",
      "Processing greedy subsets for class 641\n",
      "Processing greedy subsets for class 642\n",
      "Processing greedy subsets for class 643\n",
      "Processing greedy subsets for class 644\n",
      "Processing greedy subsets for class 645\n",
      "Processing greedy subsets for class 646\n",
      "Processing greedy subsets for class 647\n",
      "Processing greedy subsets for class 648\n",
      "Processing greedy subsets for class 649\n",
      "Processing greedy subsets for class 650\n",
      "Processing greedy subsets for class 651\n",
      "Processing greedy subsets for class 652\n",
      "Processing greedy subsets for class 653\n",
      "Processing greedy subsets for class 654\n",
      "Processing greedy subsets for class 655\n",
      "Processing greedy subsets for class 656\n",
      "Processing greedy subsets for class 657\n",
      "Processing greedy subsets for class 658\n",
      "Processing greedy subsets for class 659\n",
      "Processing greedy subsets for class 660\n",
      "Processing greedy subsets for class 661\n",
      "Processing greedy subsets for class 662\n",
      "Processing greedy subsets for class 663\n",
      "Processing greedy subsets for class 664\n",
      "Processing greedy subsets for class 665\n",
      "Processing greedy subsets for class 666\n",
      "Processing greedy subsets for class 667\n",
      "Processing greedy subsets for class 668\n",
      "Processing greedy subsets for class 669\n",
      "Processing greedy subsets for class 670\n",
      "Processing greedy subsets for class 671\n",
      "Processing greedy subsets for class 672\n",
      "Processing greedy subsets for class 673\n",
      "Processing greedy subsets for class 674\n",
      "Processing greedy subsets for class 675\n",
      "Processing greedy subsets for class 676\n",
      "Processing greedy subsets for class 677\n",
      "Processing greedy subsets for class 678\n",
      "Processing greedy subsets for class 679\n",
      "Processing greedy subsets for class 680\n",
      "Processing greedy subsets for class 681\n",
      "Processing greedy subsets for class 682\n",
      "Processing greedy subsets for class 683\n",
      "Processing greedy subsets for class 684\n",
      "Processing greedy subsets for class 685\n",
      "Processing greedy subsets for class 686\n",
      "Processing greedy subsets for class 687\n",
      "Processing greedy subsets for class 688\n",
      "Processing greedy subsets for class 689\n",
      "Processing greedy subsets for class 690\n",
      "Processing greedy subsets for class 691\n",
      "Processing greedy subsets for class 692\n",
      "Processing greedy subsets for class 693\n",
      "Processing greedy subsets for class 694\n",
      "Processing greedy subsets for class 695\n",
      "Processing greedy subsets for class 696\n",
      "Processing greedy subsets for class 697\n",
      "Processing greedy subsets for class 698\n",
      "Processing greedy subsets for class 699\n",
      "Processing greedy subsets for class 700\n",
      "Processing greedy subsets for class 701\n",
      "Processing greedy subsets for class 702\n",
      "Processing greedy subsets for class 703\n",
      "Processing greedy subsets for class 704\n",
      "Processing greedy subsets for class 705\n",
      "Processing greedy subsets for class 706\n",
      "Processing greedy subsets for class 707\n",
      "Processing greedy subsets for class 708\n",
      "Processing greedy subsets for class 709\n",
      "Processing greedy subsets for class 710\n",
      "Processing greedy subsets for class 711\n",
      "Processing greedy subsets for class 712\n",
      "Processing greedy subsets for class 713\n",
      "Processing greedy subsets for class 714\n",
      "Processing greedy subsets for class 715\n",
      "Processing greedy subsets for class 716\n",
      "Processing greedy subsets for class 717\n",
      "Processing greedy subsets for class 718\n",
      "Processing greedy subsets for class 719\n",
      "Processing greedy subsets for class 720\n",
      "Processing greedy subsets for class 721\n",
      "Processing greedy subsets for class 722\n",
      "Processing greedy subsets for class 723\n",
      "Processing greedy subsets for class 724\n",
      "Processing greedy subsets for class 725\n",
      "Processing greedy subsets for class 726\n",
      "Processing greedy subsets for class 727\n",
      "Processing greedy subsets for class 728\n",
      "Processing greedy subsets for class 729\n",
      "Processing greedy subsets for class 730\n",
      "Processing greedy subsets for class 731\n",
      "Processing greedy subsets for class 732\n",
      "Processing greedy subsets for class 733\n",
      "Processing greedy subsets for class 734\n",
      "Processing greedy subsets for class 735\n",
      "Processing greedy subsets for class 736\n",
      "Processing greedy subsets for class 737\n",
      "Processing greedy subsets for class 738\n",
      "Processing greedy subsets for class 739\n",
      "Processing greedy subsets for class 740\n",
      "Processing greedy subsets for class 741\n",
      "Processing greedy subsets for class 742\n",
      "Processing greedy subsets for class 743\n",
      "Processing greedy subsets for class 744\n",
      "Processing greedy subsets for class 745\n",
      "Processing greedy subsets for class 746\n",
      "Processing greedy subsets for class 747\n",
      "Processing greedy subsets for class 748\n",
      "Processing greedy subsets for class 749\n",
      "Processing greedy subsets for class 750\n",
      "Processing greedy subsets for class 751\n",
      "Processing greedy subsets for class 752\n",
      "Processing greedy subsets for class 753\n",
      "Processing greedy subsets for class 754\n",
      "Processing greedy subsets for class 755\n",
      "Processing greedy subsets for class 756\n",
      "Processing greedy subsets for class 757\n",
      "Processing greedy subsets for class 758\n",
      "Processing greedy subsets for class 759\n",
      "Processing greedy subsets for class 760\n",
      "Processing greedy subsets for class 761\n",
      "Processing greedy subsets for class 762\n",
      "Processing greedy subsets for class 763\n",
      "Processing greedy subsets for class 764\n",
      "Processing greedy subsets for class 765\n",
      "Processing greedy subsets for class 766\n",
      "Processing greedy subsets for class 767\n",
      "Processing greedy subsets for class 768\n",
      "Processing greedy subsets for class 769\n",
      "Processing greedy subsets for class 770\n",
      "Processing greedy subsets for class 771\n",
      "Processing greedy subsets for class 772\n",
      "Processing greedy subsets for class 773\n",
      "Processing greedy subsets for class 774\n",
      "Processing greedy subsets for class 775\n",
      "Processing greedy subsets for class 776\n",
      "Processing greedy subsets for class 777\n",
      "Processing greedy subsets for class 778\n",
      "Processing greedy subsets for class 779\n"
     ]
    },
    {
     "name": "stderr",
     "output_type": "stream",
     "text": [
      "/cis/home/rmuthuk1/anaconda3/envs/advrob/lib/python3.9/site-packages/PIL/TiffImagePlugin.py:652: UserWarning: Metadata Warning, tag 33723 had too many entries: 100, expected 1\n",
      "  warnings.warn(\n"
     ]
    },
    {
     "name": "stdout",
     "output_type": "stream",
     "text": [
      "Processing greedy subsets for class 780\n",
      "Processing greedy subsets for class 781\n",
      "Processing greedy subsets for class 782\n",
      "Processing greedy subsets for class 783\n",
      "Processing greedy subsets for class 784\n",
      "Processing greedy subsets for class 785\n",
      "Processing greedy subsets for class 786\n",
      "Processing greedy subsets for class 787\n",
      "Processing greedy subsets for class 788\n",
      "Processing greedy subsets for class 789\n",
      "Processing greedy subsets for class 790\n",
      "Processing greedy subsets for class 791\n",
      "Processing greedy subsets for class 792\n",
      "Processing greedy subsets for class 793\n",
      "Processing greedy subsets for class 794\n",
      "Processing greedy subsets for class 795\n",
      "Processing greedy subsets for class 796\n",
      "Processing greedy subsets for class 797\n",
      "Processing greedy subsets for class 798\n",
      "Processing greedy subsets for class 799\n",
      "Processing greedy subsets for class 800\n",
      "Processing greedy subsets for class 801\n",
      "Processing greedy subsets for class 802\n",
      "Processing greedy subsets for class 803\n",
      "Processing greedy subsets for class 804\n",
      "Processing greedy subsets for class 805\n",
      "Processing greedy subsets for class 806\n",
      "Processing greedy subsets for class 807\n",
      "Processing greedy subsets for class 808\n",
      "Processing greedy subsets for class 809\n",
      "Processing greedy subsets for class 810\n",
      "Processing greedy subsets for class 811\n",
      "Processing greedy subsets for class 812\n",
      "Processing greedy subsets for class 813\n",
      "Processing greedy subsets for class 814\n",
      "Processing greedy subsets for class 815\n",
      "Processing greedy subsets for class 816\n",
      "Processing greedy subsets for class 817\n",
      "Processing greedy subsets for class 818\n",
      "Processing greedy subsets for class 819\n",
      "Processing greedy subsets for class 820\n",
      "Processing greedy subsets for class 821\n",
      "Processing greedy subsets for class 822\n"
     ]
    },
    {
     "name": "stderr",
     "output_type": "stream",
     "text": [
      "/cis/home/rmuthuk1/anaconda3/envs/advrob/lib/python3.9/site-packages/PIL/TiffImagePlugin.py:652: UserWarning: Metadata Warning, tag 33723 had too many entries: 33, expected 1\n",
      "  warnings.warn(\n"
     ]
    },
    {
     "name": "stdout",
     "output_type": "stream",
     "text": [
      "Processing greedy subsets for class 823\n",
      "Processing greedy subsets for class 824\n",
      "Processing greedy subsets for class 825\n",
      "Processing greedy subsets for class 826\n",
      "Processing greedy subsets for class 827\n",
      "Processing greedy subsets for class 828\n",
      "Processing greedy subsets for class 829\n",
      "Processing greedy subsets for class 830\n",
      "Processing greedy subsets for class 831\n",
      "Processing greedy subsets for class 832\n",
      "Processing greedy subsets for class 833\n",
      "Processing greedy subsets for class 834\n",
      "Processing greedy subsets for class 835\n",
      "Processing greedy subsets for class 836\n",
      "Processing greedy subsets for class 837\n",
      "Processing greedy subsets for class 838\n",
      "Processing greedy subsets for class 839\n",
      "Processing greedy subsets for class 840\n",
      "Processing greedy subsets for class 841\n",
      "Processing greedy subsets for class 842\n",
      "Processing greedy subsets for class 843\n",
      "Processing greedy subsets for class 844\n",
      "Processing greedy subsets for class 845\n",
      "Processing greedy subsets for class 846\n",
      "Processing greedy subsets for class 847\n"
     ]
    },
    {
     "name": "stderr",
     "output_type": "stream",
     "text": [
      "/cis/home/rmuthuk1/anaconda3/envs/advrob/lib/python3.9/site-packages/PIL/TiffImagePlugin.py:870: UserWarning: Corrupt EXIF data.  Expecting to read 12 bytes but only got 2. \n",
      "  warnings.warn(str(msg))\n"
     ]
    },
    {
     "name": "stdout",
     "output_type": "stream",
     "text": [
      "Processing greedy subsets for class 848\n",
      "Processing greedy subsets for class 849\n",
      "Processing greedy subsets for class 850\n",
      "Processing greedy subsets for class 851\n",
      "Processing greedy subsets for class 852\n",
      "Processing greedy subsets for class 853\n",
      "Processing greedy subsets for class 854\n",
      "Processing greedy subsets for class 855\n",
      "Processing greedy subsets for class 856\n",
      "Processing greedy subsets for class 857\n",
      "Processing greedy subsets for class 858\n",
      "Processing greedy subsets for class 859\n",
      "Processing greedy subsets for class 860\n",
      "Processing greedy subsets for class 861\n",
      "Processing greedy subsets for class 862\n",
      "Processing greedy subsets for class 863\n",
      "Processing greedy subsets for class 864\n",
      "Processing greedy subsets for class 865\n",
      "Processing greedy subsets for class 866\n",
      "Processing greedy subsets for class 867\n",
      "Processing greedy subsets for class 868\n",
      "Processing greedy subsets for class 869\n",
      "Processing greedy subsets for class 870\n",
      "Processing greedy subsets for class 871\n",
      "Processing greedy subsets for class 872\n",
      "Processing greedy subsets for class 873\n",
      "Processing greedy subsets for class 874\n",
      "Processing greedy subsets for class 875\n",
      "Processing greedy subsets for class 876\n",
      "Processing greedy subsets for class 877\n",
      "Processing greedy subsets for class 878\n",
      "Processing greedy subsets for class 879\n",
      "Processing greedy subsets for class 880\n",
      "Processing greedy subsets for class 881\n",
      "Processing greedy subsets for class 882\n",
      "Processing greedy subsets for class 883\n",
      "Processing greedy subsets for class 884\n",
      "Processing greedy subsets for class 885\n",
      "Processing greedy subsets for class 886\n",
      "Processing greedy subsets for class 887\n",
      "Processing greedy subsets for class 888\n",
      "Processing greedy subsets for class 889\n",
      "Processing greedy subsets for class 890\n",
      "Processing greedy subsets for class 891\n",
      "Processing greedy subsets for class 892\n",
      "Processing greedy subsets for class 893\n",
      "Processing greedy subsets for class 894\n",
      "Processing greedy subsets for class 895\n",
      "Processing greedy subsets for class 896\n",
      "Processing greedy subsets for class 897\n",
      "Processing greedy subsets for class 898\n",
      "Processing greedy subsets for class 899\n",
      "Processing greedy subsets for class 900\n",
      "Processing greedy subsets for class 901\n",
      "Processing greedy subsets for class 902\n",
      "Processing greedy subsets for class 903\n",
      "Processing greedy subsets for class 904\n",
      "Processing greedy subsets for class 905\n",
      "Processing greedy subsets for class 906\n",
      "Processing greedy subsets for class 907\n",
      "Processing greedy subsets for class 908\n",
      "Processing greedy subsets for class 909\n",
      "Processing greedy subsets for class 910\n",
      "Processing greedy subsets for class 911\n",
      "Processing greedy subsets for class 912\n",
      "Processing greedy subsets for class 913\n",
      "Processing greedy subsets for class 914\n",
      "Processing greedy subsets for class 915\n",
      "Processing greedy subsets for class 916\n",
      "Processing greedy subsets for class 917\n",
      "Processing greedy subsets for class 918\n",
      "Processing greedy subsets for class 919\n",
      "Processing greedy subsets for class 920\n",
      "Processing greedy subsets for class 921\n",
      "Processing greedy subsets for class 922\n",
      "Processing greedy subsets for class 923\n",
      "Processing greedy subsets for class 924\n",
      "Processing greedy subsets for class 925\n",
      "Processing greedy subsets for class 926\n",
      "Processing greedy subsets for class 927\n",
      "Processing greedy subsets for class 928\n",
      "Processing greedy subsets for class 929\n",
      "Processing greedy subsets for class 930\n",
      "Processing greedy subsets for class 931\n",
      "Processing greedy subsets for class 932\n",
      "Processing greedy subsets for class 933\n",
      "Processing greedy subsets for class 934\n",
      "Processing greedy subsets for class 935\n",
      "Processing greedy subsets for class 936\n",
      "Processing greedy subsets for class 937\n",
      "Processing greedy subsets for class 938\n",
      "Processing greedy subsets for class 939\n",
      "Processing greedy subsets for class 940\n",
      "Processing greedy subsets for class 941\n",
      "Processing greedy subsets for class 942\n",
      "Processing greedy subsets for class 943\n",
      "Processing greedy subsets for class 944\n",
      "Processing greedy subsets for class 945\n",
      "Processing greedy subsets for class 946\n",
      "Processing greedy subsets for class 947\n",
      "Processing greedy subsets for class 948\n",
      "Processing greedy subsets for class 949\n",
      "Processing greedy subsets for class 950\n",
      "Processing greedy subsets for class 951\n",
      "Processing greedy subsets for class 952\n",
      "Processing greedy subsets for class 953\n",
      "Processing greedy subsets for class 954\n",
      "Processing greedy subsets for class 955\n",
      "Processing greedy subsets for class 956\n",
      "Processing greedy subsets for class 957\n",
      "Processing greedy subsets for class 958\n",
      "Processing greedy subsets for class 959\n",
      "Processing greedy subsets for class 960\n",
      "Processing greedy subsets for class 961\n",
      "Processing greedy subsets for class 962\n",
      "Processing greedy subsets for class 963\n",
      "Processing greedy subsets for class 964\n",
      "Processing greedy subsets for class 965\n",
      "Processing greedy subsets for class 966\n",
      "Processing greedy subsets for class 967\n",
      "Processing greedy subsets for class 968\n",
      "Processing greedy subsets for class 969\n"
     ]
    },
    {
     "name": "stderr",
     "output_type": "stream",
     "text": [
      "/cis/home/rmuthuk1/anaconda3/envs/advrob/lib/python3.9/site-packages/PIL/TiffImagePlugin.py:652: UserWarning: Metadata Warning, tag 33723 had too many entries: 48, expected 1\n",
      "  warnings.warn(\n"
     ]
    },
    {
     "name": "stdout",
     "output_type": "stream",
     "text": [
      "Processing greedy subsets for class 970\n",
      "Processing greedy subsets for class 971\n",
      "Processing greedy subsets for class 972\n",
      "Processing greedy subsets for class 973\n",
      "Processing greedy subsets for class 974\n",
      "Processing greedy subsets for class 975\n",
      "Processing greedy subsets for class 976\n",
      "Processing greedy subsets for class 977\n",
      "Processing greedy subsets for class 978\n",
      "Processing greedy subsets for class 979\n",
      "Processing greedy subsets for class 980\n",
      "Processing greedy subsets for class 981\n",
      "Processing greedy subsets for class 982\n",
      "Processing greedy subsets for class 983\n",
      "Processing greedy subsets for class 984\n",
      "Processing greedy subsets for class 985\n",
      "Processing greedy subsets for class 986\n",
      "Processing greedy subsets for class 987\n",
      "Processing greedy subsets for class 988\n",
      "Processing greedy subsets for class 989\n"
     ]
    },
    {
     "name": "stderr",
     "output_type": "stream",
     "text": [
      "/cis/home/rmuthuk1/anaconda3/envs/advrob/lib/python3.9/site-packages/PIL/TiffImagePlugin.py:652: UserWarning: Metadata Warning, tag 33723 had too many entries: 16, expected 1\n",
      "  warnings.warn(\n"
     ]
    },
    {
     "name": "stdout",
     "output_type": "stream",
     "text": [
      "Processing greedy subsets for class 990\n",
      "Processing greedy subsets for class 991\n",
      "Processing greedy subsets for class 992\n",
      "Processing greedy subsets for class 993\n",
      "Processing greedy subsets for class 994\n",
      "Processing greedy subsets for class 995\n",
      "Processing greedy subsets for class 996\n",
      "Processing greedy subsets for class 997\n",
      "Processing greedy subsets for class 998\n",
      "Processing greedy subsets for class 999\n"
     ]
    }
   ],
   "source": [
    "breakp = 229\n",
    "\n",
    "for y_num, y_name in enumerate(classes):\n",
    "    if y_num < breakp:\n",
    "        continue\n",
    "    else:\n",
    "        train_folder_path = os.path.join(train_loc, y_name)\n",
    "        train_selection_string = train_folder_path + \"/*.JPEG\"\n",
    "        train_images = imread_collection(train_selection_string)\n",
    "        listT = []\n",
    "        for index, image in enumerate(train_images):\n",
    "            if len(np.shape(image)) == 3:\n",
    "                if np.shape(image)[2] == 3:\n",
    "                    listT.append(transforms(img=np.array(image, dtype=\"f\")))\n",
    "                elif np.shape(image)[2] == 4:\n",
    "                    listT.append(\n",
    "                        transforms(img=np.array(color.rgba2rgb(image), dtype=\"f\"))\n",
    "                    )\n",
    "                else:\n",
    "                    raise ValueError(\n",
    "                        \"Image shape is not 3 or 4 but {}\".format(np.shape(image)[2])\n",
    "                    )\n",
    "\n",
    "        train_image_partition = torch.stack(listT, dim=0)\n",
    "        #  torch.stack(\n",
    "        #      [\n",
    "        #         transforms(img=np.array(image))\n",
    "        #         for image in train_images\n",
    "        #         if (len(np.shape(image)) == 3 and np.shape(image[2] == 3))\n",
    "        #     ],\n",
    "        #     dim=0,\n",
    "        # )\n",
    "\n",
    "        val_folder_path = os.path.join(val_loc, y_name)\n",
    "        val_selection_string = val_folder_path + \"/*.JPEG\"\n",
    "        val_images = imread_collection(val_selection_string)\n",
    "        listV = []\n",
    "        for index, image in enumerate(val_images):\n",
    "            if len(np.shape(image)) == 3:\n",
    "                if np.shape(image)[2] == 3:\n",
    "                    listV.append(transforms(img=np.array(image, dtype=\"f\")))\n",
    "                elif np.shape(image)[2] == 4:\n",
    "                    listV.append(\n",
    "                        transforms(img=np.array(color.rgba2rgb(image), dtype=\"f\"))\n",
    "                    )\n",
    "                else:\n",
    "                    raise ValueError(\n",
    "                        \"Image shape is not 3 or 4 but {}\".format(np.shape(image)[2])\n",
    "                    )\n",
    "\n",
    "        val_image_partition = torch.stack(listV, dim=0)\n",
    "        # torch.stack(\n",
    "        #     [\n",
    "        #         transforms(img=np.array(image))\n",
    "        #         for image in val_images\n",
    "        #         if len(np.shape(image)) == 3\n",
    "        #     ],\n",
    "        #     dim=0,\n",
    "        # )\n",
    "        torch.save(\n",
    "            train_image_partition,\n",
    "            os.path.join(dataset_loc, \"train_class_partition\")\n",
    "            + \"/\"\n",
    "            + str(y_num)\n",
    "            + \".pt\",\n",
    "        )\n",
    "        torch.save(\n",
    "            val_image_partition,\n",
    "            os.path.join(dataset_loc, \"val_class_partition\") + \"/\" + str(y_num) + \".pt\",\n",
    "        )\n",
    "\n",
    "        # find greedy_partition for each per-label thing and then save them.\n",
    "        print(\"Processing greedy subsets for class {}\".format(y_num))\n",
    "        greedy_root = dataset_loc + \"/train/greedy\"\n",
    "        for per_label_index, per_label in enumerate(per_label_array):\n",
    "            dir_path = greedy_root + \"/per_label_\" + str(per_label)\n",
    "            Path(dir_path).mkdir(parents=True, exist_ok=True)\n",
    "            file_path = \"/greedy_partition_\"\n",
    "            max_data_size = int(0.5 * per_label * 10)\n",
    "            half = int(0.5 * len(train_image_partition))\n",
    "            assert max_data_size <= half\n",
    "            # here I could use a different logic to find my points.\n",
    "            start_1 = 0\n",
    "            end_1 = max_data_size\n",
    "            start_2 = half\n",
    "            end_2 = half + max_data_size\n",
    "\n",
    "            greedy_class_partition_first_half = get_greedy_subset_partition(\n",
    "                train_image_partition[start_1:end_1], per_label // 2\n",
    "            )\n",
    "            greedy_class_partition_second_half = get_greedy_subset_partition(\n",
    "                train_image_partition[start_2:end_2], per_label // 2\n",
    "            )\n",
    "\n",
    "            torch.save(\n",
    "                greedy_class_partition_first_half,\n",
    "                dir_path + file_path + \"first_half_\" + str(y_num) + \".pt\",\n",
    "            )\n",
    "\n",
    "            torch.save(\n",
    "                greedy_class_partition_second_half[label],\n",
    "                dir_path + file_path + \"second_half_\" + str(y_num) + \".pt\",\n",
    "            )\n",
    "\n",
    "            del greedy_class_partition_first_half\n",
    "            del greedy_class_partition_second_half\n",
    "        del train_image_partition\n",
    "        del val_image_partition\n",
    "        gc.collect()\n",
    "        torch.cuda.empty_cache()"
   ]
  },
  {
   "cell_type": "code",
   "execution_count": 50,
   "metadata": {},
   "outputs": [
    {
     "data": {
      "text/plain": [
       "['./datasets/imagenet/train/n01440764/n01440764_2708.JPEG',\n",
       " './datasets/imagenet/train/n01440764/n01440764_7173.JPEG',\n",
       " './datasets/imagenet/train/n01440764/n01440764_6388.JPEG',\n",
       " './datasets/imagenet/train/n01440764/n01440764_3198.JPEG',\n",
       " './datasets/imagenet/train/n01440764/n01440764_3724.JPEG',\n",
       " './datasets/imagenet/train/n01440764/n01440764_11155.JPEG',\n",
       " './datasets/imagenet/train/n01440764/n01440764_7719.JPEG',\n",
       " './datasets/imagenet/train/n01440764/n01440764_7304.JPEG',\n",
       " './datasets/imagenet/train/n01440764/n01440764_8469.JPEG',\n",
       " './datasets/imagenet/train/n01440764/n01440764_6432.JPEG']"
      ]
     },
     "execution_count": 50,
     "metadata": {},
     "output_type": "execute_result"
    }
   ],
   "source": [
    "train_sample_paths[0][:10]"
   ]
  },
  {
   "cell_type": "code",
   "execution_count": null,
   "metadata": {},
   "outputs": [],
   "source": []
  },
  {
   "cell_type": "code",
   "execution_count": 107,
   "metadata": {},
   "outputs": [
    {
     "data": {
      "text/plain": [
       "'./datasets/imagenet/train'"
      ]
     },
     "execution_count": 107,
     "metadata": {},
     "output_type": "execute_result"
    }
   ],
   "source": [
    "train_loc"
   ]
  },
  {
   "cell_type": "code",
   "execution_count": 109,
   "metadata": {},
   "outputs": [
    {
     "data": {
      "text/plain": [
       "'./datasets/imagenet/train_class_partition'"
      ]
     },
     "execution_count": 109,
     "metadata": {},
     "output_type": "execute_result"
    }
   ],
   "source": [
    "os.path.join(dataset_loc, \"train_class_partition\")"
   ]
  },
  {
   "cell_type": "code",
   "execution_count": 110,
   "metadata": {},
   "outputs": [],
   "source": [
    "for y_num, y_name in enumerate(classes):\n",
    "    if y_num > 229:\n",
    "        break \n",
    "    torch.save(train_image_partition[y_num], os.path.join(dataset_loc, \"train_class_partition\") + \"/\" + str(y_num) + \".pt\")\n",
    "    torch.save(test_image_partition[y_num], os.path.join(dataset_loc, \"val_class_partition\") + \"/\" + str(y_num) + \".pt\")\n",
    "    "
   ]
  },
  {
   "cell_type": "code",
   "execution_count": null,
   "metadata": {},
   "outputs": [],
   "source": []
  },
  {
   "cell_type": "code",
   "execution_count": null,
   "metadata": {},
   "outputs": [],
   "source": []
  },
  {
   "cell_type": "code",
   "execution_count": null,
   "metadata": {},
   "outputs": [],
   "source": []
  },
  {
   "cell_type": "code",
   "execution_count": null,
   "metadata": {},
   "outputs": [],
   "source": []
  },
  {
   "cell_type": "code",
   "execution_count": null,
   "metadata": {},
   "outputs": [],
   "source": []
  },
  {
   "cell_type": "code",
   "execution_count": 10,
   "metadata": {},
   "outputs": [],
   "source": [
    "def load_data():\n",
    "    transform = transforms.Compose(\n",
    "        [\n",
    "            transforms.ToTensor(),\n",
    "            transforms.Normalize((0.4914, 0.4822, 0.4465), (0.2023, 0.1994, 0.2010)),\n",
    "        ]\n",
    "    )\n",
    "\n",
    "    trainset = CIFAR10(root=dataset_loc, train=True, download=True, transform=transform)\n",
    "    train_iter = DataLoader(trainset, batch_size=128, shuffle=False, num_workers=16, pin_memory=True, drop_last=True)\n",
    "\n",
    "    testset = CIFAR10(root=dataset_loc, train=False, download=True, transform=transform)\n",
    "    test_iter = DataLoader(testset, batch_size=100, shuffle=False, num_workers=16, pin_memory=True)     \n",
    "    \n",
    "    return trainset, train_iter, testset, test_iter"
   ]
  },
  {
   "cell_type": "code",
   "execution_count": 27,
   "metadata": {},
   "outputs": [],
   "source": [
    "import math"
   ]
  },
  {
   "cell_type": "code",
   "execution_count": 28,
   "metadata": {},
   "outputs": [
    {
     "data": {
      "text/plain": [
       "27.712812921102035"
      ]
     },
     "execution_count": 28,
     "metadata": {},
     "output_type": "execute_result"
    }
   ],
   "source": [
    "32 * math.sqrt(3) * 0.5"
   ]
  },
  {
   "cell_type": "code",
   "execution_count": 11,
   "metadata": {},
   "outputs": [
    {
     "name": "stdout",
     "output_type": "stream",
     "text": [
      "Files already downloaded and verified\n",
      "Files already downloaded and verified\n"
     ]
    }
   ],
   "source": [
    "trainset, train_iter, test_set, test_iter = load_data()"
   ]
  },
  {
   "cell_type": "code",
   "execution_count": 12,
   "metadata": {},
   "outputs": [
    {
     "name": "stdout",
     "output_type": "stream",
     "text": [
      "tensor([4995, 4990, 4994, 4990, 4991, 4993, 4991, 4991, 4991, 4994])\n",
      "tensor([1000, 1000, 1000, 1000, 1000, 1000, 1000, 1000, 1000, 1000])\n"
     ]
    }
   ],
   "source": [
    "train_label_count = torch.zeros(num_labels, dtype=int)\n",
    "test_label_count = torch.zeros(num_labels, dtype=int)\n",
    "\n",
    "for (x, label) in train_iter:\n",
    "    for index in range(len(label)):\n",
    "        train_label_count[label[index]] +=1\n",
    "\n",
    "for (x, label) in test_iter:\n",
    "    #print(label.shape)\n",
    "    for index in range(len(label)):\n",
    "        test_label_count[label[index]] +=1\n",
    "\n",
    "print(train_label_count)\n",
    "print(test_label_count)"
   ]
  },
  {
   "cell_type": "code",
   "execution_count": 14,
   "metadata": {},
   "outputs": [],
   "source": [
    "num_train_data = train_label_count.sum().item()\n",
    "num_test_data = test_label_count.sum().item()"
   ]
  },
  {
   "cell_type": "code",
   "execution_count": 13,
   "metadata": {},
   "outputs": [],
   "source": [
    "train_class_partition = dict()\n",
    "test_class_partition = dict()"
   ]
  },
  {
   "cell_type": "code",
   "execution_count": 15,
   "metadata": {},
   "outputs": [
    {
     "name": "stdout",
     "output_type": "stream",
     "text": [
      "Reference label is 0\n",
      "Reference label is 1\n",
      "Reference label is 2\n",
      "Reference label is 3\n",
      "Reference label is 4\n",
      "Reference label is 5\n",
      "Reference label is 6\n",
      "Reference label is 7\n",
      "Reference label is 8\n",
      "Reference label is 9\n"
     ]
    }
   ],
   "source": [
    "for reference_label in range(len(classes)):\n",
    "    print(\"Reference label is \" + str(reference_label))\n",
    "    train_per_label = train_label_count[reference_label]\n",
    "    test_per_label = test_label_count[reference_label]\n",
    "    train_class_partition[reference_label] = torch.zeros(\n",
    "        [train_per_label] + input_shape\n",
    "    )\n",
    "    test_class_partition[reference_label] = torch.zeros([test_per_label] + input_shape)\n",
    "\n",
    "    num = 0\n",
    "    for (images, labels) in train_iter:\n",
    "        num_per_batch = len(images[labels == reference_label])\n",
    "        train_class_partition[reference_label][num : num + num_per_batch] = images[\n",
    "            labels == reference_label\n",
    "        ]\n",
    "        num += num_per_batch\n",
    "\n",
    "    num = 0\n",
    "    for (images, labels) in test_iter:\n",
    "        num_per_batch = len(images[labels == reference_label])\n",
    "        test_class_partition[reference_label][num : num + num_per_batch] = images[\n",
    "            labels == reference_label\n",
    "        ]\n",
    "        num += num_per_batch"
   ]
  },
  {
   "cell_type": "code",
   "execution_count": 16,
   "metadata": {},
   "outputs": [],
   "source": [
    "for reference_label in range(len(classes)):\n",
    "    train_per_label = train_label_count[reference_label]\n",
    "    test_per_label = test_label_count[reference_label]\n",
    "\n",
    "    for index in range(train_per_label):\n",
    "        assert train_class_partition[reference_label][index].sum() != 0\n",
    "\n",
    "    for index in range(test_per_label):\n",
    "        assert test_class_partition[reference_label][index].sum() != 0"
   ]
  },
  {
   "cell_type": "code",
   "execution_count": 20,
   "metadata": {},
   "outputs": [],
   "source": [
    "\n",
    "def save_greedy_partition(image_partition, per_label, train=True, dataset_loc=None):\n",
    "    dir_path = \"\"\n",
    "    if train:\n",
    "        dir_path += dataset_loc + \"/train\"\n",
    "    else:\n",
    "        dir_path += dataset_loc + \"/test\"\n",
    "    dir_path += \"/greedy\"\n",
    "    dir_path += \"/per_label_\" + str(per_label)\n",
    "    Path(dir_path).mkdir(parents=True, exist_ok=True)\n",
    "\n",
    "    file_path = \"/greedy_partition_\"\n",
    "\n",
    "    print('Example path is ' + dir_path + file_path + \"first_half_0.pt\")\n",
    "    \n",
    "    greedy_class_partition_first_half = dict()\n",
    "    greedy_class_partition_second_half = dict()\n",
    "\n",
    "    max_data_size = int(0.5 * per_label * 10)\n",
    "    half = int(0.5 * len(image_partition[0]))\n",
    "    assert max_data_size <= half\n",
    "\n",
    "    for label in range(num_labels):\n",
    "        if label % 10 == 0:\n",
    "            print(\"Finding greedy partition for label \" + str(label))\n",
    "\n",
    "        greedy_class_partition_first_half[label] = get_greedy_subset_partition(\n",
    "            image_partition[label][:max_data_size], per_label // 2\n",
    "        )\n",
    "        greedy_class_partition_second_half[label] = get_greedy_subset_partition(\n",
    "            image_partition[label][half : half + max_data_size], per_label // 2\n",
    "        )\n",
    "\n",
    "        torch.save(\n",
    "            greedy_class_partition_first_half[label],\n",
    "            dir_path + file_path + \"first_half_\" + str(label) + \".pt\",\n",
    "        )\n",
    "\n",
    "        torch.save(\n",
    "            greedy_class_partition_second_half[label],\n",
    "            dir_path + file_path + \"second_half_\" + str(label) + \".pt\",\n",
    "        )\n",
    "    return greedy_class_partition_first_half, greedy_class_partition_second_half\n",
    "\n",
    "\n",
    "def load_greedy_partition(per_label, label=None, train=True, dataset_loc=None):\n",
    "    dir_path = \"\"\n",
    "    if train:\n",
    "        dir_path += dataset_loc + \"/train\"\n",
    "    else:\n",
    "        dir_path += dataset_loc + \"/test\"\n",
    "    dir_path += \"/greedy\"\n",
    "    dir_path += \"/per_label_\" + str(per_label)\n",
    "\n",
    "    file_path_first_half = \"/greedy_partition_first_half_\"\n",
    "    file_path_second_half = \"/greedy_partition_second_half_\"\n",
    "\n",
    "    if label is not None:\n",
    "        first_half = torch.load(\n",
    "            dir_path + file_path_first_half + str(label) + \".pt\", map_location=\"cpu\"\n",
    "        )\n",
    "        second_half = torch.load(\n",
    "            dir_path + file_path_second_half + str(label) + \".pt\", map_location=\"cpu\"\n",
    "        )\n",
    "        return first_half, second_half\n",
    "    else:\n",
    "        shape = [num_labels, per_label // 2] + input_shape\n",
    "        class_partition_first_half = torch.zeros(shape)\n",
    "        class_partition_second_half = torch.zeros(shape)\n",
    "\n",
    "        for label in range(num_labels):\n",
    "            class_partition_first_half[label] = torch.load(\n",
    "                dir_path + file_path_first_half + str(label) + \".pt\", map_location=\"cpu\"\n",
    "            )\n",
    "            class_partition_second_half[label] = torch.load(\n",
    "                dir_path + file_path_second_half + str(label) + \".pt\",\n",
    "                map_location=\"cpu\",\n",
    "            )\n",
    "\n",
    "        return class_partition_first_half, class_partition_second_half"
   ]
  },
  {
   "cell_type": "code",
   "execution_count": 21,
   "metadata": {},
   "outputs": [
    {
     "name": "stdout",
     "output_type": "stream",
     "text": [
      "Example path is ./datasets/cifar10/train/greedy/per_label_10/greedy_partition_first_half_0.pt\n",
      "Finding greedy partition for label 0\n",
      "Example path is ./datasets/cifar10/train/greedy/per_label_20/greedy_partition_first_half_0.pt\n",
      "Finding greedy partition for label 0\n",
      "Example path is ./datasets/cifar10/train/greedy/per_label_30/greedy_partition_first_half_0.pt\n",
      "Finding greedy partition for label 0\n",
      "Example path is ./datasets/cifar10/train/greedy/per_label_40/greedy_partition_first_half_0.pt\n",
      "Finding greedy partition for label 0\n",
      "Example path is ./datasets/cifar10/train/greedy/per_label_50/greedy_partition_first_half_0.pt\n",
      "Finding greedy partition for label 0\n"
     ]
    }
   ],
   "source": [
    "for per_label in per_label_array:\n",
    "    save_greedy_partition(train_class_partition, per_label=per_label, dataset_loc = dataset_loc)"
   ]
  },
  {
   "cell_type": "code",
   "execution_count": 22,
   "metadata": {},
   "outputs": [],
   "source": [
    "greedy_subsets_first_half = dict()\n",
    "greedy_subsets_second_half = dict()\n",
    "\n",
    "for per_label in per_label_array:\n",
    "    (\n",
    "        greedy_subsets_first_half[per_label],\n",
    "        greedy_subsets_second_half[per_label],\n",
    "    ) = load_greedy_partition(per_label, dataset_loc=dataset_loc)\n",
    "    "
   ]
  },
  {
   "cell_type": "code",
   "execution_count": 23,
   "metadata": {},
   "outputs": [
    {
     "data": {
      "text/plain": [
       "torch.Size([10, 15, 3, 32, 32])"
      ]
     },
     "execution_count": 23,
     "metadata": {},
     "output_type": "execute_result"
    }
   ],
   "source": [
    "greedy_subsets_first_half[30].shape"
   ]
  },
  {
   "cell_type": "code",
   "execution_count": 26,
   "metadata": {},
   "outputs": [
    {
     "name": "stdout",
     "output_type": "stream",
     "text": [
      "torch.Size([10, 15, 3, 32, 32])\n",
      "torch.Size([10, 15, 3, 32, 32])\n"
     ]
    },
    {
     "data": {
      "text/plain": [
       "torch.Size([10, 30, 3, 32, 32])"
      ]
     },
     "execution_count": 26,
     "metadata": {},
     "output_type": "execute_result"
    }
   ],
   "source": [
    "(first_half, second_half) = load_greedy_partition(\n",
    "        30, dataset_loc=dataset_loc\n",
    "    )\n",
    "print(first_half.shape)\n",
    "print(second_half.shape)\n",
    "torch.cat((first_half, second_half), dim=1).shape\n",
    "# greedy_subsets = torch.cat((first_half, second_half), dim=1)\n"
   ]
  },
  {
   "cell_type": "code",
   "execution_count": 24,
   "metadata": {},
   "outputs": [
    {
     "data": {
      "text/plain": [
       "torch.Size([10, 30, 3, 32, 32])"
      ]
     },
     "execution_count": 24,
     "metadata": {},
     "output_type": "execute_result"
    }
   ],
   "source": [
    "torch.cat((greedy_subsets_first_half[30], greedy_subsets_second_half[30]), dim=1).shape"
   ]
  },
  {
   "cell_type": "code",
   "execution_count": null,
   "metadata": {},
   "outputs": [],
   "source": [
    "def plot_images(images, labels, num_images=4):\n",
    "    assert len(images) == len(labels)\n",
    "    num_data = len(images)\n",
    "    start = torch.randint(0, num_data - num_images - 1, (1,)).item()\n",
    "\n",
    "    label_str = \"\"\n",
    "    for i in range(num_images):\n",
    "        label_str += label_dict[labels[start + i].item()] + \"\\n\"\n",
    "    print(label_str)\n",
    "\n",
    "    img_select = images[start : start + num_images]\n",
    "    for i in range(num_images):\n",
    "        img_min = img_select[i].min()\n",
    "        img_max = img_select[i].max()\n",
    "        img_select[i].clamp_(min=img_min, max=img_max)\n",
    "        img_select[i].add_(-img_min).div_(img_max - img_min + 1e-5)\n",
    "    img = torchvision.utils.make_grid(img_select, nrow=num_images)\n",
    "    \n",
    "    if img.is_cuda:\n",
    "        img = img.cpu()\n",
    "    \n",
    "    plt.figure(figsize=(12, 12))\n",
    "    plt.imshow(img.permute(1, 2, 0))"
   ]
  },
  {
   "cell_type": "code",
   "execution_count": null,
   "metadata": {},
   "outputs": [],
   "source": [
    "#train_images, train_labels, test_images, test_labels = load_data()\n",
    "\n",
    "#plot_images(train_images, train_labels)\n",
    "\n",
    "#plot_images(test_images, test_labels)\n",
    "\n",
    "#train_images, train_labels = move_to_device((train_images, train_labels), cuda)\n",
    "#test_images, test_labels = move_to_device((test_images, test_labels), cuda)\n",
    "#del train_images, train_labels, test_images, test_labels"
   ]
  },
  {
   "cell_type": "code",
   "execution_count": null,
   "metadata": {},
   "outputs": [],
   "source": [
    "# train_class_partition = load_class_partition(train=True)\n",
    "test_class_partition = load_class_partition(train=False)"
   ]
  },
  {
   "cell_type": "code",
   "execution_count": null,
   "metadata": {},
   "outputs": [],
   "source": [
    "print(test_class_partition[0].get_device())"
   ]
  },
  {
   "cell_type": "code",
   "execution_count": null,
   "metadata": {},
   "outputs": [],
   "source": [
    "def get_greedy_subset_partition(domain, num_points):\n",
    "    domain = domain.to(device=cuda)\n",
    "    domain_flat = torch.flatten(domain, start_dim=1)\n",
    "\n",
    "    # flat_shape = domain_flat.shape[1:]\n",
    "    # subset_shape = [num_points, flat_shape]\n",
    "    subset_shape = [num_points] + input_shape\n",
    "\n",
    "    subset_domain = torch.zeros(subset_shape, device=cuda)\n",
    "    # random initialization\n",
    "    rand_index = torch.randint(0, len(domain), (1,)).item()\n",
    "    subset_domain[0] = domain[rand_index]\n",
    "\n",
    "    for index in range(1, num_points):\n",
    "        sim = pairwise_cosine_similarity(\n",
    "            domain_flat, torch.flatten(subset_domain[:index], start_dim=1)\n",
    "        )\n",
    "        max_sim = torch.max(sim, dim=1).values\n",
    "        selected_index = torch.argmin(max_sim).item()\n",
    "        subset_domain[index] = domain[selected_index]\n",
    "    return subset_domain\n",
    "\n",
    "\n",
    "def save_greedy_partition(image_partition, per_label, train=True):\n",
    "    dir_path = \"\"\n",
    "    if train:\n",
    "        dir_path += dataset_loc + \"/train\"\n",
    "    else:\n",
    "        dir_path += dataset_loc + \"/test\"\n",
    "    dir_path += \"/greedy\"\n",
    "    dir_path += \"/per_label_\" + str(per_label)\n",
    "    Path(dir_path).mkdir(parents=True, exist_ok=True)\n",
    "\n",
    "    file_path = \"/greedy_partition_\"\n",
    "\n",
    "    greedy_class_partition_first_half = dict()\n",
    "    greedy_class_partition_second_half = dict()\n",
    "\n",
    "    max_data_size = int(0.5 * per_label * 10)\n",
    "    half = int(0.5 * len(image_partition[0]))\n",
    "    assert max_data_size <= half\n",
    "\n",
    "    for label in range(num_labels):\n",
    "        if label % 10 == 0:\n",
    "            print(\"Finding greedy partition for label \" + str(label))\n",
    "\n",
    "        greedy_class_partition_first_half[label] = get_greedy_subset_partition(\n",
    "            image_partition[label][:max_data_size], per_label // 2\n",
    "        )\n",
    "        greedy_class_partition_second_half[label] = get_greedy_subset_partition(\n",
    "            image_partition[label][half : half + max_data_size], per_label // 2\n",
    "        )\n",
    "\n",
    "        torch.save(\n",
    "            greedy_class_partition_first_half[label],\n",
    "            dir_path + file_path + \"first_half_\" + str(label) + \".pt\",\n",
    "        )\n",
    "\n",
    "        torch.save(\n",
    "            greedy_class_partition_second_half[label],\n",
    "            dir_path + file_path + \"second_half_\" + str(label) + \".pt\",\n",
    "        )\n",
    "    return greedy_class_partition_first_half, greedy_class_partition_second_half\n",
    "\n",
    "\n",
    "def load_greedy_partition(per_label, label=None, train=True):\n",
    "    dir_path = \"\"\n",
    "    if train:\n",
    "        dir_path += dataset_loc + \"/train\"\n",
    "    else:\n",
    "        dir_path += dataset_loc + \"/test\"\n",
    "    dir_path += \"/greedy\"\n",
    "    dir_path += \"/per_label_\" + str(per_label)\n",
    "\n",
    "    file_path_first_half = \"/greedy_partition_first_half_\"\n",
    "    file_path_second_half = \"/greedy_partition_second_half_\"\n",
    "\n",
    "    if label is not None:\n",
    "        first_half = torch.load(\n",
    "            dir_path + file_path_first_half + str(label) + \".pt\", map_location=\"cpu\"\n",
    "        )\n",
    "        second_half = torch.load(\n",
    "            dir_path + file_path_second_half + str(label) + \".pt\", map_location=\"cpu\"\n",
    "        )\n",
    "        return first_half, second_half\n",
    "    else:\n",
    "        shape = [num_labels, per_label//2] + input_shape\n",
    "        class_partition_first_half = torch.zeros(shape)\n",
    "        class_partition_second_half = torch.zeros(shape)\n",
    "\n",
    "        for label in range(num_labels):\n",
    "            class_partition_first_half[label] = torch.load(\n",
    "                dir_path + file_path_first_half + str(label) + \".pt\",\n",
    "                map_location=\"cpu\"\n",
    "            )\n",
    "            class_partition_second_half[label] = torch.load(\n",
    "                dir_path + file_path_second_half + str(label) + \".pt\",\n",
    "                map_location=\"cpu\",\n",
    "            )\n",
    "\n",
    "        return class_partition_first_half, class_partition_second_half"
   ]
  },
  {
   "cell_type": "code",
   "execution_count": null,
   "metadata": {},
   "outputs": [],
   "source": [
    "#for per_label in per_label_array:\n",
    "#    save_greedy_partition(train_class_partition, per_label=per_label)"
   ]
  },
  {
   "cell_type": "code",
   "execution_count": null,
   "metadata": {},
   "outputs": [],
   "source": [
    "greedy_trial_1, greedy_trial_2 = load_greedy_partition(30, label=0)\n",
    "\n",
    "print(greedy_trial_1.get_device())\n",
    "print(greedy_trial_1.shape)\n",
    "print(greedy_trial_2.get_device())\n",
    "print(greedy_trial_2.shape)\n",
    "\n",
    "del greedy_trial_1, greedy_trial_2"
   ]
  },
  {
   "cell_type": "code",
   "execution_count": null,
   "metadata": {},
   "outputs": [],
   "source": [
    "greedy_subsets_first_half = dict()\n",
    "greedy_subsets_second_half = dict() \n",
    "\n",
    "for per_label in per_label_array:\n",
    "    greedy_subsets_first_half[per_label], greedy_subsets_second_half[per_label] = load_greedy_partition(per_label)"
   ]
  },
  {
   "cell_type": "code",
   "execution_count": null,
   "metadata": {},
   "outputs": [],
   "source": [
    "greedy_subsets_first_half[10].shape"
   ]
  },
  {
   "cell_type": "code",
   "execution_count": null,
   "metadata": {},
   "outputs": [],
   "source": [
    "for per_label in per_label_array:\n",
    "    greedy_subsets_first_half[per_label] = move_to_device(greedy_subsets_first_half[per_label], cuda)\n",
    "    greedy_subsets_second_half[per_label] = move_to_device(greedy_subsets_second_half[per_label], cuda)"
   ]
  },
  {
   "cell_type": "code",
   "execution_count": null,
   "metadata": {},
   "outputs": [],
   "source": [
    "def threat(reference_input, perturbations, threat_specification):\n",
    "    # assuming batch of flat inputs, perturbations and threats\n",
    "    unsafe_directions = -(reference_input.unsqueeze(1) - threat_specification)\n",
    "    # print(\"shape of unsafe direction is \" + str(unsafe_directions.shape))\n",
    "    \n",
    "    unsafe_norms = torch.linalg.norm(unsafe_directions, dim=2, ord=2)** 2\n",
    "    # print(\"shape of unsafe normalization is \" + str(unsafe_norms.shape))\n",
    "    \n",
    "    unsafe_directions = unsafe_directions / unsafe_norms.unsqueeze(-1)\n",
    "    \n",
    "    scaled_projections = torch.bmm(perturbations, unsafe_directions.permute(0, 2, 1))\n",
    "    threats = torch.max(scaled_projections, dim=2).values\n",
    "    #if threats.is_cuda:\n",
    "    #    threats = threats.cpu()\n",
    "    return threats"
   ]
  },
  {
   "cell_type": "code",
   "execution_count": null,
   "metadata": {},
   "outputs": [],
   "source": [
    "def eval_threat(per_label_array, greedy=True, same_eval=False, step=10):\n",
    "    if not same_eval:\n",
    "        threat_first_half = torch.zeros(\n",
    "            len(per_label_array),\n",
    "            num_labels,\n",
    "            num_labels,\n",
    "            num_test_data // num_labels,\n",
    "            num_test_data // num_labels,\n",
    "            device=cuda,\n",
    "        )\n",
    "        threat_second_half = torch.zeros(\n",
    "            len(per_label_array),\n",
    "            num_labels,\n",
    "            num_labels,\n",
    "            num_test_data // num_labels,\n",
    "            num_test_data // num_labels,\n",
    "            device=cuda,\n",
    "        )\n",
    "    else:\n",
    "        threat_first_half = torch.zeros(\n",
    "            len(per_label_array),\n",
    "            num_labels,\n",
    "            num_test_data // num_labels,\n",
    "            num_test_data // num_labels,\n",
    "            device=cuda,\n",
    "        )\n",
    "\n",
    "        threat_second_half = torch.zeros(\n",
    "            len(per_label_array),\n",
    "            num_labels,\n",
    "            num_test_data // num_labels,\n",
    "            num_test_data // num_labels,\n",
    "            device=cuda,\n",
    "        )\n",
    "\n",
    "    # store a tensor threat of size num_labels, num_labels, test_per_label, test_per_label\n",
    "    # threat[i,j,k,l] = threat(x_{i_k}, x_{j_l})\n",
    "    # compute this threat[i,j] at a time.\n",
    "\n",
    "    for reference_label in range(num_labels):\n",
    "        # if reference_label > 0: break\n",
    "        print(\"At reference label \" + str(reference_label))\n",
    "\n",
    "        reference_input = move_to_device(test_class_partition[reference_label], cuda)\n",
    "        reference_input = torch.flatten(reference_input, start_dim=1)\n",
    "\n",
    "        for alt_label in range(num_labels):\n",
    "            if (alt_label == reference_label) and (not same_eval):\n",
    "                continue\n",
    "\n",
    "            if alt_label % 1 == 0:\n",
    "                print(\"At alt label \" + str(alt_label))\n",
    "\n",
    "            # if alt_label > 5: return  \n",
    "\n",
    "            alt_input = move_to_device(test_class_partition[alt_label], cuda)\n",
    "            alt_input = torch.flatten(alt_input, start_dim=1)\n",
    "            perturbations = -(reference_input.unsqueeze(1) - alt_input)\n",
    "            # print(\"Perturbation shape is \" + str(perturbations.shape))\n",
    "\n",
    "            for threat_label in range(0, num_labels, step):\n",
    "                label_list = torch.arange(threat_label, threat_label + step)\n",
    "\n",
    "                #if threat_label % 20 == 0:\n",
    "                #    print(\"At threat label \" + str(threat_label))\n",
    "\n",
    "                for (per_label_index, per_label) in enumerate(per_label_array):\n",
    "                    if greedy:\n",
    "                        threat_specification_first_half = move_to_device(\n",
    "                            greedy_subsets_first_half[per_label][\n",
    "                                label_list[label_list != reference_label]\n",
    "                            ],\n",
    "                            cuda,\n",
    "                        )\n",
    "                        threat_specification_second_half = move_to_device(\n",
    "                            greedy_subsets_second_half[per_label][\n",
    "                                label_list[label_list != reference_label]\n",
    "                            ],\n",
    "                            cuda,\n",
    "                        )\n",
    "                    \n",
    "                    threat_specification_first_half = torch.flatten(\n",
    "                        threat_specification_first_half, start_dim=2\n",
    "                    )\n",
    "                    dim1 = len(threat_specification_first_half)\n",
    "                    dim2 = per_label // 2\n",
    "                    dim3 = np.prod(input_shape)\n",
    "\n",
    "                    threat_specification_first_half = (\n",
    "                        threat_specification_first_half.view(dim1 * dim2, dim3)\n",
    "                    )\n",
    "\n",
    "                    threat_specification_second_half = torch.flatten(\n",
    "                        threat_specification_second_half, start_dim=2\n",
    "                    )\n",
    "\n",
    "                    threat_specification_second_half = (\n",
    "                        threat_specification_second_half.view(dim1 * dim2, dim3)\n",
    "                    )\n",
    "\n",
    "                    threat_first_half[\n",
    "                        per_label_index, reference_label, alt_label\n",
    "                    ] = torch.maximum(\n",
    "                        threat(\n",
    "                            reference_input,\n",
    "                            perturbations,\n",
    "                            threat_specification_first_half,\n",
    "                        ),\n",
    "                        threat_first_half[per_label_index, reference_label, alt_label],\n",
    "                    )\n",
    "\n",
    "                    threat_second_half[\n",
    "                        per_label_index, reference_label, alt_label\n",
    "                    ] = torch.maximum(\n",
    "                        threat(\n",
    "                            reference_input,\n",
    "                            perturbations,\n",
    "                            threat_specification_second_half,\n",
    "                        ),\n",
    "                        threat_second_half[per_label_index, reference_label, alt_label],\n",
    "                    )\n",
    "\n",
    "                    del (\n",
    "                        threat_specification_first_half,\n",
    "                        threat_specification_second_half,\n",
    "                    )\n",
    "\n",
    "            del alt_input\n",
    "            del perturbations\n",
    "\n",
    "        del reference_input\n",
    "        gc.collect()\n",
    "        torch.cuda.empty_cache()\n",
    "\n",
    "    return threat_first_half, threat_second_half"
   ]
  },
  {
   "cell_type": "code",
   "execution_count": null,
   "metadata": {},
   "outputs": [],
   "source": [
    "gc.collect()\n",
    "torch.cuda.empty_cache()"
   ]
  },
  {
   "cell_type": "code",
   "execution_count": null,
   "metadata": {},
   "outputs": [],
   "source": [
    "threat_first_half, threat_second_half = eval_threat(per_label_array, greedy=True, same_eval=False, step=10)"
   ]
  },
  {
   "cell_type": "code",
   "execution_count": 6,
   "metadata": {},
   "outputs": [],
   "source": [
    "threat_first_half = torch.randn(\n",
    "        len(per_label_array),\n",
    "        num_labels,\n",
    "        num_labels,\n",
    "        num_test_data // num_labels,\n",
    "        num_test_data // num_labels,\n",
    "        device=cuda,\n",
    "        )\n",
    "\n",
    "threat_second_half = torch.randn(\n",
    "        len(per_label_array),\n",
    "        num_labels,\n",
    "        num_labels,\n",
    "        num_test_data // num_labels,\n",
    "        num_test_data // num_labels,\n",
    "        device=cuda,\n",
    ")"
   ]
  },
  {
   "cell_type": "code",
   "execution_count": 7,
   "metadata": {},
   "outputs": [],
   "source": [
    "threat_first_half -= torch.min(threat_first_half)\n",
    "threat_second_half -= torch.min(threat_second_half)"
   ]
  },
  {
   "cell_type": "code",
   "execution_count": 8,
   "metadata": {},
   "outputs": [],
   "source": [
    "def compute_threat_statistics(threat_first_half, threat_second_half):\n",
    "    # threat_first_half\n",
    "    # threat_second_half\n",
    "    overall_threat = torch.maximum(threat_first_half, threat_second_half)\n",
    "    relative_diff = torch.abs(threat_first_half - threat_second_half).div(\n",
    "        overall_threat\n",
    "    )\n",
    "\n",
    "    min_threat = torch.zeros(\n",
    "        len(per_label_array), num_labels, num_test_data // num_labels, device='cpu'\n",
    "    )\n",
    "    label_list = torch.arange(0, num_labels)\n",
    "    for per_label_index in range(len(per_label_array)):\n",
    "        for reference_label in range(num_labels):\n",
    "            for index in range(num_test_data // num_labels):\n",
    "                min_threat[per_label_index, reference_label, index] = torch.min(\n",
    "                    torch.flatten(\n",
    "                        overall_threat[per_label_index, reference_label, label_list[label_list != reference_label], index, :],\n",
    "                        start_dim=0,\n",
    "                    )\n",
    "                ).item()\n",
    "\n",
    "    return overall_threat, relative_diff, min_threat\n",
    "    # later I can find misspecification rates based on the threat tensor.\n",
    "    # keep the large tensor threat on cpu always."
   ]
  },
  {
   "cell_type": "code",
   "execution_count": 9,
   "metadata": {},
   "outputs": [],
   "source": [
    "overall_threat, relative_diff, min_threat = compute_threat_statistics(threat_first_half, threat_second_half)"
   ]
  },
  {
   "cell_type": "code",
   "execution_count": 10,
   "metadata": {},
   "outputs": [
    {
     "data": {
      "text/plain": [
       "497500"
      ]
     },
     "execution_count": 10,
     "metadata": {},
     "output_type": "execute_result"
    }
   ],
   "source": [
    "label_list = torch.arange(0, num_labels)\n",
    "num = len(torch.flatten(overall_threat[0,0,label_list[label_list != 0],:,:,],start_dim=0))\n",
    "num"
   ]
  },
  {
   "cell_type": "code",
   "execution_count": 11,
   "metadata": {},
   "outputs": [],
   "source": [
    "relative_diff_flat = torch.zeros(len(per_label_array), num_labels, num, device='cpu')"
   ]
  },
  {
   "cell_type": "code",
   "execution_count": 12,
   "metadata": {},
   "outputs": [],
   "source": [
    "for per_label_index in range(len(per_label_array)):\n",
    "    for label in range(num_labels):\n",
    "        relative_diff_flat = torch.flatten(\n",
    "            relative_diff[\n",
    "                per_label_index,\n",
    "                label,\n",
    "                label_list[label_list != label],\n",
    "                :,\n",
    "                :,\n",
    "            ],\n",
    "            start_dim=0,\n",
    "        )"
   ]
  },
  {
   "cell_type": "code",
   "execution_count": null,
   "metadata": {},
   "outputs": [],
   "source": [
    "for per_label_index in range(len(per_label_array)):\n",
    "    per_label = per_label_array[per_label_index]\n",
    "    print(\"For per-label - \" + str(per_label))\n",
    "    temp = torch.flatten(relative_diff_flat[per_label_index], start_dim=0)\n",
    "    print(torch.min(temp))\n",
    "    print(torch.max(temp))\n",
    "    print(torch.mean(temp))\n",
    "    plt.hist(temp.cpu(), bins=100, label=str(per_label))\n",
    "plt.legend()"
   ]
  },
  {
   "cell_type": "code",
   "execution_count": null,
   "metadata": {},
   "outputs": [],
   "source": [
    "for per_label_index in range(len(per_label_array)):\n",
    "    per_label = per_label_array[per_label_index]\n",
    "    print(\"For per-label - \" + str(per_label))\n",
    "    temp = torch.flatten(min_threat[per_label_index], start_dim=0).cpu()\n",
    "    print(temp.shape)\n",
    "    print(torch.min(temp))\n",
    "    print(torch.max(temp))\n",
    "    print(torch.mean(temp))\n",
    "    plt.figure()\n",
    "    plt.hist(temp, bins=10, label=str(per_label))\n",
    "    plt.legend()"
   ]
  },
  {
   "cell_type": "code",
   "execution_count": 14,
   "metadata": {},
   "outputs": [
    {
     "name": "stdout",
     "output_type": "stream",
     "text": [
      "For per-label - 30\n",
      "torch.Size([10000])\n",
      "tensor(2.3130)\n",
      "tensor(4.2497)\n",
      "tensor(3.6678)\n"
     ]
    },
    {
     "data": {
      "text/plain": [
       "<matplotlib.legend.Legend at 0x7d49b3439d90>"
      ]
     },
     "execution_count": 14,
     "metadata": {},
     "output_type": "execute_result"
    },
    {
     "data": {
      "image/png": "[encoded data removed]",
      "text/plain": [
       "<Figure size 640x480 with 1 Axes>"
      ]
     },
     "metadata": {},
     "output_type": "display_data"
    }
   ],
   "source": [
    "per_label_index = 2\n",
    "per_label = per_label_array[per_label_index]\n",
    "print(\"For per-label - \" + str(per_label))\n",
    "temp = torch.flatten(min_threat[per_label_index], start_dim=0).cpu()\n",
    "print(temp.shape)\n",
    "print(torch.min(temp))\n",
    "print(torch.max(temp))\n",
    "print(torch.mean(temp))\n",
    "plt.hist(temp, bins=4, label=str(per_label))\n",
    "plt.legend()"
   ]
  },
  {
   "cell_type": "code",
   "execution_count": 15,
   "metadata": {},
   "outputs": [
    {
     "data": {
      "text/plain": [
       "<matplotlib.legend.Legend at 0x7d49b1f86d00>"
      ]
     },
     "execution_count": 15,
     "metadata": {},
     "output_type": "execute_result"
    },
    {
     "name": "stderr",
     "output_type": "stream",
     "text": [
      "/cis/home/rmuthuk1/anaconda3/envs/advrob/lib/python3.9/site-packages/IPython/core/pylabtools.py:152: UserWarning: Creating legend with loc=\"best\" can be slow with large amounts of data.\n",
      "  fig.canvas.print_figure(bytes_io, **kw)\n"
     ]
    },
    {
     "data": {
      "image/png": "[encoded data removed]",
      "text/plain": [
       "<Figure size 640x480 with 1 Axes>"
      ]
     },
     "metadata": {},
     "output_type": "display_data"
    }
   ],
   "source": [
    "plt.hist(torch.randn(10000), bins=10, label=str(per_label))\n",
    "plt.legend()"
   ]
  },
  {
   "cell_type": "code",
   "execution_count": null,
   "metadata": {},
   "outputs": [],
   "source": [
    "overall_threat[0][0][0]"
   ]
  },
  {
   "cell_type": "code",
   "execution_count": null,
   "metadata": {},
   "outputs": [],
   "source": [
    "for per_label_index in range(len(per_label_array)):\n",
    "    torch.flatten(relative_diff, start_dim=)"
   ]
  },
  {
   "cell_type": "code",
   "execution_count": null,
   "metadata": {},
   "outputs": [],
   "source": [
    "def compare_threat():\n",
    "    for label1 in range(num_labels):\n",
    "        print(\"At label1 \" + str(label1))\n",
    "\n",
    "        # a = load_class_partition(train=False, label=label1)\n",
    "        a = test_class_partition[label1]\n",
    "        a = move_to_device(a, cuda)\n",
    "\n",
    "        torch.cuda.empty_cache()\n",
    "\n",
    "        for label2 in range(num_labels):\n",
    "            if label2 == label1:\n",
    "                continue\n",
    "\n",
    "            # b = load_class_partition(train=False, label=label2)\n",
    "            b = test_class_partition[label2]\n",
    "            b = move_to_device(b, cuda)\n",
    "\n",
    "            torch.cuda.empty_cache()\n",
    "\n",
    "            for label3 in range(num_labels):\n",
    "                if label3 == label1:\n",
    "                    continue\n",
    "\n",
    "                # c = load_class_partition(train=True, label=label3)\n",
    "                c = train_class_partition[label3]\n",
    "                # c = load_class_partition(train=True, greedy=True, label=label3, num_points=5000)\n",
    "                # c = greedy_train_class_partition[label3]\n",
    "                c = move_to_device(c, cuda)\n",
    "\n",
    "                del c\n",
    "            del b\n",
    "        del a\n",
    "        torch.cuda.empty_cache()\n"
   ]
  },
  {
   "cell_type": "code",
   "execution_count": null,
   "metadata": {},
   "outputs": [],
   "source": [
    "for label1 in range(num_labels):\n",
    "    print(\"At label1 \" + str(label1))\n",
    "\n",
    "    # a = load_class_partition(train=False, label=label1)\n",
    "    a = test_class_partition[label1]\n",
    "    a = move_to_device(a, cuda)\n",
    "\n",
    "    torch.cuda.empty_cache()\n",
    "\n",
    "    for label2 in range(num_labels):\n",
    "        if label2 == label1:\n",
    "            continue\n",
    "\n",
    "        # b = load_class_partition(train=False, label=label2)\n",
    "        b = test_class_partition[label2]\n",
    "        b = move_to_device(b, cuda)\n",
    "\n",
    "        torch.cuda.empty_cache()\n",
    "\n",
    "        for label3 in range(num_labels):\n",
    "            if label3 == label1:\n",
    "                continue\n",
    "\n",
    "            # c = load_class_partition(train=True, label=label3)\n",
    "            c = train_class_partition[label3]\n",
    "            # c = load_class_partition(train=True, greedy=True, label=label3, num_points=5000)\n",
    "            # c = greedy_train_class_partition[label3]\n",
    "            c = move_to_device(c, cuda)\n",
    "\n",
    "            del c\n",
    "        del b\n",
    "    del a\n",
    "    torch.cuda.empty_cache()\n",
    "    "
   ]
  },
  {
   "cell_type": "code",
   "execution_count": null,
   "metadata": {},
   "outputs": [],
   "source": [
    "# misspecification \n",
    "\n",
    "# threat comparison "
   ]
  },
  {
   "cell_type": "code",
   "execution_count": null,
   "metadata": {},
   "outputs": [],
   "source": [
    "#for label in range(200):\n",
    "    #train_str = \"./tiny-imagenet-200/train/train_class_partition_\" + str(label) + \".pt\"\n",
    "    #test_str = \"./tiny-imagenet-200/test/test_class_partition_\" + str(label) + \".pt\"\n",
    "    #train_cp = torch.load(train_str)\n",
    "    #test_cp = torch.load(test_str)"
   ]
  },
  {
   "cell_type": "code",
   "execution_count": null,
   "metadata": {},
   "outputs": [],
   "source": []
  },
  {
   "cell_type": "code",
   "execution_count": null,
   "metadata": {},
   "outputs": [],
   "source": []
  },
  {
   "cell_type": "code",
   "execution_count": null,
   "metadata": {},
   "outputs": [],
   "source": [
    "del train_cp_loaders, test_cp_loaders"
   ]
  },
  {
   "cell_type": "code",
   "execution_count": null,
   "metadata": {},
   "outputs": [],
   "source": [
    "input1 = test_image_partition[13][0]\n",
    "\n",
    "input1.shape"
   ]
  },
  {
   "cell_type": "code",
   "execution_count": null,
   "metadata": {},
   "outputs": [],
   "source": [
    "len(train_image_partition[13])"
   ]
  },
  {
   "cell_type": "code",
   "execution_count": null,
   "metadata": {},
   "outputs": [],
   "source": [
    "for images in train_cp_loaders[10]:\n",
    "    images = move_to_device(images, cuda)\n",
    "    print(images.shape)\n",
    "    diff1 = input1.unsqueeze(0)\n",
    "    diff1 = images-input1\n",
    "    print(diff1.shape)\n",
    "    diff2 = torch.zeros_like(images)\n",
    "    for index in range(len(images)):\n",
    "        diff2[index] = images[index]-input1\n",
    "    \n",
    "    print(diff2.shape)\n",
    "\n",
    "    print(torch.linalg.norm(torch.flatten(diff1-diff2, start_dim=0), ord=2))\n",
    "    # so diff1 and diff2 are the same\n",
    "    diff1 = torch.flatten(diff1, start_dim=1)\n",
    "    print('flat shape is ' + str(diff1.shape))\n",
    "    norms = torch.linalg.norm(diff1, dim=1, ord=2)\n",
    "    print(norms.shape)\n",
    "    break"
   ]
  },
  {
   "cell_type": "code",
   "execution_count": null,
   "metadata": {},
   "outputs": [],
   "source": [
    "val = -0.5\n",
    "val = val * (val > 0)\n",
    "print(val)\n",
    "val < 0.0"
   ]
  },
  {
   "cell_type": "code",
   "execution_count": null,
   "metadata": {},
   "outputs": [],
   "source": [
    "label1 = 13\n",
    "label2 = 97\n",
    "label4 = 49\n",
    "input1 = torch.flatten(test_image_partition[label1],start_dim=1)\n",
    "print(input1.shape)\n",
    "input2 = torch.flatten(test_image_partition[label2], start_dim=1)\n",
    "input4 = torch.flatten(test_image_partition[label4], start_dim=1)\n",
    "print(input2.shape)"
   ]
  },
  {
   "cell_type": "code",
   "execution_count": null,
   "metadata": {},
   "outputs": [],
   "source": [
    "sum(test_labels % 3 == 1)"
   ]
  },
  {
   "cell_type": "code",
   "execution_count": null,
   "metadata": {},
   "outputs": [],
   "source": [
    "len(test_images[(test_labels != label1) * (test_labels % 3 == 1)])"
   ]
  },
  {
   "cell_type": "code",
   "execution_count": null,
   "metadata": {},
   "outputs": [],
   "source": [
    "a = torch.zeros(4,100)\n",
    "b = torch.zeros(5,100)\n",
    "c = - (a.unsqueeze(1) - b)\n",
    "c.shape"
   ]
  },
  {
   "cell_type": "code",
   "execution_count": null,
   "metadata": {},
   "outputs": [],
   "source": [
    "torch.sum(c[2,3] - (a[2]-b[3]))"
   ]
  },
  {
   "cell_type": "code",
   "execution_count": null,
   "metadata": {},
   "outputs": [],
   "source": [
    "perturbation = -(input1.unsqueeze(1) - input2)\n",
    "perturbation.shape"
   ]
  },
  {
   "cell_type": "code",
   "execution_count": null,
   "metadata": {},
   "outputs": [],
   "source": [
    "#trainset = TrainTinyImageNetDataset(id=id_dict, transform=transform)\n",
    "#trainloader2 = torch.utils.data.DataLoader(trainset, batch_size=1024, shuffle=True, num_workers=4)"
   ]
  },
  {
   "cell_type": "code",
   "execution_count": null,
   "metadata": {},
   "outputs": [],
   "source": [
    "label1 = 5\n",
    "    bel2 = 183\n",
    "cuda_new = torch.device(\"cuda:7\")\n",
    "input1 = torch.flatten(test_image_partition[label1], start_dim=1)\n",
    "input1 = input1.to(device=cuda_new)\n",
    "print(\"input1 shape is \" + str(input1.shape))\n",
    "input2 = torch.flatten(\n",
    "    test_images[(test_labels != label1) * (test_labels % 4 == 0)], start_dim=1\n",
    ")\n",
    "input2 = input2.to(device=cuda_new)\n",
    "print(\"input2 shape is \" + str(input2.shape))\n",
    "perturbation = -(input1.unsqueeze(1) - input2)\n",
    "print(\"perturbation shape is \" + str(perturbation.shape))\n",
    "# batch_distances = torch.zeros((len(input1), len(input2), 12), device=cuda)\n",
    "# print('batch_distances shape is ' +str(batch_distances.shape))\n",
    "max_distance = torch.zeros((len(input1), len(input2)), device=cuda_new)\n",
    "\n",
    "count = 0\n",
    "for label3 in range(200):\n",
    "    if label3 % 10 == 0:\n",
    "        print(\"Label3 is now \" + str(label3))\n",
    "    # if count > 0:    break\n",
    "    if label3 == label1:\n",
    "        continue\n",
    "    else:\n",
    "        images3 = move_to_device(\n",
    "            train_image_partition[label3], cuda_new\n",
    "        )  # train_image_partition[label3]\n",
    "        images3 = torch.flatten(images3, start_dim=1)\n",
    "        unsafe_directions = -(input1.unsqueeze(1) - images3)\n",
    "        # print(\"shape of unsafe direction is \" + str(unsafe_directions.shape))\n",
    "        unsafe_norms = torch.linalg.norm(unsafe_directions, dim=2, ord=2) ** 2\n",
    "        # print(\"shape of unsafe normalization is \" + str(unsafe_norms.shape))\n",
    "        unsafe_directions = unsafe_directions / unsafe_norms.unsqueeze(-1)\n",
    "\n",
    "        # print(\"\\nTrying approach 1\")\n",
    "        # print(perturbation.shape)\n",
    "        # print(unsafe_directions.shape)\n",
    "\n",
    "        # for index in range(len(input1)):\n",
    "        #    batch_distances = torch.matmul(\n",
    "        #        perturbation[index], unsafe_directions[index].T\n",
    "        #    )\n",
    "        #    max_distance[index] = torch.maximum(\n",
    "        #        max_distance[index], torch.max(batch_distances, dim=1).values\n",
    "        #    )\n",
    "        #    if index == -1:\n",
    "        #        print(\n",
    "        #            \"At each index, batch_distances shape is \"\n",
    "        #            + str(batch_distances.shape)\n",
    "        #        )\n",
    "        #        print(\"At each index, max_distance at index shape is \" + str(max_distance[index].shape))\n",
    "\n",
    "        # print(\"\\nTrying approach 2\")\n",
    "        # print(perturbation.shape)\n",
    "        # print(unsafe_directions.shape)\n",
    "        batch_distances = torch.bmm(perturbation, unsafe_directions.permute(0, 2, 1))\n",
    "        max_distance = torch.maximum(\n",
    "            torch.max(batch_distances, dim=2).values, max_distance\n",
    "        )\n",
    "        # print(batch_distances_2.shape)\n",
    "        # print('flattening')\n",
    "        # temp1 = torch.flatten(batch_distances, start_dim=0)\n",
    "        # print(temp1.shape)\n",
    "        # temp2 = torch.flatten(batch_distances_2, start_dim=0)\n",
    "        # print(temp2.shape)\n",
    "        # print(torch.linalg.norm(temp1-temp2, ord=1))\n",
    "        # del batch_distances, unsafe_directions, unsafe_norms, images3\n",
    "        count += 1\n",
    "\n",
    "# max_distance = torch.maximum(max_distance)\n",
    "# print(max_distance)\n",
    "# print(\"max distance until label \" + str(label3) + \" is \" + str(max_distance))"
   ]
  },
  {
   "cell_type": "markdown",
   "metadata": {},
   "source": [
    "I need multiple gpus lets say 5. \n",
    "- For each label gpu. \n",
    "\n",
    "measure misspecification and store the values. \n",
    "measure threat comparison, store the values. "
   ]
  },
  {
   "cell_type": "code",
   "execution_count": null,
   "metadata": {},
   "outputs": [],
   "source": [
    "\n"
   ]
  },
  {
   "cell_type": "code",
   "execution_count": null,
   "metadata": {},
   "outputs": [],
   "source": [
    "del input1, input2"
   ]
  },
  {
   "cell_type": "code",
   "execution_count": null,
   "metadata": {},
   "outputs": [],
   "source": [
    "300000*1e-7"
   ]
  },
  {
   "cell_type": "code",
   "execution_count": null,
   "metadata": {},
   "outputs": [],
   "source": [
    "del trainset, testset"
   ]
  },
  {
   "cell_type": "code",
   "execution_count": null,
   "metadata": {},
   "outputs": [],
   "source": [
    "n = len(input1)\n",
    "max_distance = torch.zeros((len(input1), len(input2)), device=cuda)\n",
    "\n",
    "count = 0\n",
    "for label3 in range(200):\n",
    "    if label3 == label1:\n",
    "        continue\n",
    "    \n",
    "    if label3 % 10 == 0:\n",
    "        print('Label3 is now ' + str(label3))\n",
    "    #if count > 0: break \n",
    "\n",
    "    for images3 in train_cp_loaders[label3]:\n",
    "        images3 = move_to_device(images3, cuda)\n",
    "        images3 = torch.flatten(images3, start_dim=1)\n",
    "        unsafe_directions = -(input1.unsqueeze(1) - images3)\n",
    "        #print(unsafe_directions.shape)\n",
    "        unsafe_norms = torch.linalg.norm(unsafe_directions, dim=2, ord=2) ** 2\n",
    "        #print(unsafe_norms.shape)\n",
    "        unsafe_directions = unsafe_directions / unsafe_norms.unsqueeze(\n",
    "            -1\n",
    "        )  # torch.div(unsafe_directions, unsafe_norms)\n",
    "        #print(\"before matmul\")\n",
    "        #print(perturbation.shape)\n",
    "        #print(unsafe_directions.shape)\n",
    "        for index in range(len(input1)):\n",
    "            batch_distances = torch.matmul(perturbation[index], unsafe_directions[index].T)\n",
    "            #print(batch_distances.shape)\n",
    "            max_distance[index] = torch.maximum(max_distance[index], torch.max(batch_distances, dim=1).values)\n",
    "            #print(batch_max_distance.shape)\n",
    "            #print(batch_max_distance)\n",
    "            #max_distance[index] = batch_max_distance * (batch_max_distance > 0)\n",
    "            #print('the distances are now ')\n",
    "            #print(max_distance[index])\n",
    "        #print(\"did it work?\")\n",
    "        #batch_max_distance = torch.max(batch_distances).item()\n",
    "        #batch_max_distance = batch_max_distance * (batch_max_distance > 0)\n",
    "        #print(batch_max_distance)\n",
    "        #max_distance = max(batch_max_distance, max_distance)\n",
    "        count += 1\n",
    "\n",
    "print(max_distance)\n",
    "#print(\"max distance until label \" + str(label3) + \" is \" + str(max_distance))"
   ]
  },
  {
   "cell_type": "code",
   "execution_count": null,
   "metadata": {},
   "outputs": [],
   "source": [
    "min_max_distance_ft = torch.min(max_distance, dim=1).values.cpu().numpy()\n",
    "\n",
    "np.shape(min_max_distance_ft)"
   ]
  },
  {
   "cell_type": "code",
   "execution_count": null,
   "metadata": {},
   "outputs": [],
   "source": [
    "min_max_distance_ft"
   ]
  },
  {
   "cell_type": "code",
   "execution_count": null,
   "metadata": {},
   "outputs": [],
   "source": [
    "len(min_max_distance_ft[min_max_distance_ft < 0.7])*100/len(min_max_distance_ft)"
   ]
  },
  {
   "cell_type": "code",
   "execution_count": null,
   "metadata": {},
   "outputs": [],
   "source": [
    "plt.hist(min_max_distance_ft, bins=5)"
   ]
  },
  {
   "cell_type": "code",
   "execution_count": null,
   "metadata": {},
   "outputs": [],
   "source": [
    "max_distance_ft = torch.flatten(max_distance, start_dim=0).cpu().numpy()"
   ]
  },
  {
   "cell_type": "code",
   "execution_count": null,
   "metadata": {},
   "outputs": [],
   "source": [
    "len(max_distance_ft[max_distance_ft < 0.7])*100/len(max_distance_ft)"
   ]
  },
  {
   "cell_type": "code",
   "execution_count": null,
   "metadata": {},
   "outputs": [],
   "source": [
    "2.16*2500/100"
   ]
  },
  {
   "cell_type": "code",
   "execution_count": null,
   "metadata": {},
   "outputs": [],
   "source": [
    "plt.hist(max_distance_ft, bins=20)"
   ]
  },
  {
   "cell_type": "code",
   "execution_count": null,
   "metadata": {},
   "outputs": [],
   "source": [
    "print(label_dict[89])\n",
    "print(label_dict[90])"
   ]
  },
  {
   "cell_type": "code",
   "execution_count": null,
   "metadata": {},
   "outputs": [],
   "source": [
    "max_distance_ft = torch.flatten(max_distance, start_dim=0).cpu().numpy()\n",
    "print(len(max_distance_ft[max_distance_ft < 1.0]) * 100 / len(max_distance_ft))\n",
    "plt.hist(max_distance_ft, bins=20)"
   ]
  },
  {
   "cell_type": "code",
   "execution_count": null,
   "metadata": {},
   "outputs": [],
   "source": [
    "len(max_distance_ft)"
   ]
  },
  {
   "cell_type": "code",
   "execution_count": null,
   "metadata": {},
   "outputs": [],
   "source": [
    "print(len(max_distance_ft[max_distance_ft < 0.6]) * 100 / len(max_distance_ft))\n"
   ]
  },
  {
   "cell_type": "code",
   "execution_count": null,
   "metadata": {},
   "outputs": [],
   "source": [
    "count = 0\n",
    "label1 = 13\n",
    "label2 = 49\n",
    "\n",
    "for index1 in range(len(test_image_partition[label1])):\n",
    "    if count != 0:\n",
    "        break\n",
    "\n",
    "    input1 = test_image_partition[label1][index1]\n",
    "\n",
    "    for index2 in range(len(test_image_partition[label2])):\n",
    "        if count != 0:\n",
    "            break\n",
    "\n",
    "        input2 = test_image_partition[label2][index2]\n",
    "        perturbation = torch.flatten(input2 - input1, start_dim=0).T\n",
    "        print(\"Perturbation shape is \" + str(perturbation.shape))\n",
    "\n",
    "        max_distance = 0.0\n",
    "\n",
    "        for label3 in range(200):\n",
    "            # if count != 0:\n",
    "            #    break\n",
    "\n",
    "            if label3 == label1:\n",
    "                continue\n",
    "\n",
    "            for images3 in train_cp_loaders[label3]:\n",
    "                images3 = move_to_device(images3, cuda)\n",
    "                unsafe_directions = torch.flatten(\n",
    "                    images3 - input1.unsqueeze(0), start_dim=1\n",
    "                )\n",
    "                # print(unsafe_directions.shape)\n",
    "                unsafe_norms = torch.linalg.norm(unsafe_directions, dim=1, ord=2) ** 2\n",
    "                unsafe_directions = unsafe_directions / unsafe_norms.unsqueeze(\n",
    "                    -1\n",
    "                )  # torch.div(unsafe_directions, unsafe_norms)\n",
    "                # print(unsafe_directions.shape)\n",
    "                batch_distances = torch.matmul(unsafe_directions, perturbation)\n",
    "                batch_max_distance = torch.max(batch_distances).item()\n",
    "                batch_max_distance = batch_max_distance * (batch_max_distance > 0)\n",
    "                print(batch_max_distance)\n",
    "                max_distance = max(batch_max_distance, max_distance)\n",
    "                count += 1\n",
    "\n",
    "            print(\n",
    "                \"max distance until label \" + str(label3) + \" is \" + str(max_distance)\n",
    "            )\n",
    "\n",
    "\n",
    "# overall count should be 10000/50 x 10000/50 x 1000000/100 : 10^4 x 10^4 x 10^6 / 100*2500 = 10^14 / (10^4 x 25) = 10^10/25 = 10^9/2.5 = 4 x 10^8\n",
    "# 4 x 10^8/10^3 = 400,000\n",
    "# for images, labels in testloader:\n",
    "#    if count != 0 and count % 1e3 == 0:\n",
    "#        break\n",
    "#    for images2, labels2 in testloader:\n",
    "#        for label3 in range(200):\n",
    "#            for images3 in train_cp_loaders[label3]:\n",
    "#                # unsafe_directions = images3-images1\n",
    "#                count += 1"
   ]
  },
  {
   "cell_type": "code",
   "execution_count": null,
   "metadata": {},
   "outputs": [],
   "source": [
    "count"
   ]
  },
  {
   "cell_type": "code",
   "execution_count": null,
   "metadata": {},
   "outputs": [],
   "source": [
    "train_cp_loaders[0]"
   ]
  },
  {
   "cell_type": "code",
   "execution_count": null,
   "metadata": {},
   "outputs": [],
   "source": [
    "count = 0\n",
    "\n",
    "# create max distance array of 200 x 50 x 200 x 50 nah this is 100million\n",
    "for label1 in range(200):\n",
    "    print(\"Label1 is at \" + str(label1))\n",
    "\n",
    "    for images1 in test_cp_loaders[label1]:\n",
    "        # shape of images 1 is 50*3*64*64\n",
    "        # maintain max_distance for each image 50*1\n",
    "\n",
    "        for label2 in range(200):\n",
    "            if label2 == label1:\n",
    "                continue\n",
    "\n",
    "            for images2 in test_cp_loaders[label2]:\n",
    "                # shape of images 2 is 50x3x64x64\n",
    "\n",
    "                perturbation = torch.flatten(images2 - images1, start_dim=0)\n",
    "\n",
    "                # i need perturbations to be a tensor of size num(images1) x num(images2) x 3 x 64 x 64\n",
    "                # so perturbations[i,j] is the difference between images2[j] - images1[i]\n",
    "                # flatten perturbations so that perturbations[i,j] is 12288 length 1D tensor \n",
    "                # now for each of these perturbations the source image had label - label1. \n",
    "                # i need perturbations to be a tensor of size 50 x 50 x 3 x 64 x 64 that's 30 million!\n",
    "\n",
    "                for label3 in range(200):\n",
    "                    if label3 == label1:\n",
    "                        continue\n",
    "\n",
    "                    for images3 in train_cp_loaders[label3]:\n",
    "                        unsafe_directions = torch.flatten(images3-images1, start_dim=\n",
    "                        norm_diff = torch.linalg.norm(unsafe_directions)\n",
    "                        u_index = (label//int(label_stride)) * per_label + index\n",
    "                        input = selected_domain[label][index]\n",
    "                        norm_diff = float(\"inf\")\n",
    "                        norm_diff = torch.linalg.norm(torch.flatten(input - reference_input, start_dim=0), ord=2)** 2\n",
    "                        unsafe_dirs[u_index] = (input - reference_input) / norm_diff\n",
    "                        unsafe_normalization[index] = torch.sqrt(norm_diff)\n",
    "\n",
    "\n",
    "                        # i need unsafe directions of num(images1) x num(images3) x 3 x 64 x 64\n",
    "                        # so unsafe[i,k] is the difference between images3[k] - images1[i]\n",
    "                        # flatten unsafe so that unsafe[i,k] is 12288 length 1D tensor\n",
    "                        # create distance matrix out of perturbations[i,j] unsafe[i,k]\n",
    "                        count += 1\n",
    "\n",
    "count"
   ]
  },
  {
   "cell_type": "code",
   "execution_count": null,
   "metadata": {},
   "outputs": [],
   "source": [
    "label = 89\n",
    "num = 4\n",
    "base = torch.randint(0, 500-num-1, (1,)).item()\n",
    "img_select = train_image_partition[label][base:base+num]\n",
    "for i in range(num):\n",
    "    img_min = img_select[i].min()\n",
    "    img_max = img_select[i].max()\n",
    "    img_select[i].clamp_(min=img_min, max=img_max)\n",
    "    img_select[i].add_(-img_min).div_(img_max - img_min + 1e-5)\n",
    "img = torchvision.utils.make_grid(img_select, nrow=num)\n",
    "plt.figure(figsize=(12, 12))\n",
    "plt.imshow(img.cpu().permute(1, 2, 0))"
   ]
  },
  {
   "cell_type": "code",
   "execution_count": null,
   "metadata": {},
   "outputs": [],
   "source": [
    "label = 89\n",
    "num = 4\n",
    "base = torch.randint(0, 50 - num - 1, (1,)).item()\n",
    "#print(base)\n",
    "#print(base + num)\n",
    "#print(len(test_image_partition[label][base : base + num]))\n",
    "img_select = test_image_partition[label][base : base + num]\n",
    "#print(img_select.shape)\n",
    "for i in range(num):\n",
    "    img_min = img_select[i].min()\n",
    "    img_max = img_select[i].max()\n",
    "    img_select[i].clamp_(min=img_min, max=img_max)\n",
    "    img_select[i].add_(-img_min).div_(img_max - img_min + 1e-5)\n",
    "img = torchvision.utils.make_grid(img_select, nrow=num)\n",
    "plt.figure(figsize=(12, 12))\n",
    "plt.imshow(img.cpu().permute(1, 2, 0))"
   ]
  },
  {
   "cell_type": "code",
   "execution_count": null,
   "metadata": {},
   "outputs": [],
   "source": [
    "def get_greedy_subset_partition(domain, num_points):\n",
    "    #print(list(domain.size()))\n",
    "    inp_shape = list(domain.shape)[1:]\n",
    "    subset_shape = [num_points] + inp_shape\n",
    "    rand_index = torch.randint(0,len(domain), (1,)).item()\n",
    "    subset_domain = torch.zeros(subset_shape, device=cuda)\n",
    "    subset_labels = torch.zeros(num_points, dtype=torch.int64, device=cuda)\n",
    "    subset_domain[0] = domain[rand_index]\n",
    "    \n",
    "    domain_flat = torch.flatten(domain, start_dim=1)\n",
    "    for index in range(1, num_points):\n",
    "        sim = pairwise_cosine_similarity(domain_flat, torch.flatten(subset_domain[:index], start_dim=1))\n",
    "        max_sim = torch.max(sim, dim=1).values\n",
    "        selected_index = torch.argmin(max_sim).item()\n",
    "        subset_domain[index] = domain[selected_index]\n",
    "    return subset_domain   \n",
    "\n",
    "def get_greedy_class_subset(domain_partition, num_points):\n",
    "    greedy_train_image_partition = dict()\n",
    "    for label in range(200):\n",
    "        if label%50 == 0:\n",
    "            print('Finding greedy partition for label ' + str(label))\n",
    "        greedy_train_image_partition[label] = get_greedy_subset_partition(domain_partition[label], num_points//200)\n",
    "    return greedy_train_image_partition "
   ]
  },
  {
   "cell_type": "code",
   "execution_count": null,
   "metadata": {},
   "outputs": [],
   "source": [
    "len(test_image_partition[0])"
   ]
  },
  {
   "cell_type": "code",
   "execution_count": null,
   "metadata": {},
   "outputs": [],
   "source": [
    "def compute_unsafe_dir(reference_input, reference_label, selected_domain, beta=1.0, label_stride=None):\n",
    "    per_label = len(selected_domain[0])\n",
    "    num_labels = len(selected_domain)\n",
    "    #print(\"Inside compute unsafe and number of labels is \" + str(num_labels))\n",
    "    num = num_labels * per_label #+ 1 \n",
    "    inp_shape = list(reference_input.shape)\n",
    "\n",
    "    unsafe_dirs = torch.zeros([num] + inp_shape, device=cuda)\n",
    "    unsafe_normalization = torch.ones(num, device=cuda) * float(\"inf\")\n",
    "\n",
    "    for label in range(200):\n",
    "        if label_stride is not None and label % int(label_stride) != 0:\n",
    "            continue\n",
    "\n",
    "        for index in range(per_label):\n",
    "            u_index = (label//int(label_stride)) * per_label + index\n",
    "            input = selected_domain[label][index]\n",
    "            norm_diff = float(\"inf\")\n",
    "            if label != reference_label:\n",
    "                norm_diff = (\n",
    "                    beta\n",
    "                    * torch.linalg.norm(\n",
    "                        torch.flatten(input - reference_input, start_dim=0), ord=2\n",
    "                    )\n",
    "                    ** 2\n",
    "                )\n",
    "                unsafe_dirs[u_index] = (input - reference_input) / norm_diff\n",
    "                unsafe_normalization[index] = torch.sqrt(norm_diff)\n",
    "\n",
    "    #ref_norm = (\n",
    "    #    torch.linalg.norm(torch.flatten(reference_input, start_dim=0), ord=2) ** 2\n",
    "    #)\n",
    "    #unsafe_dirs[-1] = -reference_input / ref_norm\n",
    "    #unsafe_normalization[-1] = torch.sqrt(ref_norm)\n",
    "\n",
    "    return unsafe_dirs, unsafe_normalization"
   ]
  },
  {
   "cell_type": "code",
   "execution_count": null,
   "metadata": {},
   "outputs": [],
   "source": [
    "def compare_threats(data_size, domain, test_domain, label_stride=None):\n",
    "    print(\"Label stride is \" + str(label_stride))\n",
    "    num_label = len(domain)\n",
    "    per_label = len(domain[0])\n",
    "    half_per_label = int(0.5 * per_label)\n",
    "    data_per_label = data_size // num_label\n",
    "    print(\"Data per label is \" + str(data_per_label))\n",
    "    assert data_per_label < int(half_per_label)\n",
    "\n",
    "    test_per_label = len(test_domain[0])\n",
    "\n",
    "    domain_first_half = dict()\n",
    "    domain_second_half = dict()\n",
    "\n",
    "    random_index = 0  # torch.randint(0, half_per_label - data_per_label, (1,)).item()\n",
    "\n",
    "    active_labels = []\n",
    "    for label in range(num_label):\n",
    "        if label_stride is not None and label % int(label_stride) == 0:\n",
    "            active_labels.append(label)\n",
    "    print(\"Active labels are \")\n",
    "    print(active_labels)\n",
    "\n",
    "    for label in range(num_label):\n",
    "        if label_stride is not None and label % int(label_stride) != 0:\n",
    "            continue\n",
    "\n",
    "        domain_first_half[label] = domain[label][\n",
    "            random_index : random_index + data_per_label\n",
    "        ]\n",
    "        domain_second_half[label] = domain[label][\n",
    "            half_per_label\n",
    "            + random_index : half_per_label\n",
    "            + random_index\n",
    "            + data_per_label\n",
    "        ]\n",
    "\n",
    "    # subset_first_half = get_greedy_class_subset(domain_first_half, data_size//2)\n",
    "    # subset_second_half = get_greedy_class_subset(domain_second_half, data_size//2)\n",
    "\n",
    "    all_overall_diff = []\n",
    "    count = 0\n",
    "    overall_diff = 0.0\n",
    "    max_diff = 0.0\n",
    "    avg_threat = 0.0\n",
    "    all_threat_first_half = []\n",
    "    all_threat_second_half = []\n",
    "\n",
    "    for label_1 in range(num_label):\n",
    "        if label_stride is not None and label_1 % int(label_stride) != 0:\n",
    "            continue\n",
    "\n",
    "        # print(\"evaluating threats for label_1 \" + str(label_1))\n",
    "\n",
    "        for index_1 in range(test_per_label):\n",
    "            # if label_1 % 50 == 0 and index_1 % 10 == 0: print('evaluating threats for index_1 ' + str(index_1))\n",
    "            input_1 = test_domain[label_1][index_1]\n",
    "            (\n",
    "                unsafe_dirs_first_half,\n",
    "                _\n",
    "            ) = compute_unsafe_dir(\n",
    "                input_1, label_1, domain_first_half, beta=1.0, label_stride=label_stride\n",
    "            )\n",
    "            (\n",
    "                unsafe_dirs_second_half,\n",
    "                _\n",
    "            ) = compute_unsafe_dir(\n",
    "                input_1,\n",
    "                label_1,\n",
    "                domain_second_half,\n",
    "                beta=1.0,\n",
    "                label_stride=label_stride,\n",
    "            )\n",
    "\n",
    "            unsafe_ft_first_half = torch.flatten(unsafe_dirs_first_half, start_dim=1)\n",
    "            unsafe_ft_second_half = torch.flatten(unsafe_dirs_second_half, start_dim=1)\n",
    "\n",
    "            for label_2 in range(num_label):\n",
    "                if label_1 == label_2:\n",
    "                    continue\n",
    "\n",
    "                if label_stride is not None and label_2 % int(label_stride) != 0:\n",
    "                    continue\n",
    "\n",
    "                for index_2 in range(test_per_label):\n",
    "                    input_2 = test_domain[label_2][index_2]\n",
    "                    perturbation = torch.flatten(input_2 - input_1, start_dim=0).T\n",
    "                    distances_first_half = torch.matmul(\n",
    "                        unsafe_ft_first_half, perturbation\n",
    "                    )\n",
    "                    max_distance_first_half = torch.max(distances_first_half).item()\n",
    "\n",
    "                    distances_second_half = torch.matmul(\n",
    "                        unsafe_ft_second_half, perturbation\n",
    "                    )\n",
    "                    max_distance_second_half = torch.max(distances_second_half).item()\n",
    "\n",
    "                    assert not torch.isnan(distances_second_half).any()\n",
    "                    assert not torch.isnan(distances_first_half).any()\n",
    "\n",
    "                    count += 1\n",
    "                    all_threat_first_half.append(max_distance_first_half)\n",
    "                    all_threat_second_half.append(max_distance_second_half)\n",
    "                    distance_diff = abs(\n",
    "                        max_distance_first_half - max_distance_second_half\n",
    "                    )\n",
    "                    distance_sum = max_distance_first_half + max_distance_second_half\n",
    "                    distance_max = max(\n",
    "                        max_distance_first_half, max_distance_second_half\n",
    "                    )\n",
    "                    if max_diff < distance_diff:\n",
    "                        max_diff = distance_diff\n",
    "                    relative_distance_diff = distance_diff / distance_max\n",
    "                    overall_diff += relative_distance_diff\n",
    "                    all_overall_diff.append(relative_distance_diff)\n",
    "                    avg_threat += distance_sum\n",
    "\n",
    "                del unsafe_dirs_first_half, unsafe_dirs_second_half, unsafe_ft_first_half, unsafe_ft_second_half\n",
    "\n",
    "    overall_diff = overall_diff / count\n",
    "    avg_threat = avg_threat / (2 * count)\n",
    "    print(\"Comparison Experiment with \" + str(data_size) + \" data points\")\n",
    "    print(\"Average threat is \" + str(avg_threat))\n",
    "    print(\"Average threat difference is \" + str(overall_diff))\n",
    "    print(\"Max threat difference is \" + str(max_diff))\n",
    "    print(\"\\n\")\n",
    "    # Plotting a basic histogram\n",
    "    plt.figure()\n",
    "    plt.hist(all_overall_diff, bins=15, color=\"skyblue\", edgecolor=\"black\")\n",
    "    plt.axvline(overall_diff, color=\"green\", linestyle=\"dashed\", linewidth=2)\n",
    "    # Adding labels and title\n",
    "    plt.xlabel(\"Relative Threat Difference\")\n",
    "    plt.ylabel(\"Frequency\")\n",
    "    plt.title(\"Histogram of Relative Threat for \" + str(data_size) + \" data points\")\n",
    "    plt.savefig(\"relative_threat_\" + str(data_size) + \".pdf\")\n",
    "    return (\n",
    "        overall_diff,\n",
    "        max_diff,\n",
    "        avg_threat,\n",
    "        all_overall_diff,\n",
    "        all_threat_first_half,\n",
    "        all_threat_second_half,\n",
    "    )"
   ]
  },
  {
   "cell_type": "code",
   "execution_count": null,
   "metadata": {},
   "outputs": [],
   "source": [
    "torch.linspace(500, 45000, 10, dtype=int)"
   ]
  },
  {
   "cell_type": "code",
   "execution_count": null,
   "metadata": {},
   "outputs": [],
   "source": [
    "data_size_array = torch.linspace(40000, 48000, 10, dtype=int)\n",
    "print(data_size_array)\n",
    "\n",
    "label_stride = 1\n",
    "\n",
    "active_labels = []\n",
    "for label in range(200):\n",
    "    if label % label_stride == 0:\n",
    "        active_labels.append(label)\n",
    "print(active_labels)\n",
    "print('Number of active labels - ' + str(len(active_labels)))\n",
    "\n",
    "word_active_labels = []\n",
    "for label in active_labels:\n",
    "    word_active_labels.append(label_dict[label])\n",
    "print(word_active_labels)\n",
    "\n",
    "overall_diff_array = torch.zeros(len(data_size_array))\n",
    "max_diff_array = torch.zeros(len(data_size_array))\n",
    "avg_threat_array = torch.zeros(len(data_size_array))\n",
    "all_overall_diff_array = []\n",
    "all_overall_threat_first_half = []\n",
    "all_overall_threat_second_half = []\n",
    "for index, data_size in enumerate(data_size_array):\n",
    "    (\n",
    "        overall_diff_array[index],\n",
    "        max_diff_array[index],\n",
    "        avg_threat_array[index], \n",
    "        all_overall_diff,\n",
    "        all_threat_first_half,\n",
    "        all_threat_second_half\n",
    "    ) = compare_threats(\n",
    "        int(data_size.item()), train_image_partition, test_image_partition, label_stride\n",
    "    )\n",
    "    all_overall_diff_array.append(all_overall_diff)\n",
    "    all_overall_threat_first_half.append(all_threat_first_half)\n",
    "    all_overall_threat_second_half.append(all_threat_second_half)\n",
    "\n",
    "print(overall_diff_array)\n",
    "print(max_diff_array)"
   ]
  },
  {
   "cell_type": "code",
   "execution_count": null,
   "metadata": {},
   "outputs": [],
   "source": [
    "len(all_overall_diff_array[0])"
   ]
  },
  {
   "cell_type": "code",
   "execution_count": null,
   "metadata": {},
   "outputs": [],
   "source": [
    "print(len([t for t in all_overall_diff_array[0] if t == 0]))"
   ]
  },
  {
   "cell_type": "code",
   "execution_count": null,
   "metadata": {},
   "outputs": [],
   "source": [
    "all_overall_threat_first_half[0][0:10]"
   ]
  },
  {
   "cell_type": "code",
   "execution_count": null,
   "metadata": {},
   "outputs": [],
   "source": [
    "all_overall_threat_second_half[0][0:10]"
   ]
  },
  {
   "cell_type": "code",
   "execution_count": null,
   "metadata": {},
   "outputs": [],
   "source": [
    "count = 0\n",
    "same_indices = []\n",
    "for index in range(len(all_overall_threat_first_half[0])):\n",
    "    if all_overall_threat_first_half[0][index] == all_overall_threat_second_half[0][index]:\n",
    "        count += 1\n",
    "        same_indices.append(index)\n",
    "print(count)\n",
    "print(same_indices[:10])"
   ]
  },
  {
   "cell_type": "code",
   "execution_count": null,
   "metadata": {},
   "outputs": [],
   "source": [
    "print(len([t for t in all_overall_threat_first_half[0] if t == 0]))\n",
    "print(len([t for t in all_overall_threat_second_half[0] if t == 0]))"
   ]
  },
  {
   "cell_type": "code",
   "execution_count": null,
   "metadata": {},
   "outputs": [],
   "source": [
    "active_labels"
   ]
  },
  {
   "cell_type": "code",
   "execution_count": null,
   "metadata": {},
   "outputs": [],
   "source": [
    "percentage_array = np.zeros(len(data_size_array), 100)\n",
    "percentage_thresholds = torch.logspace(-3,0,100) #torch.linspace(0,1,100)\n",
    "for index, data_size in enumerate(data_size_array):\n",
    "    all_overall_diff = all_overall_diff_array[index]\n",
    "    percentage = []\n",
    "    for threshold_index in range(100):\n",
    "        threshold = percentage_thresholds[threshold_index]\n",
    "        count = 0\n",
    "        for item in all_overall_diff:\n",
    "            if item > threshold:\n",
    "                count += 1\n",
    "        percentage.append(count/len(all_overall_diff))\n",
    "    percentage_array.append(percentage)"
   ]
  },
  {
   "cell_type": "code",
   "execution_count": null,
   "metadata": {},
   "outputs": [],
   "source": [
    "count = 0\n",
    "t = -1\n",
    "for item in all_overall_diff_array[0]:\n",
    "    if item > t:\n",
    "        count += 1\n",
    "count/len(all_overall_diff_array[0])"
   ]
  },
  {
   "cell_type": "code",
   "execution_count": null,
   "metadata": {},
   "outputs": [],
   "source": [
    "percentage_thresholds"
   ]
  },
  {
   "cell_type": "code",
   "execution_count": null,
   "metadata": {},
   "outputs": [],
   "source": [
    "print(human_format(800))\n",
    "print(human_format(5800))\n",
    "print(human_format(45000))"
   ]
  },
  {
   "cell_type": "code",
   "execution_count": null,
   "metadata": {},
   "outputs": [],
   "source": [
    "plt.figure()\n",
    "for index in range(len(data_size_array)):\n",
    "    data_label = roundup(data_size_array[index]/len(active_labels), base_index=2)\n",
    "    data_label_str = human_format(data_label)\n",
    "    plt.plot(percentage_thresholds, percentage_array[index], label=data_label_str)\n",
    "\n",
    "plt.title(\n",
    "    \"Fraction of \"\n",
    "    + r\"$(x, y)$ and $(\\tilde{x}, c)$\"\n",
    "    + \" with relative threat larger than threshold\"\n",
    ")\n",
    "plt.xlabel(\"Threshold for Relative Threat\")\n",
    "plt.ylabel(\"Percentage\")\n",
    "plt.legend()\n",
    "#plt.yscale(\"log\")\n",
    "#plt.xscale(\"log\")\n",
    "plt.savefig(\"percentage_vs_threshold.pdf\")"
   ]
  },
  {
   "cell_type": "code",
   "execution_count": null,
   "metadata": {},
   "outputs": [],
   "source": [
    "percentage = []\n",
    "for index in range(len(avg_threat_array)):\n",
    "    percentage.append(100*overall_diff_array[index].item()/avg_threat_array[index].item())\n",
    "print(percentage)\n",
    "\n",
    "plt.plot(dataset_sizes, percentage, label=\"Relative difference in Threat\")\n",
    "plt.xlabel('Dataset Size (maximum 1750)')\n",
    "plt.ylabel('Relative difference in Threat')\n",
    "#plt.plot(dataset_sizes, overall_diff_array.cpu().numpy(), label=\"Average Difference in Threat\")\n",
    "#plt.plot(dataset_sizes, avg_threat_array.cpu().numpy(), label=\"Average Threat\")"
   ]
  },
  {
   "cell_type": "code",
   "execution_count": null,
   "metadata": {},
   "outputs": [],
   "source": [
    "active_labels = [0, 30, 60, 90, 120, 150, 180]\n",
    "word_active_labels = []\n",
    "for label in active_labels:\n",
    "    word_active_labels.append(label_dict[label])\n",
    "print(word_active_labels)"
   ]
  },
  {
   "cell_type": "code",
   "execution_count": null,
   "metadata": {},
   "outputs": [],
   "source": [
    "word_active_labels[3]"
   ]
  },
  {
   "cell_type": "code",
   "execution_count": null,
   "metadata": {},
   "outputs": [],
   "source": [
    "avg_threat_array"
   ]
  },
  {
   "cell_type": "code",
   "execution_count": null,
   "metadata": {},
   "outputs": [],
   "source": [
    "compare_threats(11500, train_image_partition, test_image_partition)"
   ]
  },
  {
   "cell_type": "code",
   "execution_count": null,
   "metadata": {},
   "outputs": [],
   "source": [
    "greedy_train_image_partition = get_greedy_class_subset(train_image_partition, 2500)"
   ]
  },
  {
   "cell_type": "code",
   "execution_count": null,
   "metadata": {},
   "outputs": [],
   "source": [
    "print(2500//200) \n",
    "greedy_train_image_partition[0].shape"
   ]
  },
  {
   "cell_type": "code",
   "execution_count": null,
   "metadata": {},
   "outputs": [],
   "source": [
    "label = 156\n",
    "base = 0\n",
    "num = 2500//200\n",
    "col = 3\n",
    "print(label_dict[label])\n",
    "img_select = greedy_train_image_partition[label][base:base+num]\n",
    "for i in range(num):\n",
    "    img_min = img_select[i].min()\n",
    "    img_max = img_select[i].max()\n",
    "    img_select[i].clamp_(min=img_min, max=img_max)\n",
    "    img_select[i].add_(-img_min).div_(img_max - img_min + 1e-5)\n",
    "img = torchvision.utils.make_grid(img_select, ncol=col, nrow=num//col)\n",
    "plt.figure(figsize=(12, 12))\n",
    "plt.imshow(img.cpu().permute(1, 2, 0))"
   ]
  },
  {
   "cell_type": "code",
   "execution_count": null,
   "metadata": {},
   "outputs": [],
   "source": [
    "a = torch.randn(5,5)\n",
    "torch.max(a, dim=1).indices"
   ]
  },
  {
   "cell_type": "code",
   "execution_count": null,
   "metadata": {},
   "outputs": [],
   "source": [
    "min_train_scores_all_class = torch.ones(200,200, device=cuda)*float('inf')\n",
    "avg_train_scores_all_class = torch.ones(200,200, device=cuda)*float('inf')\n",
    "minimum_train_label = torch.ones(200, device=cuda)\n",
    "minimum_train_idx = (-1, 1)\n",
    "minimum_train_score = float('inf')\n",
    "minimum_train_label_pairs = (-1, -1)\n",
    "\n",
    "min_test_scores_all_class = torch.ones(200,200, device=cuda)*float('inf')\n",
    "avg_test_scores_all_class = torch.ones(200,200, device=cuda)*float('inf')\n",
    "minimum_test_label = torch.ones(200, device=cuda)\n",
    "minimum_test_idx = (-1, 1)\n",
    "minimum_test_score = float('inf')\n",
    "minimum_test_label_pairs = (-1, -1)\n",
    "\n",
    "for label in range(200):\n",
    "    train_images_ft = torch.flatten(train_image_partition[label], start_dim=1)\n",
    "    test_images_ft = torch.flatten(test_image_partition[label], start_dim=1)\n",
    "    \n",
    "    for diff_label in range(200):\n",
    "        if label == diff_label:\n",
    "            min_train_scores_all_class[label, label] = 1.0\n",
    "            continue \n",
    "\n",
    "        if min_train_scores_all_class[diff_label, label] < float('inf'):\n",
    "            min_train_scores_all_class[label, diff_label] = min_train_scores_all_class[diff_label, label]\n",
    "        \n",
    "        diff_train_images_ft = torch.flatten(greedy_train_image_partition[diff_label], start_dim=1)        \n",
    "        train_pairwise_scores = pairwise_cosine_similarity(train_images_ft, diff_train_images_ft)\n",
    "        train_max_pairwise_score_values = torch.max(train_pairwise_scores, dim=1).values\n",
    "        train_max_pairwise_score_idx = torch.max(train_pairwise_scores, dim=1).indices\n",
    "        min_train_scores_all_class[label, diff_label] = torch.min(train_max_pairwise_score_values).item()\n",
    "        avg_train_scores_all_class[label, diff_label] = torch.mean(train_max_pairwise_score_values).item()\n",
    "\n",
    "        if min_train_scores_all_class[label, diff_label] < minimum_train_score:\n",
    "            minimum_train_score = min_train_scores_all_class[label, diff_label] \n",
    "            minimum_train_label_pairs = (label, diff_label)\n",
    "            train_id1 = torch.argmin(train_max_pairwise_score_values).item()\n",
    "            train_id2 = train_max_pairwise_score_idx[train_id1].item()\n",
    "            minimum_train_idx = (train_id1, train_id2)\n",
    "\n",
    "        test_pairwise_scores = pairwise_cosine_similarity(test_images_ft, diff_train_images_ft)\n",
    "        test_max_pairwise_score_values = torch.max(test_pairwise_scores, dim=1).values\n",
    "        test_max_pairwise_score_idx = torch.max(test_pairwise_scores, dim=1).indices\n",
    "        min_test_scores_all_class[label, diff_label] = torch.min(test_max_pairwise_score_values).item()\n",
    "        avg_test_scores_all_class[label, diff_label] = torch.mean(test_max_pairwise_score_values).item()\n",
    "        \n",
    "        if min_test_scores_all_class[label, diff_label] < minimum_test_score:\n",
    "            minimum_test_score = min_test_scores_all_class[label, diff_label] \n",
    "            minimum_test_label_pairs = (label, diff_label)\n",
    "            test_id1 = torch.argmin(test_max_pairwise_score_values).item()\n",
    "            test_id2 = test_max_pairwise_score_idx[test_id1].item()\n",
    "            minimum_test_idx = (test_id1, test_id2)\n",
    "            \n",
    "print('minimum train score is ' + str(minimum_train_score))\n",
    "print('minimum training score is achieved by label pair - ' + str(minimum_train_label_pairs))\n",
    "print('minimum training score is achieved by input idx - ' + str(minimum_train_idx))\n",
    "print('\\n')\n",
    "print('minimum test score is ' + str(minimum_test_score))\n",
    "print('minimum test score is achieved by label pair - ' + str(minimum_test_label_pairs))\n",
    "print('minimum test score is achieved by input idx - ' + str(minimum_test_idx))\n"
   ]
  },
  {
   "cell_type": "code",
   "execution_count": null,
   "metadata": {},
   "outputs": [],
   "source": [
    "print(label_dict[140])\n",
    "print(label_dict[156])\n",
    "print(label_dict[72])"
   ]
  },
  {
   "cell_type": "code",
   "execution_count": null,
   "metadata": {},
   "outputs": [],
   "source": [
    "min_test_scores_all_class[100]"
   ]
  },
  {
   "cell_type": "code",
   "execution_count": null,
   "metadata": {},
   "outputs": [],
   "source": [
    "avg_test_scores_all_class[100]"
   ]
  },
  {
   "cell_type": "code",
   "execution_count": null,
   "metadata": {},
   "outputs": [],
   "source": [
    "min_train_scores_all_class = torch.ones(200,200, device=cuda)*float('inf')\n",
    "minimum_train_label = torch.ones(200, device=cuda)\n",
    "minimum_train_idx = (-1, 1)\n",
    "minimum_train_score = float('inf')\n",
    "minimum_train_labels = (-1, -1)\n",
    "\n",
    "min_test_scores_all_class = torch.ones(200,200, device=cuda)*float('inf')\n",
    "minimum_test_label = torch.ones(200, device=cuda)\n",
    "minimum_test_idx = (-1, 1)\n",
    "minimum_test_score = float('inf')\n",
    "minimum_test_labels = (-1, -1)\n",
    "\n",
    "for label in range(200):\n",
    "    train_images_ft = torch.flatten(train_image_partition[label], start_dim=1)\n",
    "    test_images_ft = torch.flatten(test_image_partition[label], start_dim=1)\n",
    "    for diff_label in range(200):\n",
    "        greedy_train_images_ft = torch.flatten(greedy_train_image_partition[diff_label], start_dim=1)\n",
    "        train_pairwise_scores = pairwise_cosine_similarity(train_images_ft, greedy_train_images_ft)\n",
    "        train_max_pairwise_score_values = torch.max(train_pairwise_scores, dim=1).values\n",
    "        train_max_pairwise_score_idx = torch.max(train_pairwise_scores, dim=1).indices\n",
    "        min_train_scores_all_class[label, diff_label] = torch.min(train_max_pairwise_score_values).item()\n",
    "        \n",
    "        if min_train_scores_all_class[label, diff_label] < minimum_train_score:\n",
    "            minimum_train_score = min_train_scores_all_class[label, diff_label] \n",
    "            minimum_train_labels = (label, diff_label)\n",
    "            train_id1 = torch.argmin(train_max_pairwise_score_values).item()\n",
    "            train_id2 = train_max_pairwise_score_idx[train_id1].item()\n",
    "            minimum_train_idx = (train_id1, train_id2)\n",
    "\n",
    "        test_pairwise_scores = pairwise_cosine_similarity(test_images_ft, greedy_train_images_ft)\n",
    "        test_max_pairwise_score_values = torch.max(test_pairwise_scores, dim=1).values\n",
    "        test_max_pairwise_score_idx = torch.max(test_pairwise_scores, dim=1).indices\n",
    "        min_test_scores_all_class[label, diff_label] = torch.min(test_max_pairwise_score_values).item()\n",
    "        \n",
    "        if min_test_scores_all_class[label, diff_label] < minimum_test_score:\n",
    "            minimum_test_score = min_test_scores_all_class[label, diff_label] \n",
    "            minimum_test_labels = (label, diff_label)\n",
    "            test_id1 = torch.argmin(test_max_pairwise_score_values).item()\n",
    "            test_id2 = test_max_pairwise_score_idx[test_id1].item()\n",
    "            minimum_test_idx = (test_id1, test_id2)\n",
    "            \n",
    "print('minimum train score is ' + str(minimum_train_score))\n",
    "print('minimum training score is achieved by label pair - ' + str(minimum_train_labels))\n",
    "print('minimum training score is achieved by input idx - ' + str(minimum_train_idx))\n",
    "print('\\n')\n",
    "print('minimum test score is ' + str(minimum_test_score))\n",
    "print('minimum test score is achieved by label pair - ' + str(minimum_test_labels))\n",
    "print('minimum test score is achieved by input idx - ' + str(minimum_test_idx))\n"
   ]
  },
  {
   "cell_type": "code",
   "execution_count": null,
   "metadata": {},
   "outputs": [],
   "source": []
  },
  {
   "cell_type": "code",
   "execution_count": null,
   "metadata": {},
   "outputs": [],
   "source": [
    "\n",
    "print(unsafe_dirs.shape)"
   ]
  },
  {
   "cell_type": "code",
   "execution_count": null,
   "metadata": {},
   "outputs": [],
   "source": [
    "print(reference_input.shape)"
   ]
  },
  {
   "cell_type": "code",
   "execution_count": null,
   "metadata": {},
   "outputs": [],
   "source": [
    "torch.flatten(unsafe_dirs, start_dim=1).shape"
   ]
  },
  {
   "cell_type": "code",
   "execution_count": null,
   "metadata": {},
   "outputs": [],
   "source": [
    "\n",
    "perturbation = train_image_partition[alt_label] - reference_input\n",
    "perturbation.shape"
   ]
  },
  {
   "cell_type": "code",
   "execution_count": null,
   "metadata": {},
   "outputs": [],
   "source": [
    "torch.max(torch.mm(torch.flatten(unsafe_dirs, start_dim=1), torch.flatten(perturbation, start_dim=1).T), dim=0).values.shape"
   ]
  },
  {
   "cell_type": "code",
   "execution_count": null,
   "metadata": {},
   "outputs": [],
   "source": [
    "#alt_input = torch.randn(3, 64, 64, device=cuda)*0.5 + reference_input \n",
    "reference_input_index = 150\n",
    "reference_label = 42\n",
    "alt_label = 49\n",
    "alt_input_index = 20\n",
    "\n",
    "reference_input = train_image_partition[reference_label][reference_input_index]\n",
    "unsafe_dirs, unsafe_normalization = compute_unsafe_dir(reference_input, reference_label, greedy_train_image_partition, beta=1.0)\n",
    "\n",
    "alt_input = train_image_partition[alt_label][alt_input_index]\n",
    "current_perturbation = alt_input - reference_input \n",
    "unsafe_ft = torch.flatten(unsafe_dirs, start_dim=1)\n",
    "num_rounds = 10000\n",
    "epsilon = 0.000001\n",
    "listp = [] \n",
    "listdist = []\n",
    "\n",
    "for t in range(num_rounds):\n",
    "    distances = torch.matmul(unsafe_ft, torch.flatten(current_perturbation, start_dim=0).T)\n",
    "    max_distance = torch.max(distances).item()\n",
    "    if t % 5000 == 0: \n",
    "        print(max_distance)\n",
    "        listp.append(current_perturbation+reference_input)\n",
    "        listdist.append(max_distance)\n",
    "    \n",
    "    if max_distance <= epsilon:\n",
    "        print(\"stopping\")\n",
    "        break\n",
    "    else:\n",
    "        unsafe_index = torch.argmax(distances).item()\n",
    "        u_dir = unsafe_dirs[int(unsafe_index)]\n",
    "        current_perturbation = current_perturbation - (distances[unsafe_index]-epsilon)*u_dir*unsafe_normalization[i]\n",
    "    \n",
    "listp.append(current_perturbation+reference_input)\n",
    "\n",
    "\n",
    "    "
   ]
  },
  {
   "cell_type": "code",
   "execution_count": null,
   "metadata": {},
   "outputs": [],
   "source": [
    "len(listp)"
   ]
  },
  {
   "cell_type": "code",
   "execution_count": null,
   "metadata": {},
   "outputs": [],
   "source": [
    "listdist"
   ]
  },
  {
   "cell_type": "code",
   "execution_count": null,
   "metadata": {},
   "outputs": [],
   "source": [
    "num_p = len(listp)\n",
    "list_t_0 = torch.zeros(num_p, 3, 64, 64, device=cuda)\n",
    "list_t_0[0] = reference_input\n",
    "z_norms_0 = []\n",
    "max_d_0 = [] \n",
    "\n",
    "for i in range(1,num_p):\n",
    "    list_t_0[i] = listp[num_p-1-i]\n",
    "    \n",
    "for i in range(num_p):\n",
    "    pert = list_t_0[i] - reference_input\n",
    "    z_norms_0.append(torch.linalg.norm(torch.flatten(pert, start_dim=0),ord=2).item())\n",
    "    distances = torch.matmul(unsafe_ft, torch.flatten(pert, start_dim=0).T)\n",
    "    max_d_0.append(torch.max(distances).item())\n",
    "\n",
    "for i in range(num_p):\n",
    "    img_min = list_t_0[i].min()\n",
    "    img_max = list_t_0[i].max()\n",
    "    list_t_0[i].clamp_(min=img_min, max=img_max)\n",
    "    list_t_0[i].add_(-img_min).div_(img_max - img_min + 1e-10)\n",
    "img = torchvision.utils.make_grid(list_t_0, nrow=10, ncol=5)\n",
    "print(listdist.reverse())\n",
    "plt.figure(figsize=(12, 12))\n",
    "plt.imshow(img.cpu().permute(1, 2, 0))\n",
    "print(label_dict[reference_label])\n",
    "print(label_dict[alt_label])\n",
    "print(z_norms_0)\n",
    "print(max_d_0)"
   ]
  },
  {
   "cell_type": "code",
   "execution_count": null,
   "metadata": {},
   "outputs": [],
   "source": [
    "num_p = len(listp)\n",
    "list_t_1 = torch.zeros(num_p, 3, 64, 64, device=cuda)\n",
    "list_t_1[0] = reference_input\n",
    "z_norms_1 = []\n",
    "max_d_1 = []\n",
    "\n",
    "for i in range(1,num_p):\n",
    "    list_t_1[i] = reference_input + i/num_p*(alt_input - reference_input) \n",
    "\n",
    "for i in range(num_p):\n",
    "    pert = list_t_1[i] - reference_input\n",
    "    z_norms_1.append(torch.linalg.norm(torch.flatten(pert, start_dim=0),ord=2).item())\n",
    "    distances = torch.matmul(unsafe_ft, torch.flatten(pert, start_dim=0).T)\n",
    "    max_d_1.append(torch.max(distances).item())\n",
    "\n",
    "for i in range(num_p):\n",
    "    img_min = list_t_1[i].min()\n",
    "    img_max = list_t_1[i].max()\n",
    "    list_t_1[i].clamp_(min=img_min, max=img_max)\n",
    "    list_t_1[i].add_(-img_min).div_(img_max - img_min + 1e-10)\n",
    "img = torchvision.utils.make_grid(list_t_1, nrow=10, ncol=5)\n",
    "plt.figure(figsize=(12, 12))\n",
    "plt.imshow(img.cpu().permute(1, 2, 0))\n",
    "print(label_dict[reference_label])\n",
    "print(label_dict[alt_label])\n",
    "print(z_norms_1)\n",
    "print(max_d_1)\n"
   ]
  },
  {
   "cell_type": "code",
   "execution_count": null,
   "metadata": {},
   "outputs": [],
   "source": [
    "print(linalg.norm())"
   ]
  },
  {
   "cell_type": "code",
   "execution_count": null,
   "metadata": {},
   "outputs": [],
   "source": [
    "num_p = len(listp)\n",
    "list_t_2 = torch.zeros(num_p, 3, 64, 64, device=cuda)\n",
    "z = torch.zeros_like(reference_input)\n",
    "z_norms_2 = []\n",
    "max_d_2 = []\n",
    "\n",
    "x_start = 0 \n",
    "x_end = 30\n",
    "y_start = 30\n",
    "y_end = 64\n",
    "\n",
    "list_t_2[0] = reference_input\n",
    "for i in range(1,num_p):\n",
    "    list_t_2[i] = reference_input \n",
    "    list_t_2[i][:, x_start:int((2*i)/num_p*x_end), y_start:int((2*i)/num_p*y_end)] = 0.3 \n",
    "\n",
    "for i in range(num_p):\n",
    "    pert = list_t_2[i] - reference_input\n",
    "    z_norms_2.append(torch.linalg.norm(torch.flatten(pert, start_dim=0),ord=2).item())\n",
    "    distances = torch.matmul(unsafe_ft, torch.flatten(pert, start_dim=0).T)\n",
    "    max_d_2.append(torch.max(distances).item())\n",
    "\n",
    "for i in range(num_p):\n",
    "    img_min = list_t_2[i].min()\n",
    "    img_max = list_t_2[i].max()\n",
    "    list_t_2[i].clamp_(min=img_min, max=img_max)\n",
    "    list_t_2[i].add_(-img_min).div_(img_max - img_min + 1e-10)\n",
    "img = torchvision.utils.make_grid(list_t_2, nrow=10, ncol=5)\n",
    "plt.figure(figsize=(12, 12))\n",
    "plt.imshow(img.cpu().permute(1, 2, 0))\n",
    "print(label_dict[reference_label])\n",
    "print(label_dict[alt_label])\n",
    "print(z_norms_2)\n",
    "print(max_d_2)\n"
   ]
  },
  {
   "cell_type": "code",
   "execution_count": null,
   "metadata": {},
   "outputs": [],
   "source": [
    "list_a = []\n",
    "list_a.extend(list_t_0)\n",
    "list_a.extend(list_t_1)\n",
    "list_a.extend(list_t_2)\n",
    "num = len(list_a)\n",
    "z_norms = z_norms_0 + z_norms_1 + z_norms_2\n",
    "max_d = max_d_0 + max_d_1 + max_d_2 \n",
    "indices = [0, 1, 4, 8]\n",
    "list_new = []\n",
    "list_new.append(list_a[0])\n",
    "list_new.append(list_a[1])\n",
    "list_new.append(list_a[4])\n",
    "list_new.append(list_a[8])\n",
    "list_a = list_new \n",
    "print(len(list_a))\n",
    "\n",
    "for i in range(len(list_a)):\n",
    "    img_min = list_a[i].min()\n",
    "    img_max = list_a[i].max()\n",
    "    list_a[i].clamp_(min=img_min, max=img_max)\n",
    "    list_a[i].add_(-img_min).div_(img_max - img_min + 1e-10)\n",
    "img = torchvision.utils.make_grid(list_a, nrow=10, ncol=5)\n",
    "plt.figure(figsize=(12, 12))\n",
    "plt.imshow(img.cpu().permute(1, 2, 0))\n",
    "print(label_dict[reference_label])\n",
    "print(label_dict[alt_label])\n",
    "print(z_norms)\n",
    "print(max_d)\n",
    "\n"
   ]
  },
  {
   "cell_type": "code",
   "execution_count": null,
   "metadata": {},
   "outputs": [],
   "source": [
    "len(max_d)"
   ]
  },
  {
   "cell_type": "code",
   "execution_count": null,
   "metadata": {},
   "outputs": [],
   "source": [
    "num_p = len(listp)\n",
    "list_t = torch.zeros(num_p, 3, 64, 64, device=cuda)\n",
    "z = torch.zeros_like(reference_input)\n",
    "z_norms = []\n",
    "max_d = []\n",
    "\n",
    "x_start = 45 \n",
    "x_end = 60\n",
    "y_start = 0\n",
    "y_end = 24\n",
    "\n",
    "x_start_2 = 0\n",
    "x_end_2 = 20\n",
    "y_start_2 = 40\n",
    "y_end_2 = 64\n",
    "\n",
    "list_t[0] = reference_input\n",
    "for i in range(1,num_p):\n",
    "    list_t[i] = reference_input \n",
    "    list_t[i][:, x_start:int((2*i)/num_p*x_end), y_start:int((2*i)/num_p*y_end)] = 0.3 \n",
    "    list_t[i][:, x_start_2:int((2*i)/num_p*x_end_2), y_start_2:int((2*i)/num_p*y_end_2)] = 0.3 \n",
    "\n",
    "for i in range(num_p):\n",
    "    pert = list_t[i] - reference_input\n",
    "    z_norms.append(torch.linalg.norm(torch.flatten(pert, start_dim=0),ord=2).item())\n",
    "    distances = torch.matmul(unsafe_ft, torch.flatten(pert, start_dim=0).T)\n",
    "    max_d.append(torch.max(distances).item())\n",
    "\n",
    "for i in range(num_p):\n",
    "    img_min = list_t[i].min()\n",
    "    img_max = list_t[i].max()\n",
    "    list_t[i].clamp_(min=img_min, max=img_max)\n",
    "    list_t[i].add_(-img_min).div_(img_max - img_min + 1e-10)\n",
    "img = torchvision.utils.make_grid(list_t, nrow=10, ncol=5)\n",
    "plt.figure(figsize=(12, 12))\n",
    "plt.imshow(img.cpu().permute(1, 2, 0))\n",
    "print(label_dict[reference_label])\n",
    "print(label_dict[alt_label])\n",
    "print(z_norms)\n",
    "print(max_d)\n"
   ]
  },
  {
   "cell_type": "code",
   "execution_count": null,
   "metadata": {},
   "outputs": [],
   "source": [
    "plt.imshow()"
   ]
  },
  {
   "cell_type": "code",
   "execution_count": null,
   "metadata": {},
   "outputs": [],
   "source": [
    "current_perturbation = perturbation \n",
    "    for t in range(len(num_rounds)):\n",
    "        for (u, M) in zip(unsafe_dir, unsafe_normalization):\n",
    "            if dist_type == 'PL' or dist_type == 'PD':\n",
    "                distance = torch.sum(torch.mul(u, current_perturbation))/M \n",
    "                current_perturbation = current_perturbation - (distance-epsilon)*u\n",
    "                if dist_type == 'PD':\n",
    "                    distance = torch.sum(torch.mul(-u, current_perturbation))/M\n",
    "                    current_perturbation = current_perturbation - (distance-epsilon)*(-u)\n",
    "            else:\n",
    "                continue \n",
    "        \n",
    "        distance = non_isotropic_dist(unsafe_dir, unsafe_normalization, current_perturbation, dist_type=dist_type, return_device=device, return_type=None)\n",
    "        if distance <= epsilon:\n",
    "            break \n",
    "    \n",
    "    distance = non_isotropic_dist(unsafe_dir, unsafe_normalization, current_perturbation, dist_type=dist_type, return_device=device, return_type=None)\n",
    "    \n",
    "    if distance > epsilon:\n",
    "        scale_flag = True\n",
    "        current_perturbation *= (epsilon/distance)\n",
    "  \n"
   ]
  },
  {
   "cell_type": "code",
   "execution_count": null,
   "metadata": {},
   "outputs": [],
   "source": [
    "min_distance = float('inf')\n",
    "per_label = len(greedy_train_image_partition[label])\n",
    "#train_distances = torch.zeros(200, 200, per_label, per_label, device=cuda)\n",
    "for label in range(200):\n",
    "    for input_index in range(per_label):\n",
    "        if label % 25 == 0 and input_index % 10 == 0:\n",
    "            print(\"Finding minimum at label - \" + str(label) + ' and input ' + str(input_index))\n",
    "        reference_input = greedy_train_image_partition[label][input_index]\n",
    "        unsafe_dirs = compute_unsafe_dir(reference_input, label, greedy_train_image_partition, beta=1.0)\n",
    "        \n",
    "        unsafe_ft = torch.flatten(unsafe_dirs, start_dim=1)\n",
    "        for diff_label in range(200):\n",
    "            if label == diff_label: continue \n",
    "            perturbation = greedy_train_image_partition[diff_label] - reference_input\n",
    "            unsafe_x_perturbation = torch.mm(unsafe_ft, torch.flatten(perturbation, start_dim=1).T)\n",
    "            distance_per_perturbation = torch.max(unsafe_x_perturbation, dim=0).values\n",
    "            distance = torch.min(distance_per_perturbation)\n",
    "            \n",
    "            if distance < 0.0:\n",
    "                print('label is ' + str(label))\n",
    "                print('diff label is ' + str(diff_label))\n",
    "                print('distance is ' + str(distance))\n",
    "                break\n",
    "                \n",
    "            if distance < min_distance:\n",
    "                min_distance = distance \n"
   ]
  },
  {
   "cell_type": "code",
   "execution_count": null,
   "metadata": {},
   "outputs": [],
   "source": [
    "200*500*200*500"
   ]
  },
  {
   "cell_type": "code",
   "execution_count": null,
   "metadata": {},
   "outputs": [],
   "source": []
  },
  {
   "cell_type": "code",
   "execution_count": null,
   "metadata": {},
   "outputs": [],
   "source": []
  },
  {
   "cell_type": "code",
   "execution_count": null,
   "metadata": {},
   "outputs": [],
   "source": [
    "def compute_unsafe_dir(reference_input, reference_label, selected_domain, selected_labels, classifier = None, beta=0.7):\n",
    "    assert len(selected_domain) == len(selected_labels)\n",
    "    \n",
    "    unsafe_dirs = torch.zeros_like(selected_domain)\n",
    "    unsafe_normalization = torch.ones(len(selected_domain), device=cuda)*float('inf')\n",
    "    \n",
    "    for (index, input) in enumerate(selected_domain):\n",
    "        norm_diff = torch.linalg.norm(input - reference_input, ord=2)\n",
    "        unsafe_dirs[index] = (input-reference_input)/norm_diff\n",
    "            \n",
    "        if selected_labels[index] != reference_label:\n",
    "            if classifier is not None: \n",
    "                # binary search to compute normalization when the true labeling function is given\n",
    "                low = 0\n",
    "                high = 1\n",
    "                while high - low > 1e-5:\n",
    "                    alpha = (high + low)/2\n",
    "                    input_alpha = reference_input + alpha*(input-reference_input)\n",
    "                    label_alpha = predict_label(classifier, input_alpha)\n",
    "                    if label_alpha == reference_label:\n",
    "                        low = alpha\n",
    "                    else:\n",
    "                        high = alpha\n",
    "                alpha = low\n",
    "                input_alpha = reference_input + alpha*(input-reference_input)\n",
    "                unsafe_normalization[index] = torch.linalg.norm(input_alpha-reference_input, ord=2)\n",
    "            else:\n",
    "                unsafe_normalization[index] = norm_diff*beta \n",
    "    \n",
    "    return unsafe_dirs, unsafe_normalization"
   ]
  },
  {
   "cell_type": "code",
   "execution_count": null,
   "metadata": {},
   "outputs": [],
   "source": [
    "cpu = torch.device(\"cpu\")\n",
    "cpu"
   ]
  },
  {
   "cell_type": "code",
   "execution_count": null,
   "metadata": {},
   "outputs": [],
   "source": [
    "def non_isotropic_dist(unsafe_dir, unsafe_normalization, perturbation, dist_type='PL', return_device='cpu', return_type=None):\n",
    "    if dist_type not in ['PL', 'PD', 'WD']:\n",
    "        raise ValueError('Non-isotropic distance type should be one of PL, PD, WD')\n",
    "    \n",
    "    distance = float('inf')\n",
    "    \n",
    "    element_wise_mul = torch.mul(unsafe_dir, perturbation)\n",
    "    \n",
    "    if dist_type == 'PL' or dist_type == 'PD':\n",
    "        scaled_projections = torch.div(torch.sum(element_wise_mul, dim=1), unsafe_normalization)\n",
    "        if dist_type == 'PL':\n",
    "            distance = torch.max(scaled_projections)\n",
    "        elif dist_type == 'PD':\n",
    "            distance = torch.max(torch.abs(scaled_projections))\n",
    "    \n",
    "    if dist_type == 'WD':\n",
    "        unsafe_4_norm = torch.linalg.norm(unsafe_dir, dim=1, ord=4)**2 # 4-norm\n",
    "        modified_normalization = torch.mul(unsafe_normalization, unsafe_4_norm)\n",
    "        scaled_distances = torch.div(torch.linalg.norm(element_wise_mul, dim=1, ord=2), modified_normalization)\n",
    "        distance = torch.max(scaled_distances)\n",
    "    \n",
    "    distance = distance.detach().to(device=return_device)\n",
    "    \n",
    "    if return_type is not None:\n",
    "        return distance.numpy()\n",
    "    else:\n",
    "        return distance"
   ]
  },
  {
   "cell_type": "code",
   "execution_count": null,
   "metadata": {},
   "outputs": [],
   "source": [
    "def non_isotropic_projection(unsafe_dir, unsafe_normalization, perturbation, epsilon=1.0, dist_type='PL', num_rounds=3):\n",
    "    if dist_type not in ['PL', 'PD', 'WD']:\n",
    "        raise ValueError('Non-isotropic distance type should be one of PL, PD, WD')\n",
    "    \n",
    "    if dist_type == 'WD':\n",
    "        raise ValueError('Projection onto WD currently unsupported')\n",
    "    \n",
    "    device = perturbation.get_device()\n",
    "    scale_flag = False \n",
    "    current_perturbation = perturbation \n",
    "    \n",
    "    for t in range(len(num_rounds)):\n",
    "        for (u, M) in zip(unsafe_dir, unsafe_normalization):\n",
    "            if dist_type == 'PL' or dist_type == 'PD':\n",
    "                distance = torch.sum(torch.mul(u, current_perturbation))/M \n",
    "                current_perturbation = current_perturbation - (distance-epsilon)*u\n",
    "                if dist_type == 'PD':\n",
    "                    distance = torch.sum(torch.mul(-u, current_perturbation))/M\n",
    "                    current_perturbation = current_perturbation - (distance-epsilon)*(-u)\n",
    "            else:\n",
    "                continue \n",
    "        \n",
    "        distance = non_isotropic_dist(unsafe_dir, unsafe_normalization, current_perturbation, dist_type=dist_type, return_device=device, return_type=None)\n",
    "        if distance <= epsilon:\n",
    "            break \n",
    "    \n",
    "    distance = non_isotropic_dist(unsafe_dir, unsafe_normalization, current_perturbation, dist_type=dist_type, return_device=device, return_type=None)\n",
    "    \n",
    "    if distance > epsilon:\n",
    "        scale_flag = True\n",
    "        current_perturbation *= (epsilon/distance)\n",
    "    \n",
    "    return current_perturbation, scale_flag"
   ]
  },
  {
   "cell_type": "code",
   "execution_count": null,
   "metadata": {},
   "outputs": [],
   "source": [
    "distance_types = ['l2', 'l1', 'linf', 'PL', 'PD', 'WD']"
   ]
  },
  {
   "cell_type": "code",
   "execution_count": null,
   "metadata": {},
   "outputs": [],
   "source": [
    "def latexify_dist(dist_type: str):\n",
    "    if dist_type == 'l2': return r'$\\ell_2$'\n",
    "    elif dist_type == 'linf': return r'$\\ell_{\\infty}$'\n",
    "    elif dist_type == 'l1': return r'$\\ell_1$'\n",
    "    else: return dist_type\n",
    "\n",
    "def latexify_inp(index: int):\n",
    "    if index == 0: return r'$x$'\n",
    "    elif index == 1: return r'$x_1$'\n",
    "    elif index == 2: return r'$x_2$'\n",
    "    elif index == 3: return r'$\\tilde{x}$'\n",
    "    \n",
    "def latexify_h(index):\n",
    "    if index is None: return r'$h^{\\star}$'\n",
    "    elif index == 1: return r'$h_1$'\n",
    "    elif index == 2: return r'$h_2$'"
   ]
  },
  {
   "cell_type": "code",
   "execution_count": null,
   "metadata": {},
   "outputs": [],
   "source": [
    "def get_distances(reference_input, reference_label, domain, true_labels, selected_domain = None, selected_labels = None, classifier = None, dist_type='l2'):\n",
    "    print(\"Computing \" + dist_type + \" distances\")\n",
    "    if dist_type not in distance_types:\n",
    "        raise ValueError('Distance type should be one of l2, l1, linf, PL, PD, WD')\n",
    "    \n",
    "    if selected_domain is not None and selected_labels is not None:\n",
    "        assert len(selected_domain) == len(selected_labels)\n",
    "        unsafe_dir, unsafe_normalization = compute_unsafe_dir(reference_input, reference_label, selected_domain, selected_labels, classifier=classifier)\n",
    "    else:\n",
    "        unsafe_dir, unsafe_normalization = compute_unsafe_dir(reference_input, reference_label, domain, true_labels, classifier=classifier)        \n",
    "    \n",
    "    distances = []\n",
    "    for (index, input) in enumerate(domain):\n",
    "        if index % 100 == 0:\n",
    "            clear_output(wait=True)\n",
    "            print(\"Computing distances at index: \" + str(index) +  \", out of \" + str(len(domain) - 1) + \" points.\")\n",
    "        perturbation = input - reference_input\n",
    "        if dist_type == 'l2':\n",
    "            distance = torch.linalg.norm(perturbation, ord=2).detach().cpu().numpy()\n",
    "        elif dist_type == 'l1':\n",
    "            distance = torch.linalg.norm(perturbation, ord=1).detach().cpu().numpy()\n",
    "        elif dist_type == 'linf':\n",
    "            distance = torch.linalg.norm(perturbation, ord=float('inf')).detach().cpu().numpy()\n",
    "        elif dist_type in ['PL', 'PD', 'WD']:\n",
    "            distance = non_isotropic_dist(unsafe_dir, unsafe_normalization, perturbation, dist_type)\n",
    "        distances.append(distance)\n",
    "    return distances\n",
    "\n",
    "def sublevel_set(selected_domain, distances, threshold):\n",
    "    sublevel = []\n",
    "    for input, distance in zip(selected_domain, distances):\n",
    "        if distance <= threshold:\n",
    "            sublevel.append(input.detach().cpu().numpy())\n",
    "    return sublevel"
   ]
  },
  {
   "cell_type": "code",
   "execution_count": null,
   "metadata": {},
   "outputs": [],
   "source": [
    "l_keys = subset_domain_class.keys()\n",
    "print(len(l_keys))"
   ]
  },
  {
   "cell_type": "code",
   "execution_count": null,
   "metadata": {},
   "outputs": [],
   "source": [
    "l_keys_list = list(l_keys)"
   ]
  },
  {
   "cell_type": "code",
   "execution_count": null,
   "metadata": {},
   "outputs": [],
   "source": [
    "l_keys_list[0]"
   ]
  },
  {
   "cell_type": "code",
   "execution_count": null,
   "metadata": {},
   "outputs": [],
   "source": [
    "subset_domain_class[l_keys_list[0]].shape"
   ]
  },
  {
   "cell_type": "code",
   "execution_count": null,
   "metadata": {},
   "outputs": [],
   "source": [
    "for i in range(2):\n",
    "    print(i)"
   ]
  },
  {
   "cell_type": "code",
   "execution_count": null,
   "metadata": {},
   "outputs": [],
   "source": [
    "def generate_distances(reference_domain, reference_labels, domain, true_labels, classifier=h_star, distance_types=distance_types, greedy_subset=False, num_points=100):\n",
    "    selected_domain = None \n",
    "    selected_labels = None \n",
    "    \n",
    "    if greedy_subset:\n",
    "        num_labels = len(torch.unique(true_labels))\n",
    "        subset_domain_class = get_greedy_class_subset(domain, true_labels, num_labels, num_points)\n",
    "        inp_shape = list(domain.shape)[1:]\n",
    "        selected_domain_shape = [num_points] + inp_shape\n",
    "        selected_domain = torch.zeros(selected_domain_shape, device=cuda)\n",
    "        selected_labels = torch.ones(num_points, device=cuda)\n",
    "        label_keys = list(subset_domain_class.keys())\n",
    "        increment = num_points//num_labels\n",
    "        for label_index in range(len(label_keys)):\n",
    "            selected_domain[label_index*increment:(label_index+1)*increment] = subset_domain_class[label_keys[label_index]]\n",
    "            selected_labels[label_index*increment:(label_index+1)*increment] *= label_keys[label_index]\n",
    "\n",
    "    distances = dict()\n",
    "    for dist_type in distance_types:\n",
    "        if greedy_subset and dist_type not in ['PL', 'PD', 'WD']:\n",
    "            continue \n",
    "                \n",
    "        for index in range(len(reference_domain)):\n",
    "            key = \"x\" + str(index) + \"_\" + dist_type\n",
    "            if greedy_subset:\n",
    "                key += \"_greedy_\" + str(num_points)\n",
    "            \n",
    "            distances[key] = get_distances(reference_domain[index], reference_labels[index], domain, true_labels, selected_domain=selected_domain, selected_labels=selected_labels, classifier=classifier, dist_type=dist_type)\n",
    "    \n",
    "    return distances, selected_domain, selected_labels        "
   ]
  },
  {
   "cell_type": "code",
   "execution_count": null,
   "metadata": {},
   "outputs": [],
   "source": [
    "greedy_distances, selected_domain, selected_labels = generate_distances(reference_domain, reference_labels, domain, true_labels, greedy_subset=True, num_points=20)"
   ]
  },
  {
   "cell_type": "code",
   "execution_count": null,
   "metadata": {},
   "outputs": [],
   "source": [
    "greedy_distances.keys()"
   ]
  },
  {
   "cell_type": "code",
   "execution_count": null,
   "metadata": {},
   "outputs": [],
   "source": [
    "def plot_distance_intensity(corners, reference_points, distances, domain, selected_domain=None, distance_types=distance_types, greedy_subset=False, num_points=100):\n",
    "    x0, x1, x2, xtil = reference_points[0], reference_points[1], reference_points[2], reference_points[3]\n",
    "    x_left, y_left, x_right, y_right, x_down, y_down, x_up, y_up = generate_data_domain(corners)\n",
    "    x, y_star, y_1, y_2 = generate_decision_boundary(corners)\n",
    "    \n",
    "    domain_np = domain.cpu().numpy()\n",
    "    domain_x = [d[0] for d in domain_np]\n",
    "    domain_y = [d[1] for d in domain_np]\n",
    "    \n",
    "    for dist_type in distance_types:\n",
    "        if greedy_subset and dist_type not in ['PL', 'PD', 'WD']:\n",
    "            continue \n",
    "        \n",
    "        for index in range(len(reference_points)):\n",
    "            key = \"x\" + str(index) + \"_\" + dist_type\n",
    "            if greedy_subset:\n",
    "                key += \"_greedy_\" + str(num_points)\n",
    "            \n",
    "            distance_domain = distances[key]\n",
    "            plt.figure()\n",
    "            title_str = latexify_dist(dist_type) + \" threat \"\n",
    "            title_str += \" from reference point \" + latexify_inp(index)\n",
    "            plt.title(title_str)\n",
    "            \n",
    "            # plot the data domain\n",
    "            plt.plot(x_left, y_left, color=\"black\", linewidth=3)\n",
    "            plt.plot(x_right, y_right, color=\"black\", linewidth=3)\n",
    "            plt.plot(x_down, y_down, color=\"black\", linewidth=3)\n",
    "            plt.plot(x_up, y_up, color=\"black\", linewidth=3)\n",
    "    \n",
    "            # plot true labeling decision boundary \n",
    "            plt.plot(x, y_star, label=r'$h^{\\star}$', linewidth=3)\n",
    "        \n",
    "            # plot reference points\n",
    "            plt.plot(x0[0], x0[1], color=\"black\", marker=latexify_inp(0), markersize=9)\n",
    "            plt.plot(x1[0], x1[1], color=\"black\", marker=latexify_inp(1), markersize=12)\n",
    "            plt.plot(x2[0], x2[1], color=\"black\", marker=latexify_inp(2), markersize=12)\n",
    "            plt.plot(xtil[0], xtil[1], color='black', marker=latexify_inp(3), markersize=12)\n",
    "            \n",
    "            # Plot the distance intensity map\n",
    "            plt.scatter(domain_x, domain_y, c=distance_domain, s=2, cmap=\"plasma\")\n",
    "            plt.colorbar(orientation='horizontal')\n",
    "            \n",
    "            if selected_domain is not None:\n",
    "                selected_np = selected_domain.cpu().numpy()\n",
    "                selected_x = [d[0] for d in selected_np]\n",
    "                selected_y = [d[1] for d in selected_np]\n",
    "                plt.scatter(selected_x, selected_y, color=\"black\", s=5)\n",
    "    \n",
    "            \n",
    "            plt.axis('off')\n",
    "            plt.savefig(\"./distance_intensity_\" + key + \".pdf\", bbox_inches='tight')"
   ]
  },
  {
   "cell_type": "code",
   "execution_count": null,
   "metadata": {},
   "outputs": [],
   "source": [
    "plot_distance_intensity(corners, reference_points, greedy_distances, domain, selected_domain=selected_domain, greedy_subset=True, num_points=20)   "
   ]
  },
  {
   "cell_type": "code",
   "execution_count": null,
   "metadata": {},
   "outputs": [],
   "source": [
    "# Compute certified threshold for a given point based on its distances matrix and the collection of all points. \n",
    "def compute_certified_threshold(reference_domain, reference_labels, domain, true_labels, distances):\n",
    "    certified_thresholds = dict()\n",
    "    for dist_type in distance_types:\n",
    "        for r_index in range(len(reference_domain)):\n",
    "            key = \"x\" + str(r_index) + \"_\" + dist_type\n",
    "            reference_label = reference_labels[r_index]\n",
    "            threshold = float('inf')\n",
    "            for index in range(len(domain)):\n",
    "                if true_labels[index] != reference_label and threshold > distances[key][index]:\n",
    "                    threshold = distances[key][index]\n",
    "            certified_thresholds[key] = threshold\n",
    "    return certified_thresholds"
   ]
  },
  {
   "cell_type": "code",
   "execution_count": null,
   "metadata": {},
   "outputs": [],
   "source": [
    "reference_labels_h1 = predict_label(h_1, reference_domain)\n",
    "reference_labels_h2 = predict_label(h_2, reference_domain)\n",
    "\n",
    "domain_labels_h1 = predict_label(h_1, domain)\n",
    "domain_labels_h2 = predict_label(h_2, domain)\n",
    "\n",
    "certified_thresholds_hstar = compute_certified_threshold(reference_domain, reference_labels, domain, true_labels, distances)\n",
    "certified_thresholds_h1 = compute_certified_threshold(reference_domain, reference_labels_h1, domain, domain_labels_h1, distances)\n",
    "certified_thresholds_h2 = compute_certified_threshold(reference_domain, reference_labels_h2, domain, domain_labels_h2, distances)"
   ]
  },
  {
   "cell_type": "code",
   "execution_count": null,
   "metadata": {},
   "outputs": [],
   "source": [
    "str(certified_thresholds_hstar['x0_PL'])"
   ]
  },
  {
   "cell_type": "code",
   "execution_count": null,
   "metadata": {},
   "outputs": [],
   "source": [
    "latexify_h(None)"
   ]
  },
  {
   "cell_type": "code",
   "execution_count": null,
   "metadata": {},
   "outputs": [],
   "source": [
    "latexify_dist('l2')"
   ]
  },
  {
   "cell_type": "code",
   "execution_count": null,
   "metadata": {},
   "outputs": [],
   "source": [
    "latexify_inp(0)"
   ]
  },
  {
   "cell_type": "code",
   "execution_count": null,
   "metadata": {},
   "outputs": [],
   "source": [
    "def plot_sublevel_sets(corners, reference_points, distances, domain, certified_thresholds, distance_types=distance_types, h_index=None):\n",
    "    x0, x1, x2, xtil = reference_points[0], reference_points[1], reference_points[2], reference_points[3]\n",
    "    x_left, y_left, x_right, y_right, x_down, y_down, x_up, y_up = generate_data_domain(corners)\n",
    "    x, y_star, y_1, y_2 = generate_decision_boundary(corners)\n",
    "    h_str = \"h\" + str(h_index) if h_index is not None else \"hstar\"\n",
    "            \n",
    "    domain_np = domain.cpu().numpy()\n",
    "    domain_x = [d[0] for d in domain_np]\n",
    "    domain_y = [d[1] for d in domain_np]\n",
    "    \n",
    "    for dist_type in distance_types:\n",
    "        for index in range(len(reference_points)):\n",
    "            key = \"x\" + str(index) + \"_\" + dist_type\n",
    "            distance_domain = distances[key]\n",
    "            certified_threshold = certified_thresholds[key]\n",
    "            cert_str = \"%.2f\" % certified_threshold \n",
    "            title_str = latexify_dist(dist_type) + \" certified threshold for \" + latexify_h(h_index) + \" at \" + latexify_inp(index) + \" is \" + cert_str\n",
    "            plt.figure()\n",
    "            plt.title(title_str)\n",
    "            \n",
    "            # plot the data domain\n",
    "            plt.plot(x_left, y_left, color=\"black\", linewidth=3)\n",
    "            plt.plot(x_right, y_right, color=\"black\", linewidth=3)\n",
    "            plt.plot(x_down, y_down, color=\"black\", linewidth=3)\n",
    "            plt.plot(x_up, y_up, color=\"black\", linewidth=3)\n",
    "    \n",
    "            # plot true labeling decision boundary \n",
    "            plt.plot(x, y_star, label=r'$h^{\\star}$', linewidth=3)\n",
    "            \n",
    "            if h_index == 1:\n",
    "                plt.plot(x, y_1, color='magenta', label=latexify(h_index), linestyle=\"dashed\")\n",
    "                plt.fill_between(x, y1=y_1, y2=y_star, color= \"magenta\", alpha= 0.05, hatch='///')\n",
    "            elif h_index == 2:\n",
    "                plt.plot(x, y_2, color='purple', label=latexify(h_index), linestyle=\"dashed\")\n",
    "                plt.fill_between(x, y1=y_2, y2=y_star, color= \"purple\", alpha= 0.05, hatch='///')\n",
    "    \n",
    "            # plot reference points\n",
    "            plt.plot(x0[0], x0[1], color=\"black\", marker=r\"$x$\", markersize=9)\n",
    "            plt.plot(x1[0], x1[1], color=\"black\", marker=r\"$x_1$\", markersize=12)\n",
    "            plt.plot(x2[0], x2[1], color=\"black\", marker=r\"$x_2$\", markersize=12)\n",
    "            plt.plot(xtil[0], xtil[1], color='black', marker=r'$\\tilde{x}$', markersize=12)\n",
    "            \n",
    "            # Plot the sublevel sets upto certified threshold\n",
    "            epsilons = np.linspace(0, certified_threshold, 5)\n",
    "            for eps in epsilons: \n",
    "                sublevel = sublevel_set(domain, distance_domain, eps)\n",
    "                sublevel_x = [d[0] for d in sublevel]\n",
    "                sublevel_y = [d[1] for d in sublevel]\n",
    "                plt.scatter(sublevel_x, sublevel_y, c='red', s=0.1/(0.1+eps))\n",
    "\n",
    "            plt.axis('off')\n",
    "            plt.savefig(\"./certified threshold_\" + h_str + key + \".pdf\", bbox_inches='tight')\n",
    "\n"
   ]
  },
  {
   "cell_type": "code",
   "execution_count": null,
   "metadata": {},
   "outputs": [],
   "source": [
    "plot_sublevel_sets(corners, reference_points, distances, domain, certified_thresholds_hstar, h_index=None)\n",
    "\n",
    "plot_sublevel_sets(corners, reference_points, distances, domain, certified_thresholds_h1, h_index=1)\n",
    "\n",
    "plot_sublevel_sets(corners, reference_points, distances, domain, certified_thresholds_h2, h_index=2)\n",
    "    "
   ]
  },
  {
   "cell_type": "code",
   "execution_count": null,
   "metadata": {},
   "outputs": [],
   "source": [
    "# unsafe_dir, unsafe_normalization = compute_unsafe_dir(p_ref, domain)\n",
    "# unsafe_pert = []\n",
    "# for d in unsafe_dir:\n",
    "#     unsafe_pert.append(sum(p_ref, d))\n",
    "\n",
    "# unsafe_pert_x = [d.x for d in unsafe_pert]\n",
    "# unsafe_pert_y = [d.y for d in unsafe_pert]\n",
    "\n",
    "\n",
    "# sublevel_PL = sublevel_set(domain, distance_domain_PL, 0.0)\n",
    "\n",
    "# sublevel_PL_x = [d.x for d in sublevel_PL]\n",
    "# sublevel_PL_y = [d.y for d in sublevel_PL]\n",
    "\n",
    "\n",
    "# plt.scatter(sublevel_PL_x, sublevel_PL_y, c='green', s=0.1)\n",
    "# plt.scatter(unsafe_pert_x, unsafe_pert_y, c='red', s=0.1)\n",
    "# #plt.plot([3.8],[0.9], color='black', marker=r'$x$', markersize=9)\n",
    "# #plt.plot([2.7],[0.361], color='red', marker=r'$x_1$', markersize=12)\n",
    "# #plt.plot([1.4],[-0.276], color='red', marker=r'$\\tilde{x}$', markersize=12)\n",
    "# plt.plot([4.94],[0.452], color='red', marker=r'$x_2$', markersize=12)\n",
    "# plt.plot(x, y, color=\"black\", label=\"h*\", linewidth=3)\n",
    "# plt.plot(x1,y1, color=\"black\", linewidth=3)\n",
    "# plt.plot(x2,y2, color=\"black\", linewidth=3)\n",
    "# plt.plot(x3,y3, color=\"black\", linewidth=3)\n",
    "# plt.plot(x4,y4, color=\"black\", linewidth=3)\n",
    "# plt.axis('off')\n",
    "# plt.title(\"x + Unsafe Directions\")"
   ]
  },
  {
   "cell_type": "code",
   "execution_count": null,
   "metadata": {},
   "outputs": [],
   "source": [
    "checking auth. "
   ]
  },
  {
   "cell_type": "markdown",
   "metadata": {},
   "source": [
    "# Things to do\n",
    "\n",
    "## CodeBase \n",
    "- \n",
    "\n",
    "## Code Refactor \n",
    "- Convert point class to torch vector and have functionality that tensors converts to numpy arrays (and check devices) for plotting \n",
    "- Modularize existing code to print all relevant plots and save relevant figures (sublevel sets at p0,p1,p2, p-til)\n",
    "- Save the data domain as a data set. with a tag of \"exact partition\"\n",
    "- Add data-generator code that fixes and samples from grid when asked for \"synthetic2D\"\n",
    "- Add data-generator code that does regular data-loading for \"MNIST, BlockMNIST, CIFAR-x, Imagenet\"\n",
    "- Add dataset-hyperparams for each. \n",
    "\n",
    "## Threat functions \n",
    "- Implement isotropic functions\n",
    "- For each point, compute unsafe directions and exact normalization. \n",
    "- Implement non-isotropic threat functions. \n",
    "\n",
    "## Synthetic2D\n",
    "- Choose synthetic h, h1, h2 and data domain. \n",
    "- Visualize data domain with points p0, p1, p2 and ptil. \n",
    "- Design class-wise marginal input distribution that are tightly concentrated. Sample 500 points for each label. \n",
    "- Find certified radius for each triple (h, x, d) w.r.t each d in distance metrics (N, approx-n, k-approx-N), each x in the data domain, and h in {h*, h1,h2} by searching over sublevel sets. \n",
    "- Visualize as intensity maps. Show variation between h1 and h2. \n",
    "\n",
    "## Observed and k-Observed\n",
    "- Compute unsafe directions with beta normalization w.r.t all sample points. Add resulting distances as observed-PL. \n",
    "- Given any data-set find k-subsets for each class using greedy approximation of cosine similarity. Add resulting distances as k-observed-PL. \n",
    "- Choose beta for normalization based on the minimal norm of all observed unsafe directions that are within a kappa threshold in cosine similarity. \n",
    "- Run through visualization and certification sequence for PL (if exact), observed-PL and k-observed-PL. \n",
    "\n",
    "## Projection\n",
    "- Given a reference point pref, a new point p, Find projection of p to sublevel set Td(pref, epsilon). \n",
    "- Use greedy projection algorithm for each non-isotropic distance. Run T rounds and then scale the iterate if it is still not in the sublevel set. \n",
    "\n",
    "## Augment\n",
    "- N-Mixup \n",
    "- N-Project\n",
    "- Visualize points added according to both on the \"synthetic2D\" dataset. \n",
    "\n",
    "## Attack and Train\n",
    "- N-PGD : Generic PGD + projection onto C set where C is specific by a N-threat function or just a simple threat function. \n",
    "- Adversarial training with N-PGD. \n",
    "- Robust Accuracy evaluation. \n",
    "- Learn tiny neural network on synthetic2D. show N-PGD attack points. \n",
    "\n",
    "## SOTA Evaluation\n",
    "- Import model weights from RobustBench and plug into existing code-base. \n",
    "- Compute robust accuracy under PGD and N-PGD attacks. Show ranking and robust accuracy curves. \n",
    "- Finetune top-5 models with N-Mixup, N-Project and N-adversarial training, show robust accuracy on all combinations and hyperparameter sweeps. \n",
    "\n",
    "\n",
    "## Certified Robustness  \n",
    "- Search over approximation of predictor intensity based on LirPA, plot histograms and certified accuracy curves. \n"
   ]
  },
  {
   "cell_type": "code",
   "execution_count": null,
   "metadata": {},
   "outputs": [],
   "source": []
  },
  {
   "cell_type": "code",
   "execution_count": null,
   "metadata": {},
   "outputs": [],
   "source": []
  }
 ],
 "metadata": {
  "kernelspec": {
   "display_name": "advrob",
   "language": "python",
   "name": "python3"
  },
  "language_info": {
   "codemirror_mode": {
    "name": "ipython",
    "version": 3
   },
   "file_extension": ".py",
   "mimetype": "text/x-python",
   "name": "python",
   "nbconvert_exporter": "python",
   "pygments_lexer": "ipython3",
   "version": "3.9.19"
  }
 },
 "nbformat": 4,
 "nbformat_minor": 2
}
